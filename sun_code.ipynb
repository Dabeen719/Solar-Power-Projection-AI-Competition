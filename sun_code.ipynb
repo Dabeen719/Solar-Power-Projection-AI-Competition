{
 "cells": [
  {
   "cell_type": "markdown",
   "metadata": {},
   "source": [
    "# 라이브러리"
   ]
  },
  {
   "cell_type": "code",
   "execution_count": 1,
   "metadata": {
    "collapsed": true,
    "jupyter": {
     "outputs_hidden": true
    }
   },
   "outputs": [],
   "source": [
    "\n",
    "import pandas as pd\n",
    "import numpy as np\n",
    "import matplotlib.pyplot as plt\n",
    "from IPython.core.interactiveshell import InteractiveShell\n",
    "from sklearn.cluster import KMeans\n",
    "from statsmodels.formula.api import ols\n",
    "import lightgbm\n",
    "import seaborn as sns\n",
    "from sklearn.preprocessing import MinMaxScaler\n",
    "from lightgbm import plot_importance\n",
    "import joblib\n",
    "from itertools import product\n",
    "\n",
    "import warnings\n",
    "warnings.filterwarnings(\"ignore\")\n",
    "\n"
   ]
  },
  {
   "cell_type": "markdown",
   "metadata": {},
   "source": [
    "--------------------------------------------------------"
   ]
  },
  {
   "cell_type": "markdown",
   "metadata": {},
   "source": [
    "--------------------------------------------------------"
   ]
  },
  {
   "cell_type": "markdown",
   "metadata": {},
   "source": [
    "# 함수"
   ]
  },
  {
   "cell_type": "markdown",
   "metadata": {},
   "source": [
    "### mm"
   ]
  },
  {
   "cell_type": "code",
   "execution_count": 2,
   "metadata": {
    "collapsed": true,
    "jupyter": {
     "outputs_hidden": true
    }
   },
   "outputs": [],
   "source": [
    "def mm(x):\n",
    "    if x.mean()!=0:\n",
    "        z=(x.max()-x.min())/x.mean() \n",
    "    else:z=0\n",
    "    return z\n"
   ]
  },
  {
   "cell_type": "markdown",
   "metadata": {},
   "source": [
    "--------------------------------------------------------"
   ]
  },
  {
   "cell_type": "markdown",
   "metadata": {},
   "source": [
    "### linear"
   ]
  },
  {
   "cell_type": "code",
   "execution_count": 3,
   "metadata": {
    "collapsed": true,
    "jupyter": {
     "outputs_hidden": true
    }
   },
   "outputs": [],
   "source": [
    "def linear(x,model,k=2,period=48,seq=48):\n",
    "    value=[]\n",
    "    \n",
    "    for  i in range(0,len(x)-k*period,seq):\n",
    "        res_fit=ols(model,data=x.iloc[range(i,i+k*period+1,period)]).fit()\n",
    "        value.append([res_fit.pvalues[1],res_fit.params[1]])\n",
    "    value=pd.DataFrame(value,columns=[\"p\",\"ceof\"])\n",
    "    day=np.repeat(range(k,int(x.shape[0]/period)+k+1),period/seq)\n",
    "    value[\"Day\"]=day[:value.shape[0]]\n",
    "    return value"
   ]
  },
  {
   "cell_type": "code",
   "execution_count": 4,
   "metadata": {
    "collapsed": true,
    "jupyter": {
     "outputs_hidden": true
    }
   },
   "outputs": [],
   "source": [
    "def linear1(x,p=0.05):\n",
    "    if x['p']<p:\n",
    "        if x['ceof']>0: return \"positice\"\n",
    "        else: return \"negative\"\n",
    "    else: return \"regX\"\n"
   ]
  },
  {
   "cell_type": "code",
   "execution_count": 5,
   "metadata": {
    "collapsed": true,
    "jupyter": {
     "outputs_hidden": true
    }
   },
   "outputs": [],
   "source": [
    "def linear2(x):\n",
    "    if x['ceof']>0: return \"positive\"\n",
    "    else: return \"negative\"\n",
    "   "
   ]
  },
  {
   "cell_type": "markdown",
   "metadata": {},
   "source": [
    "--------------------------------------------------------"
   ]
  },
  {
   "cell_type": "markdown",
   "metadata": {},
   "source": [
    "### km"
   ]
  },
  {
   "cell_type": "code",
   "execution_count": 6,
   "metadata": {
    "collapsed": true,
    "jupyter": {
     "outputs_hidden": true
    }
   },
   "outputs": [],
   "source": [
    "def km_clu(x):\n",
    "    distortions=[]\n",
    "    for i in range(1,11):\n",
    "        km=KMeans(n_clusters=i,\n",
    "                  init=\"k-means++\",\n",
    "                  n_init=10,\n",
    "                  max_iter=300,\n",
    "                  random_state=0)\n",
    "        km.fit(x)\n",
    "        distortions.append(km.inertia_)\n",
    "    plt.plot(range(1,11),distortions,marker=\"o\")\n"
   ]
  },
  {
   "cell_type": "code",
   "execution_count": 7,
   "metadata": {
    "collapsed": true,
    "jupyter": {
     "outputs_hidden": true
    }
   },
   "outputs": [],
   "source": [
    "def plt_scat(data,km,y):\n",
    "    plt.scatter(data[km==y].iloc[:,0],\n",
    "                data[km==y].iloc[:,1],\n",
    "                s=20,\n",
    "                marker=\"o\",\n",
    "                label=str(y)\n",
    "               )\n"
   ]
  },
  {
   "cell_type": "code",
   "execution_count": 8,
   "metadata": {
    "collapsed": true,
    "jupyter": {
     "outputs_hidden": true
    }
   },
   "outputs": [],
   "source": [
    "def scatt(data,km,n=2,auto=True):\n",
    "    \n",
    "    if auto==True:n=len(np.unique(km))\n",
    "    for i in range(n):\n",
    "        plt_scat(data,km,i)\n",
    "    plt.legend(scatterpoints=1)\n",
    "    plt.grid()\n",
    "    plt.tight_layout()\n",
    "    plt.show()"
   ]
  },
  {
   "cell_type": "markdown",
   "metadata": {},
   "source": [
    "--------------------------------------------------------"
   ]
  },
  {
   "cell_type": "markdown",
   "metadata": {},
   "source": [
    "### lihgtgbm"
   ]
  },
  {
   "cell_type": "code",
   "execution_count": 9,
   "metadata": {
    "collapsed": true,
    "jupyter": {
     "outputs_hidden": true
    }
   },
   "outputs": [],
   "source": [
    "from lightgbm import LGBMRegressor\n",
    "\n",
    "# Get the model and the predictiocns in (a) - (b)\n",
    "\n",
    "def LGBM(q, X_train, Y_train, X_valid, Y_valid, X_test,params):\n",
    "    \n",
    "    # (a) Modeling  \n",
    "    model = LGBMRegressor(**params,alpha=q)\n",
    "                         \n",
    "    model.fit(X_train, Y_train, eval_metric = ['quantile'], \n",
    "          eval_set=[(X_valid, Y_valid)], early_stopping_rounds=1000, verbose=500)\n",
    "\n",
    "    # (b) Predictions\n",
    "    pred = pd.Series(model.predict(X_test).round(2))\n",
    "    return pred, model"
   ]
  },
  {
   "cell_type": "code",
   "execution_count": 10,
   "metadata": {
    "collapsed": true,
    "jupyter": {
     "outputs_hidden": true
    }
   },
   "outputs": [],
   "source": [
    "# Target 예측\n",
    "\n",
    "def train_data(X_train, Y_train, X_valid, Y_valid, X_test,params):\n",
    "\n",
    "    LGBM_models=[]\n",
    "    LGBM_actual_pred = pd.DataFrame()\n",
    "\n",
    "    for q in quantiles:\n",
    "        print(q)\n",
    "        pred , model = LGBM(q, X_train, Y_train, X_valid, Y_valid, X_test,params)\n",
    "        LGBM_models.append(model)\n",
    "        LGBM_actual_pred = pd.concat([LGBM_actual_pred,pred],axis=1)\n",
    "\n",
    "    LGBM_actual_pred.columns=quantiles\n",
    "    \n",
    "    return LGBM_models, LGBM_actual_pred"
   ]
  },
  {
   "cell_type": "markdown",
   "metadata": {},
   "source": [
    "--------------------------------------------------------"
   ]
  },
  {
   "cell_type": "markdown",
   "metadata": {},
   "source": [
    "### pinball"
   ]
  },
  {
   "cell_type": "code",
   "execution_count": 11,
   "metadata": {
    "collapsed": true,
    "jupyter": {
     "outputs_hidden": true
    }
   },
   "outputs": [],
   "source": [
    "def pinball(y_true, y_pred,tao):\n",
    "    \n",
    "    pin = np.mean(np.maximum(y_true - y_pred, 0).iloc[:,int(tao*10-1)] * tao +\n",
    "                 np.maximum(y_pred - y_true, 0).iloc[:,int(tao*10-1)] * (1 - tao))\n",
    "    return pin"
   ]
  },
  {
   "cell_type": "code",
   "execution_count": 15,
   "metadata": {
    "collapsed": true,
    "jupyter": {
     "outputs_hidden": true
    }
   },
   "outputs": [],
   "source": [
    "def p_error(path,k,model_n,y_data,day,log=False):\n",
    "    quantiles = [0.1, 0.2, 0.3, 0.4, 0.5, 0.6, 0.7, 0.8, 0.9]\n",
    "    error_1=pd.DataFrame()\n",
    "    if log==True:\n",
    "        y_data=np.exp(y_data)-1\n",
    "    if k>1:\n",
    "        for i in range(k):\n",
    "            for j in range(model_n):\n",
    "                pred=pd.read_csv(\"%sresult%s_%s_fold%s.csv\"%(path,day,j,i))\n",
    "                \n",
    "                if log==True:\n",
    "                    pred=np.exp(pred)-1\n",
    "                    \n",
    "                error=0\n",
    "                for q in quantiles:\n",
    "                    pin=pinball(y_data,pred,q)\n",
    "                    error=error+pin\n",
    "                error_1.loc[\"%s\"%i,\"model_%s\"%j]=error/len(quantiles)\n",
    "    else:\n",
    "        for j in range(model_n):\n",
    "            pred=pd.read_csv(\"%sresult%s_%s.csv\"%(path,day,j))\n",
    "            \n",
    "            if log==True:\n",
    "                pred=np.exp(pred)-1\n",
    "       \n",
    "            error=0\n",
    "            for q in quantiles:\n",
    "                pin=pinball(y_data,pred,q)\n",
    "                error=error+pin\n",
    "            error_1.loc[\"0\",\"model_%s\"%j]=error/len(quantiles)\n",
    "           \n",
    "    return error_1"
   ]
  },
  {
   "cell_type": "markdown",
   "metadata": {},
   "source": [
    "--------------------------------------------------------"
   ]
  },
  {
   "cell_type": "markdown",
   "metadata": {},
   "source": [
    "### submission 예측 불러오기"
   ]
  },
  {
   "cell_type": "code",
   "execution_count": 99,
   "metadata": {
    "collapsed": true,
    "jupyter": {
     "outputs_hidden": true
    }
   },
   "outputs": [],
   "source": [
    "def subb(path,k=1,model_n=1,day=7,log=False):\n",
    "    pred0=np.array(0)\n",
    "    if k>1:\n",
    "        for i in range(k):\n",
    "            \n",
    "            for j in range(model_n):\n",
    "                pred=pd.read_csv(\"%sresult%s_%s_fold%s.csv\"%(path,day,j,i))\n",
    "                \n",
    "                if log==True:\n",
    "                    pred=np.round(np.exp(pred)-1,1)\n",
    "                    \n",
    "                pred0=pred0+pred\n",
    "    \n",
    "    else:\n",
    "        for j in range(model_n):\n",
    "            pred=pd.read_csv(\"%sresult%s_%s.csv\"%(path,day,j))\n",
    "            if log==True:\n",
    "                pred=np.round(np.exp(pred)-1,1)\n",
    "            pred0=pred0+pred\n",
    "\n",
    "    return pred0/(k*model_n)\n",
    "                    "
   ]
  },
  {
   "cell_type": "markdown",
   "metadata": {},
   "source": [
    "--------------------------------------------------------"
   ]
  },
  {
   "cell_type": "markdown",
   "metadata": {},
   "source": [
    "--------------------------------------------------------"
   ]
  },
  {
   "cell_type": "markdown",
   "metadata": {},
   "source": [
    "# 데이터 불러오기 및 전처리"
   ]
  },
  {
   "cell_type": "code",
   "execution_count": 18,
   "metadata": {
    "collapsed": true,
    "jupyter": {
     "outputs_hidden": true
    }
   },
   "outputs": [],
   "source": [
    "train = pd.read_csv('./train.csv')"
   ]
  },
  {
   "cell_type": "markdown",
   "metadata": {},
   "source": [
    "--------------------------------------------------------"
   ]
  },
  {
   "cell_type": "markdown",
   "metadata": {},
   "source": [
    "### SUN "
   ]
  },
  {
   "cell_type": "code",
   "execution_count": 19,
   "metadata": {
    "collapsed": true,
    "jupyter": {
     "outputs_hidden": true
    }
   },
   "outputs": [],
   "source": [
    "train['SUN']=train['DNI']+train['DHI']"
   ]
  },
  {
   "cell_type": "markdown",
   "metadata": {},
   "source": [
    "--------------------------------------------------------"
   ]
  },
  {
   "cell_type": "markdown",
   "metadata": {},
   "source": [
    "### day: rollmean mean std \n",
    "### Hour,Minute: rollmean rollstd "
   ]
  },
  {
   "cell_type": "code",
   "execution_count": 20,
   "metadata": {
    "collapsed": true,
    "jupyter": {
     "outputs_hidden": true
    }
   },
   "outputs": [],
   "source": [
    "col_name=pd.Series(train.columns.tolist())\n",
    "\n",
    "d_std_name=\"d_\"+col_name[3:]+\"_std\"\n",
    "d_mean_name=\"d_\"+col_name[3:]+\"_mean\"\n",
    "d_rollmean_name=\"d_\"+col_name[3:]+\"_rollmean\"\n",
    "\n",
    "\n",
    "h_rollstd_name=\"h_\"+col_name[3:]+\"_rollstd\"\n",
    "h_rollmean_name=\"h_\"+col_name[3:]+\"_rollmean\"\n",
    "\n",
    "train[d_mean_name]=train.groupby('Day')[col_name[3:]].transform(lambda x: x.mean())\n",
    "train[d_std_name]=train.groupby('Day')[col_name[3:]].transform(lambda x: x.std())\n",
    "train[d_rollmean_name]=train.groupby('Day')[col_name[3:]].transform(lambda x: x.rolling(3).mean())\n",
    "\n",
    "train[h_rollstd_name]=train.groupby(['Hour',\"Minute\"])[col_name[3:]].transform(lambda x: x.rolling(3).std())\n",
    "train[h_rollmean_name]=train.groupby(['Hour',\"Minute\"])[col_name[3:]].transform(lambda x: x.rolling(3).mean())\n",
    "                                     "
   ]
  },
  {
   "cell_type": "markdown",
   "metadata": {},
   "source": [
    "--------------------------------------------------------"
   ]
  },
  {
   "cell_type": "markdown",
   "metadata": {},
   "source": [
    "### day: mm\n",
    "### Hour,Minute: mm"
   ]
  },
  {
   "cell_type": "code",
   "execution_count": 21,
   "metadata": {
    "collapsed": true,
    "jupyter": {
     "outputs_hidden": true
    }
   },
   "outputs": [],
   "source": [
    "train[\"d_SUN_mm\"]=train.groupby('Day')['SUN'].transform(mm)\n",
    "train[\"h_SUN_mm\"]=train.groupby([\"Hour\",\"Minute\"])['SUN'].transform(mm)"
   ]
  },
  {
   "cell_type": "markdown",
   "metadata": {},
   "source": [
    "--------------------------------------------------------"
   ]
  },
  {
   "cell_type": "markdown",
   "metadata": {},
   "source": [
    "### reg"
   ]
  },
  {
   "cell_type": "code",
   "execution_count": 22,
   "metadata": {
    "collapsed": true,
    "jupyter": {
     "outputs_hidden": true
    }
   },
   "outputs": [],
   "source": [
    "reg=linear(train,\"d_TARGET_mean~Day\",k=5,seq=48)"
   ]
  },
  {
   "cell_type": "code",
   "execution_count": 23,
   "metadata": {
    "collapsed": true,
    "jupyter": {
     "outputs_hidden": true
    }
   },
   "outputs": [
    {
     "data": {
      "text/html": [
       "<div>\n",
       "<style scoped>\n",
       "    .dataframe tbody tr th:only-of-type {\n",
       "        vertical-align: middle;\n",
       "    }\n",
       "\n",
       "    .dataframe tbody tr th {\n",
       "        vertical-align: top;\n",
       "    }\n",
       "\n",
       "    .dataframe thead th {\n",
       "        text-align: right;\n",
       "    }\n",
       "</style>\n",
       "<table border=\"1\" class=\"dataframe\">\n",
       "  <thead>\n",
       "    <tr style=\"text-align: right;\">\n",
       "      <th></th>\n",
       "      <th>p</th>\n",
       "      <th>ceof</th>\n",
       "      <th>Day</th>\n",
       "    </tr>\n",
       "  </thead>\n",
       "  <tbody>\n",
       "    <tr>\n",
       "      <th>24</th>\n",
       "      <td>0.041148</td>\n",
       "      <td>-1.489038</td>\n",
       "      <td>29</td>\n",
       "    </tr>\n",
       "    <tr>\n",
       "      <th>25</th>\n",
       "      <td>0.007187</td>\n",
       "      <td>-2.145069</td>\n",
       "      <td>30</td>\n",
       "    </tr>\n",
       "    <tr>\n",
       "      <th>26</th>\n",
       "      <td>0.035489</td>\n",
       "      <td>-1.763226</td>\n",
       "      <td>31</td>\n",
       "    </tr>\n",
       "    <tr>\n",
       "      <th>34</th>\n",
       "      <td>0.003587</td>\n",
       "      <td>2.833506</td>\n",
       "      <td>39</td>\n",
       "    </tr>\n",
       "    <tr>\n",
       "      <th>41</th>\n",
       "      <td>0.031267</td>\n",
       "      <td>-2.299923</td>\n",
       "      <td>46</td>\n",
       "    </tr>\n",
       "    <tr>\n",
       "      <th>...</th>\n",
       "      <td>...</td>\n",
       "      <td>...</td>\n",
       "      <td>...</td>\n",
       "    </tr>\n",
       "    <tr>\n",
       "      <th>990</th>\n",
       "      <td>0.046313</td>\n",
       "      <td>-3.651896</td>\n",
       "      <td>995</td>\n",
       "    </tr>\n",
       "    <tr>\n",
       "      <th>991</th>\n",
       "      <td>0.009882</td>\n",
       "      <td>-4.951395</td>\n",
       "      <td>996</td>\n",
       "    </tr>\n",
       "    <tr>\n",
       "      <th>992</th>\n",
       "      <td>0.009587</td>\n",
       "      <td>-4.967010</td>\n",
       "      <td>997</td>\n",
       "    </tr>\n",
       "    <tr>\n",
       "      <th>1032</th>\n",
       "      <td>0.019749</td>\n",
       "      <td>2.264966</td>\n",
       "      <td>1037</td>\n",
       "    </tr>\n",
       "    <tr>\n",
       "      <th>1072</th>\n",
       "      <td>0.021419</td>\n",
       "      <td>-0.920492</td>\n",
       "      <td>1077</td>\n",
       "    </tr>\n",
       "  </tbody>\n",
       "</table>\n",
       "<p>126 rows × 3 columns</p>\n",
       "</div>"
      ],
      "text/plain": [
       "             p      ceof   Day\n",
       "24    0.041148 -1.489038    29\n",
       "25    0.007187 -2.145069    30\n",
       "26    0.035489 -1.763226    31\n",
       "34    0.003587  2.833506    39\n",
       "41    0.031267 -2.299923    46\n",
       "...        ...       ...   ...\n",
       "990   0.046313 -3.651896   995\n",
       "991   0.009882 -4.951395   996\n",
       "992   0.009587 -4.967010   997\n",
       "1032  0.019749  2.264966  1037\n",
       "1072  0.021419 -0.920492  1077\n",
       "\n",
       "[126 rows x 3 columns]"
      ]
     },
     "execution_count": 23,
     "metadata": {},
     "output_type": "execute_result"
    }
   ],
   "source": [
    "reg[reg[\"p\"]<=0.05]"
   ]
  },
  {
   "cell_type": "code",
   "execution_count": 24,
   "metadata": {
    "collapsed": true,
    "jupyter": {
     "outputs_hidden": true
    }
   },
   "outputs": [],
   "source": [
    "reg[\"linear\"]=reg.apply(linear2,axis=1)"
   ]
  },
  {
   "cell_type": "code",
   "execution_count": 25,
   "metadata": {
    "collapsed": true,
    "jupyter": {
     "outputs_hidden": true
    }
   },
   "outputs": [],
   "source": [
    "train=pd.merge(train,reg.loc[:,[\"Day\",\"linear\"]],on=\"Day\",how=\"left\")"
   ]
  },
  {
   "cell_type": "code",
   "execution_count": 26,
   "metadata": {
    "collapsed": true,
    "jupyter": {
     "outputs_hidden": true
    }
   },
   "outputs": [],
   "source": [
    "train[\"linear\"]=train[\"linear\"].astype(\"category\")"
   ]
  },
  {
   "cell_type": "markdown",
   "metadata": {},
   "source": [
    "--------------------------------------------------------"
   ]
  },
  {
   "cell_type": "markdown",
   "metadata": {},
   "source": [
    "### RH_WS_km"
   ]
  },
  {
   "cell_type": "code",
   "execution_count": 27,
   "metadata": {
    "collapsed": true,
    "jupyter": {
     "outputs_hidden": true
    }
   },
   "outputs": [],
   "source": [
    "RH_WS=train[[\"Day\",\"d_RH_mean\",\"d_WS_mean\"]].drop_duplicates([\"Day\"],keep=\"first\")\n",
    "scaler = MinMaxScaler()\n",
    "scaler.fit(RH_WS.iloc[:,1:3])\n",
    "RH_WS2= scaler.transform(RH_WS.iloc[:,1:3])\n",
    "RH_WS2=pd.DataFrame(RH_WS2)\n"
   ]
  },
  {
   "cell_type": "code",
   "execution_count": 28,
   "metadata": {
    "collapsed": true,
    "jupyter": {
     "outputs_hidden": true
    }
   },
   "outputs": [
    {
     "data": {
      "image/png": "[encoded data removed]",
      "text/plain": [
       "<Figure size 432x288 with 1 Axes>"
      ]
     },
     "metadata": {
      "needs_background": "light"
     },
     "output_type": "display_data"
    }
   ],
   "source": [
    "km_clu(RH_WS2)"
   ]
  },
  {
   "cell_type": "code",
   "execution_count": 29,
   "metadata": {
    "collapsed": true,
    "jupyter": {
     "outputs_hidden": true
    }
   },
   "outputs": [],
   "source": [
    "kmm=KMeans(n_clusters=3,\n",
    "             init=\"k-means++\",\n",
    "             n_init=10,\n",
    "             max_iter=300,\n",
    "             random_state=0)\n",
    "RH_WS_km=kmm.fit_predict(RH_WS2)"
   ]
  },
  {
   "cell_type": "code",
   "execution_count": 30,
   "metadata": {
    "collapsed": true,
    "jupyter": {
     "outputs_hidden": true
    }
   },
   "outputs": [],
   "source": [
    "RH_WS[\"RH_WS_km\"]=RH_WS_km"
   ]
  },
  {
   "cell_type": "code",
   "execution_count": 31,
   "metadata": {
    "collapsed": true,
    "jupyter": {
     "outputs_hidden": true
    }
   },
   "outputs": [
    {
     "data": {
      "image/png": "[encoded data removed]",
      "text/plain": [
       "<Figure size 432x288 with 1 Axes>"
      ]
     },
     "metadata": {
      "needs_background": "light"
     },
     "output_type": "display_data"
    }
   ],
   "source": [
    "scatt(RH_WS2,RH_WS_km)"
   ]
  },
  {
   "cell_type": "code",
   "execution_count": 32,
   "metadata": {
    "collapsed": true,
    "jupyter": {
     "outputs_hidden": true
    }
   },
   "outputs": [],
   "source": [
    "train=pd.merge(train,RH_WS.loc[:,[\"Day\",\"RH_WS_km\"]],on=\"Day\",how=\"left\")\n",
    "train[\"RH_WS_km\"]=train[\"RH_WS_km\"].astype(\"category\")"
   ]
  },
  {
   "cell_type": "markdown",
   "metadata": {},
   "source": [
    "--------------------------------------------------------"
   ]
  },
  {
   "cell_type": "markdown",
   "metadata": {},
   "source": [
    "### minmax_scaler"
   ]
  },
  {
   "cell_type": "code",
   "execution_count": 33,
   "metadata": {
    "collapsed": true,
    "jupyter": {
     "outputs_hidden": true
    }
   },
   "outputs": [],
   "source": [
    "scaler2 = MinMaxScaler()\n",
    "scaler2.fit(train[train.columns.difference([\"Day\",\"Hour\",\"Minute\",\"linear\",\"RH_WS_km\",\"TARGET\"])])\n",
    "train_scaler=scaler2.transform(train[train.columns.difference([\"Day\",\"Hour\",\"Minute\",\"linear\",\"RH_WS_km\",\"TARGET\"])])\n",
    "train[train.columns.difference([\"Day\",\"Hour\",\"Minute\",\"linear\",\"RH_WS_km\",\"TARGET\"])]=train_scaler\n"
   ]
  },
  {
   "cell_type": "markdown",
   "metadata": {},
   "source": [
    "--------------------------------------------------------"
   ]
  },
  {
   "cell_type": "markdown",
   "metadata": {},
   "source": [
    "### TARGET log"
   ]
  },
  {
   "cell_type": "code",
   "execution_count": 34,
   "metadata": {
    "collapsed": true,
    "jupyter": {
     "outputs_hidden": true
    }
   },
   "outputs": [],
   "source": [
    "train[\"TARGET\"]=np.log(train[\"TARGET\"]+1)"
   ]
  },
  {
   "cell_type": "markdown",
   "metadata": {},
   "source": [
    "--------------------------------------------------------"
   ]
  },
  {
   "cell_type": "markdown",
   "metadata": {},
   "source": [
    "### 7일 8일 데이터 생성 "
   ]
  },
  {
   "cell_type": "code",
   "execution_count": 35,
   "metadata": {
    "collapsed": true,
    "jupyter": {
     "outputs_hidden": true
    }
   },
   "outputs": [],
   "source": [
    "train['Target1'] = train['TARGET'].shift(-48)\n",
    "train['Target2'] = train['TARGET'].shift(-48*2)     "
   ]
  },
  {
   "cell_type": "code",
   "execution_count": 36,
   "metadata": {
    "collapsed": true,
    "jupyter": {
     "outputs_hidden": true
    }
   },
   "outputs": [],
   "source": [
    "#train=train[(train.Hour>4)&(train.Hour<21)]\n",
    "#train=train.drop([\"TARGET\",\"DHI\",\"DNI\",\"WS\",\"RH\",\"T\",\"SUN\",\"Minute\",\"Hour\",\"Day\"],axis=1)"
   ]
  },
  {
   "cell_type": "markdown",
   "metadata": {},
   "source": [
    "--------------------------------------------------------"
   ]
  },
  {
   "cell_type": "markdown",
   "metadata": {},
   "source": [
    "### NA제거"
   ]
  },
  {
   "cell_type": "code",
   "execution_count": 37,
   "metadata": {
    "collapsed": true,
    "jupyter": {
     "outputs_hidden": true
    }
   },
   "outputs": [],
   "source": [
    "train=train.dropna(axis=0)"
   ]
  },
  {
   "cell_type": "markdown",
   "metadata": {},
   "source": [
    "--------------------------------------------------------"
   ]
  },
  {
   "cell_type": "markdown",
   "metadata": {},
   "source": [
    "# 변수선택"
   ]
  },
  {
   "cell_type": "markdown",
   "metadata": {},
   "source": [
    "#변수 선택 코드"
   ]
  },
  {
   "cell_type": "markdown",
   "metadata": {},
   "source": [
    "## 선택하는 법"
   ]
  },
  {
   "cell_type": "code",
   "execution_count": 33,
   "metadata": {
    "collapsed": true,
    "jupyter": {
     "outputs_hidden": true
    }
   },
   "outputs": [],
   "source": [
    "#Target_list=[\"Target1\",\"Target2\"]\n",
    "#train_name=train.iloc[:,:9].columns.tolist()"
   ]
  },
  {
   "cell_type": "code",
   "execution_count": 34,
   "metadata": {
    "collapsed": true,
    "jupyter": {
     "outputs_hidden": true
    }
   },
   "outputs": [],
   "source": [
    "#select_list=[\"SUN\",\"d_DHI_mean\"]"
   ]
  },
  {
   "cell_type": "code",
   "execution_count": 38,
   "metadata": {
    "collapsed": true,
    "jupyter": {
     "outputs_hidden": true
    }
   },
   "outputs": [],
   "source": [
    "#train.loc[:,train_name+select_list+Target_list]"
   ]
  },
  {
   "cell_type": "markdown",
   "metadata": {},
   "source": [
    "--------------------------------------------------------"
   ]
  },
  {
   "cell_type": "markdown",
   "metadata": {},
   "source": [
    "--------------------------------------------------------"
   ]
  },
  {
   "cell_type": "markdown",
   "metadata": {},
   "source": [
    "### 변수 선택 시도"
   ]
  },
  {
   "cell_type": "code",
   "execution_count": 39,
   "metadata": {
    "collapsed": true,
    "jupyter": {
     "outputs_hidden": true
    }
   },
   "outputs": [],
   "source": [
    "Target_list=[\"Target1\",\"Target2\"]\n",
    "train_name=train.iloc[:,:9].columns.tolist()"
   ]
  },
  {
   "cell_type": "code",
   "execution_count": 40,
   "metadata": {
    "collapsed": true,
    "jupyter": {
     "outputs_hidden": true
    }
   },
   "outputs": [],
   "source": [
    "#변수 이름 보기\n",
    "#train.columns.tolist()"
   ]
  },
  {
   "cell_type": "code",
   "execution_count": 41,
   "metadata": {
    "collapsed": true,
    "jupyter": {
     "outputs_hidden": true
    }
   },
   "outputs": [],
   "source": [
    "select_list=[\"d_DHI_mean\",\"linear\",\"RH_WS_km\",\"d_TARGET_rollmean\",\n",
    "             \"h_TARGET_rollmean\",\"d_SUN_mm\",\"h_SUN_mm\",\"d_TARGET_std\"]\n"
   ]
  },
  {
   "cell_type": "code",
   "execution_count": 42,
   "metadata": {
    "collapsed": true,
    "jupyter": {
     "outputs_hidden": true
    }
   },
   "outputs": [],
   "source": [
    "train=train.loc[:,train_name+select_list+Target_list]"
   ]
  },
  {
   "cell_type": "code",
   "execution_count": 45,
   "metadata": {
    "collapsed": true,
    "jupyter": {
     "outputs_hidden": true
    }
   },
   "outputs": [],
   "source": [
    "train=train.drop([\"Day\",\"Minute\"],axis=1)"
   ]
  },
  {
   "cell_type": "markdown",
   "metadata": {},
   "source": [
    "--------------------------------------------------------"
   ]
  },
  {
   "cell_type": "markdown",
   "metadata": {},
   "source": [
    "## 버리는 법"
   ]
  },
  {
   "cell_type": "code",
   "execution_count": 43,
   "metadata": {
    "collapsed": true,
    "jupyter": {
     "outputs_hidden": true
    }
   },
   "outputs": [],
   "source": [
    "#drop_list = [\"h_RH_rollmean\",\"Day\"]"
   ]
  },
  {
   "cell_type": "code",
   "execution_count": 44,
   "metadata": {
    "collapsed": true,
    "jupyter": {
     "outputs_hidden": true
    }
   },
   "outputs": [],
   "source": [
    "#train = train.drop(drop_list,axis=1)"
   ]
  },
  {
   "cell_type": "markdown",
   "metadata": {},
   "source": [
    "--------------------------------------------------------"
   ]
  },
  {
   "cell_type": "markdown",
   "metadata": {},
   "source": [
    "# 모델링(파라미터찾기용)  "
   ]
  },
  {
   "cell_type": "markdown",
   "metadata": {},
   "source": [
    "## data분할 및 parmeter 수정  "
   ]
  },
  {
   "cell_type": "markdown",
   "metadata": {},
   "source": [
    "--------------------------------------------------------"
   ]
  },
  {
   "cell_type": "markdown",
   "metadata": {},
   "source": [
    "### data분할"
   ]
  },
  {
   "cell_type": "code",
   "execution_count": 46,
   "metadata": {
    "collapsed": true,
    "jupyter": {
     "outputs_hidden": true
    }
   },
   "outputs": [],
   "source": [
    "from sklearn.model_selection import train_test_split\n",
    "\n",
    "X_train_1, X_test_1, Y_train_1, Y_test_1 = train_test_split(train.iloc[:, :-2], train.iloc[:, -2], test_size=0.25, random_state=0)\n",
    "X_train_2, X_test_2, Y_train_2, Y_test_2 = train_test_split(train.iloc[:, :-2], train.iloc[:, -1], test_size=0.25, random_state=0)"
   ]
  },
  {
   "cell_type": "code",
   "execution_count": 47,
   "metadata": {
    "collapsed": true,
    "jupyter": {
     "outputs_hidden": true
    }
   },
   "outputs": [
    {
     "data": {
      "text/html": [
       "<div>\n",
       "<style scoped>\n",
       "    .dataframe tbody tr th:only-of-type {\n",
       "        vertical-align: middle;\n",
       "    }\n",
       "\n",
       "    .dataframe tbody tr th {\n",
       "        vertical-align: top;\n",
       "    }\n",
       "\n",
       "    .dataframe thead th {\n",
       "        text-align: right;\n",
       "    }\n",
       "</style>\n",
       "<table border=\"1\" class=\"dataframe\">\n",
       "  <thead>\n",
       "    <tr style=\"text-align: right;\">\n",
       "      <th></th>\n",
       "      <th>Hour</th>\n",
       "      <th>DHI</th>\n",
       "      <th>DNI</th>\n",
       "      <th>WS</th>\n",
       "      <th>RH</th>\n",
       "      <th>T</th>\n",
       "      <th>TARGET</th>\n",
       "      <th>d_DHI_mean</th>\n",
       "      <th>linear</th>\n",
       "      <th>RH_WS_km</th>\n",
       "      <th>d_TARGET_rollmean</th>\n",
       "      <th>h_TARGET_rollmean</th>\n",
       "      <th>d_SUN_mm</th>\n",
       "      <th>h_SUN_mm</th>\n",
       "      <th>d_TARGET_std</th>\n",
       "      <th>Target1</th>\n",
       "      <th>Target2</th>\n",
       "    </tr>\n",
       "  </thead>\n",
       "  <tbody>\n",
       "    <tr>\n",
       "      <th>242</th>\n",
       "      <td>1</td>\n",
       "      <td>0.0</td>\n",
       "      <td>0.0</td>\n",
       "      <td>0.158333</td>\n",
       "      <td>0.748620</td>\n",
       "      <td>0.370370</td>\n",
       "      <td>0.0</td>\n",
       "      <td>0.146804</td>\n",
       "      <td>negative</td>\n",
       "      <td>1</td>\n",
       "      <td>0.0</td>\n",
       "      <td>0.0</td>\n",
       "      <td>0.204268</td>\n",
       "      <td>0.0</td>\n",
       "      <td>0.312564</td>\n",
       "      <td>0.0</td>\n",
       "      <td>0.0</td>\n",
       "    </tr>\n",
       "    <tr>\n",
       "      <th>243</th>\n",
       "      <td>1</td>\n",
       "      <td>0.0</td>\n",
       "      <td>0.0</td>\n",
       "      <td>0.166667</td>\n",
       "      <td>0.748620</td>\n",
       "      <td>0.370370</td>\n",
       "      <td>0.0</td>\n",
       "      <td>0.146804</td>\n",
       "      <td>negative</td>\n",
       "      <td>1</td>\n",
       "      <td>0.0</td>\n",
       "      <td>0.0</td>\n",
       "      <td>0.204268</td>\n",
       "      <td>0.0</td>\n",
       "      <td>0.312564</td>\n",
       "      <td>0.0</td>\n",
       "      <td>0.0</td>\n",
       "    </tr>\n",
       "    <tr>\n",
       "      <th>244</th>\n",
       "      <td>2</td>\n",
       "      <td>0.0</td>\n",
       "      <td>0.0</td>\n",
       "      <td>0.183333</td>\n",
       "      <td>0.744508</td>\n",
       "      <td>0.370370</td>\n",
       "      <td>0.0</td>\n",
       "      <td>0.146804</td>\n",
       "      <td>negative</td>\n",
       "      <td>1</td>\n",
       "      <td>0.0</td>\n",
       "      <td>0.0</td>\n",
       "      <td>0.204268</td>\n",
       "      <td>0.0</td>\n",
       "      <td>0.312564</td>\n",
       "      <td>0.0</td>\n",
       "      <td>0.0</td>\n",
       "    </tr>\n",
       "    <tr>\n",
       "      <th>245</th>\n",
       "      <td>2</td>\n",
       "      <td>0.0</td>\n",
       "      <td>0.0</td>\n",
       "      <td>0.183333</td>\n",
       "      <td>0.744292</td>\n",
       "      <td>0.351852</td>\n",
       "      <td>0.0</td>\n",
       "      <td>0.146804</td>\n",
       "      <td>negative</td>\n",
       "      <td>1</td>\n",
       "      <td>0.0</td>\n",
       "      <td>0.0</td>\n",
       "      <td>0.204268</td>\n",
       "      <td>0.0</td>\n",
       "      <td>0.312564</td>\n",
       "      <td>0.0</td>\n",
       "      <td>0.0</td>\n",
       "    </tr>\n",
       "    <tr>\n",
       "      <th>246</th>\n",
       "      <td>3</td>\n",
       "      <td>0.0</td>\n",
       "      <td>0.0</td>\n",
       "      <td>0.191667</td>\n",
       "      <td>0.742560</td>\n",
       "      <td>0.351852</td>\n",
       "      <td>0.0</td>\n",
       "      <td>0.146804</td>\n",
       "      <td>negative</td>\n",
       "      <td>1</td>\n",
       "      <td>0.0</td>\n",
       "      <td>0.0</td>\n",
       "      <td>0.204268</td>\n",
       "      <td>0.0</td>\n",
       "      <td>0.312564</td>\n",
       "      <td>0.0</td>\n",
       "      <td>0.0</td>\n",
       "    </tr>\n",
       "    <tr>\n",
       "      <th>...</th>\n",
       "      <td>...</td>\n",
       "      <td>...</td>\n",
       "      <td>...</td>\n",
       "      <td>...</td>\n",
       "      <td>...</td>\n",
       "      <td>...</td>\n",
       "      <td>...</td>\n",
       "      <td>...</td>\n",
       "      <td>...</td>\n",
       "      <td>...</td>\n",
       "      <td>...</td>\n",
       "      <td>...</td>\n",
       "      <td>...</td>\n",
       "      <td>...</td>\n",
       "      <td>...</td>\n",
       "      <td>...</td>\n",
       "      <td>...</td>\n",
       "    </tr>\n",
       "    <tr>\n",
       "      <th>52459</th>\n",
       "      <td>21</td>\n",
       "      <td>0.0</td>\n",
       "      <td>0.0</td>\n",
       "      <td>0.291667</td>\n",
       "      <td>0.523536</td>\n",
       "      <td>0.333333</td>\n",
       "      <td>0.0</td>\n",
       "      <td>0.135636</td>\n",
       "      <td>negative</td>\n",
       "      <td>2</td>\n",
       "      <td>0.0</td>\n",
       "      <td>0.0</td>\n",
       "      <td>0.225764</td>\n",
       "      <td>0.0</td>\n",
       "      <td>0.299886</td>\n",
       "      <td>0.0</td>\n",
       "      <td>0.0</td>\n",
       "    </tr>\n",
       "    <tr>\n",
       "      <th>52460</th>\n",
       "      <td>22</td>\n",
       "      <td>0.0</td>\n",
       "      <td>0.0</td>\n",
       "      <td>0.325000</td>\n",
       "      <td>0.504707</td>\n",
       "      <td>0.314815</td>\n",
       "      <td>0.0</td>\n",
       "      <td>0.135636</td>\n",
       "      <td>negative</td>\n",
       "      <td>2</td>\n",
       "      <td>0.0</td>\n",
       "      <td>0.0</td>\n",
       "      <td>0.225764</td>\n",
       "      <td>0.0</td>\n",
       "      <td>0.299886</td>\n",
       "      <td>0.0</td>\n",
       "      <td>0.0</td>\n",
       "    </tr>\n",
       "    <tr>\n",
       "      <th>52461</th>\n",
       "      <td>22</td>\n",
       "      <td>0.0</td>\n",
       "      <td>0.0</td>\n",
       "      <td>0.341667</td>\n",
       "      <td>0.504491</td>\n",
       "      <td>0.314815</td>\n",
       "      <td>0.0</td>\n",
       "      <td>0.135636</td>\n",
       "      <td>negative</td>\n",
       "      <td>2</td>\n",
       "      <td>0.0</td>\n",
       "      <td>0.0</td>\n",
       "      <td>0.225764</td>\n",
       "      <td>0.0</td>\n",
       "      <td>0.299886</td>\n",
       "      <td>0.0</td>\n",
       "      <td>0.0</td>\n",
       "    </tr>\n",
       "    <tr>\n",
       "      <th>52462</th>\n",
       "      <td>23</td>\n",
       "      <td>0.0</td>\n",
       "      <td>0.0</td>\n",
       "      <td>0.358333</td>\n",
       "      <td>0.528839</td>\n",
       "      <td>0.314815</td>\n",
       "      <td>0.0</td>\n",
       "      <td>0.135636</td>\n",
       "      <td>negative</td>\n",
       "      <td>2</td>\n",
       "      <td>0.0</td>\n",
       "      <td>0.0</td>\n",
       "      <td>0.225764</td>\n",
       "      <td>0.0</td>\n",
       "      <td>0.299886</td>\n",
       "      <td>0.0</td>\n",
       "      <td>0.0</td>\n",
       "    </tr>\n",
       "    <tr>\n",
       "      <th>52463</th>\n",
       "      <td>23</td>\n",
       "      <td>0.0</td>\n",
       "      <td>0.0</td>\n",
       "      <td>0.341667</td>\n",
       "      <td>0.528622</td>\n",
       "      <td>0.314815</td>\n",
       "      <td>0.0</td>\n",
       "      <td>0.135636</td>\n",
       "      <td>negative</td>\n",
       "      <td>2</td>\n",
       "      <td>0.0</td>\n",
       "      <td>0.0</td>\n",
       "      <td>0.225764</td>\n",
       "      <td>0.0</td>\n",
       "      <td>0.299886</td>\n",
       "      <td>0.0</td>\n",
       "      <td>0.0</td>\n",
       "    </tr>\n",
       "  </tbody>\n",
       "</table>\n",
       "<p>50048 rows × 17 columns</p>\n",
       "</div>"
      ],
      "text/plain": [
       "       Hour  DHI  DNI        WS        RH         T  TARGET  d_DHI_mean  \\\n",
       "242       1  0.0  0.0  0.158333  0.748620  0.370370     0.0    0.146804   \n",
       "243       1  0.0  0.0  0.166667  0.748620  0.370370     0.0    0.146804   \n",
       "244       2  0.0  0.0  0.183333  0.744508  0.370370     0.0    0.146804   \n",
       "245       2  0.0  0.0  0.183333  0.744292  0.351852     0.0    0.146804   \n",
       "246       3  0.0  0.0  0.191667  0.742560  0.351852     0.0    0.146804   \n",
       "...     ...  ...  ...       ...       ...       ...     ...         ...   \n",
       "52459    21  0.0  0.0  0.291667  0.523536  0.333333     0.0    0.135636   \n",
       "52460    22  0.0  0.0  0.325000  0.504707  0.314815     0.0    0.135636   \n",
       "52461    22  0.0  0.0  0.341667  0.504491  0.314815     0.0    0.135636   \n",
       "52462    23  0.0  0.0  0.358333  0.528839  0.314815     0.0    0.135636   \n",
       "52463    23  0.0  0.0  0.341667  0.528622  0.314815     0.0    0.135636   \n",
       "\n",
       "         linear RH_WS_km  d_TARGET_rollmean  h_TARGET_rollmean  d_SUN_mm  \\\n",
       "242    negative        1                0.0                0.0  0.204268   \n",
       "243    negative        1                0.0                0.0  0.204268   \n",
       "244    negative        1                0.0                0.0  0.204268   \n",
       "245    negative        1                0.0                0.0  0.204268   \n",
       "246    negative        1                0.0                0.0  0.204268   \n",
       "...         ...      ...                ...                ...       ...   \n",
       "52459  negative        2                0.0                0.0  0.225764   \n",
       "52460  negative        2                0.0                0.0  0.225764   \n",
       "52461  negative        2                0.0                0.0  0.225764   \n",
       "52462  negative        2                0.0                0.0  0.225764   \n",
       "52463  negative        2                0.0                0.0  0.225764   \n",
       "\n",
       "       h_SUN_mm  d_TARGET_std  Target1  Target2  \n",
       "242         0.0      0.312564      0.0      0.0  \n",
       "243         0.0      0.312564      0.0      0.0  \n",
       "244         0.0      0.312564      0.0      0.0  \n",
       "245         0.0      0.312564      0.0      0.0  \n",
       "246         0.0      0.312564      0.0      0.0  \n",
       "...         ...           ...      ...      ...  \n",
       "52459       0.0      0.299886      0.0      0.0  \n",
       "52460       0.0      0.299886      0.0      0.0  \n",
       "52461       0.0      0.299886      0.0      0.0  \n",
       "52462       0.0      0.299886      0.0      0.0  \n",
       "52463       0.0      0.299886      0.0      0.0  \n",
       "\n",
       "[50048 rows x 17 columns]"
      ]
     },
     "execution_count": 47,
     "metadata": {},
     "output_type": "execute_result"
    }
   ],
   "source": [
    "train"
   ]
  },
  {
   "cell_type": "code",
   "execution_count": 48,
   "metadata": {
    "collapsed": true,
    "jupyter": {
     "outputs_hidden": true
    }
   },
   "outputs": [],
   "source": [
    "quantiles = [0.1, 0.2, 0.3, 0.4, 0.5, 0.6, 0.7, 0.8, 0.9]"
   ]
  },
  {
   "cell_type": "markdown",
   "metadata": {},
   "source": [
    "#test y만들기"
   ]
  },
  {
   "cell_type": "code",
   "execution_count": 49,
   "metadata": {
    "collapsed": true,
    "jupyter": {
     "outputs_hidden": true
    }
   },
   "outputs": [
    {
     "data": {
      "text/plain": [
       "array([[4.0882957 , 4.0882957 , 4.0882957 , ..., 4.0882957 , 4.0882957 ,\n",
       "        4.0882957 ],\n",
       "       [0.        , 0.        , 0.        , ..., 0.        , 0.        ,\n",
       "        0.        ],\n",
       "       [4.29246852, 4.29246852, 4.29246852, ..., 4.29246852, 4.29246852,\n",
       "        4.29246852],\n",
       "       ...,\n",
       "       [0.        , 0.        , 0.        , ..., 0.        , 0.        ,\n",
       "        0.        ],\n",
       "       [0.        , 0.        , 0.        , ..., 0.        , 0.        ,\n",
       "        0.        ],\n",
       "       [4.4357472 , 4.4357472 , 4.4357472 , ..., 4.4357472 , 4.4357472 ,\n",
       "        4.4357472 ]])"
      ]
     },
     "execution_count": 49,
     "metadata": {},
     "output_type": "execute_result"
    }
   ],
   "source": [
    "y7_test=pd.DataFrame()\n",
    "for i in quantiles:\n",
    "    y7_test[\"%s\"%i]=Y_test_1\n",
    "y7_test=np.array(y7_test)\n",
    "y7_test"
   ]
  },
  {
   "cell_type": "code",
   "execution_count": 50,
   "metadata": {
    "collapsed": true,
    "jupyter": {
     "outputs_hidden": true
    }
   },
   "outputs": [
    {
     "data": {
      "text/plain": [
       "array([[3.21218023, 3.21218023, 3.21218023, ..., 3.21218023, 3.21218023,\n",
       "        3.21218023],\n",
       "       [0.        , 0.        , 0.        , ..., 0.        , 0.        ,\n",
       "        0.        ],\n",
       "       [4.33020336, 4.33020336, 4.33020336, ..., 4.33020336, 4.33020336,\n",
       "        4.33020336],\n",
       "       ...,\n",
       "       [0.        , 0.        , 0.        , ..., 0.        , 0.        ,\n",
       "        0.        ],\n",
       "       [0.        , 0.        , 0.        , ..., 0.        , 0.        ,\n",
       "        0.        ],\n",
       "       [2.16260437, 2.16260437, 2.16260437, ..., 2.16260437, 2.16260437,\n",
       "        2.16260437]])"
      ]
     },
     "execution_count": 50,
     "metadata": {},
     "output_type": "execute_result"
    }
   ],
   "source": [
    "y8_test=pd.DataFrame()\n",
    "for i in quantiles:\n",
    "    y8_test[\"%s\"%i]=Y_test_2\n",
    "y8_test=np.array(y8_test)\n",
    "y8_test"
   ]
  },
  {
   "cell_type": "markdown",
   "metadata": {},
   "source": [
    "--------------------------------------------------------"
   ]
  },
  {
   "cell_type": "markdown",
   "metadata": {},
   "source": [
    "### parameter 수정"
   ]
  },
  {
   "cell_type": "code",
   "execution_count": 51,
   "metadata": {
    "collapsed": true,
    "jupyter": {
     "outputs_hidden": true
    }
   },
   "outputs": [],
   "source": [
    "#n_est=[3000]\n",
    "#num_leav=[31]\n",
    "#par=[n_est,num_leav]\n",
    "#par=pd.DataFrame(product(*par),columns=[\"n_est\",\"num_leav\"])\n",
    "#k_n=3\n"
   ]
  },
  {
   "cell_type": "code",
   "execution_count": 52,
   "metadata": {
    "collapsed": true,
    "jupyter": {
     "outputs_hidden": true
    }
   },
   "outputs": [],
   "source": [
    "#quantiles = [0.1, 0.2, 0.3, 0.4, 0.5, 0.6, 0.7, 0.8, 0.9]"
   ]
  },
  {
   "cell_type": "markdown",
   "metadata": {},
   "source": [
    "--------------------------------------------------------"
   ]
  },
  {
   "cell_type": "markdown",
   "metadata": {},
   "source": [
    "## Kfold"
   ]
  },
  {
   "cell_type": "markdown",
   "metadata": {},
   "source": [
    "### 7일"
   ]
  },
  {
   "cell_type": "markdown",
   "metadata": {},
   "source": [
    "#### parameter 수정"
   ]
  },
  {
   "cell_type": "code",
   "execution_count": 53,
   "metadata": {
    "collapsed": true,
    "jupyter": {
     "outputs_hidden": true
    }
   },
   "outputs": [],
   "source": [
    "n_est=[1500]\n",
    "num_leav=[31]\n",
    "par=[n_est,num_leav]\n",
    "par=pd.DataFrame(product(*par),columns=[\"n_est\",\"num_leav\"])\n",
    "k_n=2\n"
   ]
  },
  {
   "cell_type": "code",
   "execution_count": 54,
   "metadata": {
    "collapsed": true,
    "jupyter": {
     "outputs_hidden": true
    }
   },
   "outputs": [],
   "source": [
    "quantiles = [0.1, 0.2, 0.3, 0.4, 0.5, 0.6, 0.7, 0.8, 0.9]"
   ]
  },
  {
   "cell_type": "markdown",
   "metadata": {},
   "source": [
    "#### 예측모형"
   ]
  },
  {
   "cell_type": "code",
   "execution_count": 55,
   "metadata": {
    "collapsed": true,
    "jupyter": {
     "outputs_hidden": true
    }
   },
   "outputs": [],
   "source": [
    "kfold_path7=\"./model/\""
   ]
  },
  {
   "cell_type": "code",
   "execution_count": 56,
   "metadata": {
    "collapsed": true,
    "jupyter": {
     "outputs_hidden": true
    }
   },
   "outputs": [
    {
     "name": "stdout",
     "output_type": "stream",
     "text": [
      "0.1\n",
      "[LightGBM] [Warning] feature_fraction is set=0.7, colsample_bytree=1.0 will be ignored. Current value: feature_fraction=0.7\n",
      "[LightGBM] [Warning] bagging_fraction is set=0.7, subsample=1.0 will be ignored. Current value: bagging_fraction=0.7\n",
      "[LightGBM] [Warning] bagging_freq is set=10, subsample_freq=0 will be ignored. Current value: bagging_freq=10\n",
      "Training until validation scores don't improve for 1000 rounds\n",
      "[500]\tvalid_0's quantile: 0.0726541\n",
      "[1000]\tvalid_0's quantile: 0.0705875\n",
      "[1500]\tvalid_0's quantile: 0.0695871\n",
      "Did not meet early stopping. Best iteration is:\n",
      "[1500]\tvalid_0's quantile: 0.0695871\n",
      "0.2\n",
      "[LightGBM] [Warning] feature_fraction is set=0.7, colsample_bytree=1.0 will be ignored. Current value: feature_fraction=0.7\n",
      "[LightGBM] [Warning] bagging_fraction is set=0.7, subsample=1.0 will be ignored. Current value: bagging_fraction=0.7\n",
      "[LightGBM] [Warning] bagging_freq is set=10, subsample_freq=0 will be ignored. Current value: bagging_freq=10\n",
      "Training until validation scores don't improve for 1000 rounds\n",
      "[500]\tvalid_0's quantile: 0.0942379\n",
      "[1000]\tvalid_0's quantile: 0.0922485\n",
      "[1500]\tvalid_0's quantile: 0.0919763\n",
      "Did not meet early stopping. Best iteration is:\n",
      "[1477]\tvalid_0's quantile: 0.0919676\n",
      "0.3\n",
      "[LightGBM] [Warning] feature_fraction is set=0.7, colsample_bytree=1.0 will be ignored. Current value: feature_fraction=0.7\n",
      "[LightGBM] [Warning] bagging_fraction is set=0.7, subsample=1.0 will be ignored. Current value: bagging_fraction=0.7\n",
      "[LightGBM] [Warning] bagging_freq is set=10, subsample_freq=0 will be ignored. Current value: bagging_freq=10\n",
      "Training until validation scores don't improve for 1000 rounds\n",
      "[500]\tvalid_0's quantile: 0.103113\n",
      "[1000]\tvalid_0's quantile: 0.10087\n",
      "[1500]\tvalid_0's quantile: 0.100495\n",
      "Did not meet early stopping. Best iteration is:\n",
      "[1500]\tvalid_0's quantile: 0.100495\n",
      "0.4\n",
      "[LightGBM] [Warning] feature_fraction is set=0.7, colsample_bytree=1.0 will be ignored. Current value: feature_fraction=0.7\n",
      "[LightGBM] [Warning] bagging_fraction is set=0.7, subsample=1.0 will be ignored. Current value: bagging_fraction=0.7\n",
      "[LightGBM] [Warning] bagging_freq is set=10, subsample_freq=0 will be ignored. Current value: bagging_freq=10\n",
      "Training until validation scores don't improve for 1000 rounds\n",
      "[500]\tvalid_0's quantile: 0.103394\n",
      "[1000]\tvalid_0's quantile: 0.100734\n",
      "[1500]\tvalid_0's quantile: 0.100238\n",
      "Did not meet early stopping. Best iteration is:\n",
      "[1500]\tvalid_0's quantile: 0.100238\n",
      "0.5\n",
      "[LightGBM] [Warning] feature_fraction is set=0.7, colsample_bytree=1.0 will be ignored. Current value: feature_fraction=0.7\n",
      "[LightGBM] [Warning] bagging_fraction is set=0.7, subsample=1.0 will be ignored. Current value: bagging_fraction=0.7\n",
      "[LightGBM] [Warning] bagging_freq is set=10, subsample_freq=0 will be ignored. Current value: bagging_freq=10\n",
      "Training until validation scores don't improve for 1000 rounds\n",
      "[500]\tvalid_0's quantile: 0.0969256\n",
      "[1000]\tvalid_0's quantile: 0.0942482\n",
      "[1500]\tvalid_0's quantile: 0.0938685\n",
      "Did not meet early stopping. Best iteration is:\n",
      "[1498]\tvalid_0's quantile: 0.093868\n",
      "0.6\n",
      "[LightGBM] [Warning] feature_fraction is set=0.7, colsample_bytree=1.0 will be ignored. Current value: feature_fraction=0.7\n",
      "[LightGBM] [Warning] bagging_fraction is set=0.7, subsample=1.0 will be ignored. Current value: bagging_fraction=0.7\n",
      "[LightGBM] [Warning] bagging_freq is set=10, subsample_freq=0 will be ignored. Current value: bagging_freq=10\n",
      "Training until validation scores don't improve for 1000 rounds\n",
      "[500]\tvalid_0's quantile: 0.0852537\n",
      "[1000]\tvalid_0's quantile: 0.083332\n",
      "[1500]\tvalid_0's quantile: 0.0831426\n",
      "Did not meet early stopping. Best iteration is:\n",
      "[1461]\tvalid_0's quantile: 0.083142\n",
      "0.7\n",
      "[LightGBM] [Warning] feature_fraction is set=0.7, colsample_bytree=1.0 will be ignored. Current value: feature_fraction=0.7\n",
      "[LightGBM] [Warning] bagging_fraction is set=0.7, subsample=1.0 will be ignored. Current value: bagging_fraction=0.7\n",
      "[LightGBM] [Warning] bagging_freq is set=10, subsample_freq=0 will be ignored. Current value: bagging_freq=10\n",
      "Training until validation scores don't improve for 1000 rounds\n",
      "[500]\tvalid_0's quantile: 0.0698387\n",
      "[1000]\tvalid_0's quantile: 0.0684489\n",
      "[1500]\tvalid_0's quantile: 0.0680989\n",
      "Did not meet early stopping. Best iteration is:\n",
      "[1495]\tvalid_0's quantile: 0.0680969\n",
      "0.8\n",
      "[LightGBM] [Warning] feature_fraction is set=0.7, colsample_bytree=1.0 will be ignored. Current value: feature_fraction=0.7\n",
      "[LightGBM] [Warning] bagging_fraction is set=0.7, subsample=1.0 will be ignored. Current value: bagging_fraction=0.7\n",
      "[LightGBM] [Warning] bagging_freq is set=10, subsample_freq=0 will be ignored. Current value: bagging_freq=10\n",
      "Training until validation scores don't improve for 1000 rounds\n",
      "[500]\tvalid_0's quantile: 0.0505902\n",
      "[1000]\tvalid_0's quantile: 0.0498315\n",
      "[1500]\tvalid_0's quantile: 0.0496297\n",
      "Did not meet early stopping. Best iteration is:\n",
      "[1500]\tvalid_0's quantile: 0.0496297\n",
      "0.9\n",
      "[LightGBM] [Warning] feature_fraction is set=0.7, colsample_bytree=1.0 will be ignored. Current value: feature_fraction=0.7\n",
      "[LightGBM] [Warning] bagging_fraction is set=0.7, subsample=1.0 will be ignored. Current value: bagging_fraction=0.7\n",
      "[LightGBM] [Warning] bagging_freq is set=10, subsample_freq=0 will be ignored. Current value: bagging_freq=10\n",
      "Training until validation scores don't improve for 1000 rounds\n",
      "[500]\tvalid_0's quantile: 0.0285986\n",
      "[1000]\tvalid_0's quantile: 0.0283415\n",
      "[1500]\tvalid_0's quantile: 0.0282987\n",
      "Did not meet early stopping. Best iteration is:\n",
      "[1499]\tvalid_0's quantile: 0.0282985\n",
      "0.1\n",
      "[LightGBM] [Warning] feature_fraction is set=0.7, colsample_bytree=1.0 will be ignored. Current value: feature_fraction=0.7\n",
      "[LightGBM] [Warning] bagging_fraction is set=0.7, subsample=1.0 will be ignored. Current value: bagging_fraction=0.7\n",
      "[LightGBM] [Warning] bagging_freq is set=10, subsample_freq=0 will be ignored. Current value: bagging_freq=10\n",
      "Training until validation scores don't improve for 1000 rounds\n",
      "[500]\tvalid_0's quantile: 0.0709342\n",
      "[1000]\tvalid_0's quantile: 0.0694493\n",
      "[1500]\tvalid_0's quantile: 0.0681387\n",
      "Did not meet early stopping. Best iteration is:\n",
      "[1500]\tvalid_0's quantile: 0.0681387\n",
      "0.2\n",
      "[LightGBM] [Warning] feature_fraction is set=0.7, colsample_bytree=1.0 will be ignored. Current value: feature_fraction=0.7\n",
      "[LightGBM] [Warning] bagging_fraction is set=0.7, subsample=1.0 will be ignored. Current value: bagging_fraction=0.7\n",
      "[LightGBM] [Warning] bagging_freq is set=10, subsample_freq=0 will be ignored. Current value: bagging_freq=10\n",
      "Training until validation scores don't improve for 1000 rounds\n",
      "[500]\tvalid_0's quantile: 0.0933601\n",
      "[1000]\tvalid_0's quantile: 0.0928762\n",
      "[1500]\tvalid_0's quantile: 0.091893\n",
      "Did not meet early stopping. Best iteration is:\n",
      "[1496]\tvalid_0's quantile: 0.0918871\n",
      "0.3\n",
      "[LightGBM] [Warning] feature_fraction is set=0.7, colsample_bytree=1.0 will be ignored. Current value: feature_fraction=0.7\n",
      "[LightGBM] [Warning] bagging_fraction is set=0.7, subsample=1.0 will be ignored. Current value: bagging_fraction=0.7\n",
      "[LightGBM] [Warning] bagging_freq is set=10, subsample_freq=0 will be ignored. Current value: bagging_freq=10\n",
      "Training until validation scores don't improve for 1000 rounds\n",
      "[500]\tvalid_0's quantile: 0.105824\n",
      "[1000]\tvalid_0's quantile: 0.104388\n",
      "[1500]\tvalid_0's quantile: 0.102242\n",
      "Did not meet early stopping. Best iteration is:\n",
      "[1500]\tvalid_0's quantile: 0.102242\n",
      "0.4\n",
      "[LightGBM] [Warning] feature_fraction is set=0.7, colsample_bytree=1.0 will be ignored. Current value: feature_fraction=0.7\n",
      "[LightGBM] [Warning] bagging_fraction is set=0.7, subsample=1.0 will be ignored. Current value: bagging_fraction=0.7\n",
      "[LightGBM] [Warning] bagging_freq is set=10, subsample_freq=0 will be ignored. Current value: bagging_freq=10\n",
      "Training until validation scores don't improve for 1000 rounds\n",
      "[500]\tvalid_0's quantile: 0.104763\n",
      "[1000]\tvalid_0's quantile: 0.102628\n",
      "[1500]\tvalid_0's quantile: 0.10163\n",
      "Did not meet early stopping. Best iteration is:\n",
      "[1498]\tvalid_0's quantile: 0.10163\n",
      "0.5\n",
      "[LightGBM] [Warning] feature_fraction is set=0.7, colsample_bytree=1.0 will be ignored. Current value: feature_fraction=0.7\n",
      "[LightGBM] [Warning] bagging_fraction is set=0.7, subsample=1.0 will be ignored. Current value: bagging_fraction=0.7\n",
      "[LightGBM] [Warning] bagging_freq is set=10, subsample_freq=0 will be ignored. Current value: bagging_freq=10\n",
      "Training until validation scores don't improve for 1000 rounds\n",
      "[500]\tvalid_0's quantile: 0.0958348\n",
      "[1000]\tvalid_0's quantile: 0.0935494\n",
      "[1500]\tvalid_0's quantile: 0.0930968\n",
      "Did not meet early stopping. Best iteration is:\n",
      "[1500]\tvalid_0's quantile: 0.0930968\n",
      "0.6\n",
      "[LightGBM] [Warning] feature_fraction is set=0.7, colsample_bytree=1.0 will be ignored. Current value: feature_fraction=0.7\n",
      "[LightGBM] [Warning] bagging_fraction is set=0.7, subsample=1.0 will be ignored. Current value: bagging_fraction=0.7\n",
      "[LightGBM] [Warning] bagging_freq is set=10, subsample_freq=0 will be ignored. Current value: bagging_freq=10\n",
      "Training until validation scores don't improve for 1000 rounds\n",
      "[500]\tvalid_0's quantile: 0.0845704\n",
      "[1000]\tvalid_0's quantile: 0.0832031\n",
      "[1500]\tvalid_0's quantile: 0.0828748\n",
      "Did not meet early stopping. Best iteration is:\n",
      "[1500]\tvalid_0's quantile: 0.0828748\n",
      "0.7\n",
      "[LightGBM] [Warning] feature_fraction is set=0.7, colsample_bytree=1.0 will be ignored. Current value: feature_fraction=0.7\n",
      "[LightGBM] [Warning] bagging_fraction is set=0.7, subsample=1.0 will be ignored. Current value: bagging_fraction=0.7\n",
      "[LightGBM] [Warning] bagging_freq is set=10, subsample_freq=0 will be ignored. Current value: bagging_freq=10\n",
      "Training until validation scores don't improve for 1000 rounds\n",
      "[500]\tvalid_0's quantile: 0.0687278\n",
      "[1000]\tvalid_0's quantile: 0.0674533\n",
      "[1500]\tvalid_0's quantile: 0.067041\n",
      "Did not meet early stopping. Best iteration is:\n",
      "[1498]\tvalid_0's quantile: 0.0670398\n",
      "0.8\n",
      "[LightGBM] [Warning] feature_fraction is set=0.7, colsample_bytree=1.0 will be ignored. Current value: feature_fraction=0.7\n",
      "[LightGBM] [Warning] bagging_fraction is set=0.7, subsample=1.0 will be ignored. Current value: bagging_fraction=0.7\n",
      "[LightGBM] [Warning] bagging_freq is set=10, subsample_freq=0 will be ignored. Current value: bagging_freq=10\n",
      "Training until validation scores don't improve for 1000 rounds\n",
      "[500]\tvalid_0's quantile: 0.0500045\n",
      "[1000]\tvalid_0's quantile: 0.0492433\n",
      "[1500]\tvalid_0's quantile: 0.0490271\n",
      "Did not meet early stopping. Best iteration is:\n",
      "[1500]\tvalid_0's quantile: 0.0490271\n",
      "0.9\n",
      "[LightGBM] [Warning] feature_fraction is set=0.7, colsample_bytree=1.0 will be ignored. Current value: feature_fraction=0.7\n",
      "[LightGBM] [Warning] bagging_fraction is set=0.7, subsample=1.0 will be ignored. Current value: bagging_fraction=0.7\n",
      "[LightGBM] [Warning] bagging_freq is set=10, subsample_freq=0 will be ignored. Current value: bagging_freq=10\n",
      "Training until validation scores don't improve for 1000 rounds\n",
      "[500]\tvalid_0's quantile: 0.0284139\n",
      "[1000]\tvalid_0's quantile: 0.0279672\n",
      "[1500]\tvalid_0's quantile: 0.027882\n",
      "Did not meet early stopping. Best iteration is:\n",
      "[1500]\tvalid_0's quantile: 0.027882\n"
     ]
    }
   ],
   "source": [
    "from sklearn.model_selection import KFold\n",
    "folds = KFold(n_splits = k_n, shuffle = True, random_state = 2021)\n",
    "\n",
    "for i in range(len(par)):\n",
    "    param={\"objective\":'quantile',\n",
    "            \"n_estimators\":par.loc[i,\"n_est\"],\"bagging_fraction\":0.7, \n",
    "            \"learning_rate\":0.027, \"feature_fraction\":0.7,\n",
    "            \"feature_fraction_bynode\":0.8,\"bagging_freq\":10,\n",
    "            \"num_leaves\":par.loc[i,\"num_leav\"]}                   \n",
    "                              \n",
    "    for n_fold, (trn_idx, val_idx) in enumerate(folds.split(X_train_1)) :\n",
    "        X_train_7, Y_train_7 = X_train_1.iloc[trn_idx], Y_train_1.iloc[trn_idx] \n",
    "        X_valid_7, Y_valid_7 = X_train_1.iloc[val_idx], Y_train_1.iloc[val_idx]\n",
    "        \n",
    "        K_models_7, K_results_7 = train_data(X_train_7, Y_train_7, \n",
    "                                         X_valid_7, Y_valid_7,\n",
    "                                         X_test_1,param)\n",
    "    \n",
    "        joblib.dump(K_models_7, kfold_path7+'model7_%s_fold%s.pkl'%(i,n_fold))\n",
    "        K_results_7.to_csv(kfold_path7+\"result7_%s_fold%s.csv\"%(i,n_fold),index=False)\n"
   ]
  },
  {
   "cell_type": "markdown",
   "metadata": {
    "jupyter": {
     "outputs_hidden": true
    }
   },
   "source": [
    "#### 오차"
   ]
  },
  {
   "cell_type": "code",
   "execution_count": 57,
   "metadata": {
    "collapsed": true,
    "jupyter": {
     "outputs_hidden": true
    }
   },
   "outputs": [
    {
     "data": {
      "text/html": [
       "<div>\n",
       "<style scoped>\n",
       "    .dataframe tbody tr th:only-of-type {\n",
       "        vertical-align: middle;\n",
       "    }\n",
       "\n",
       "    .dataframe tbody tr th {\n",
       "        vertical-align: top;\n",
       "    }\n",
       "\n",
       "    .dataframe thead th {\n",
       "        text-align: right;\n",
       "    }\n",
       "</style>\n",
       "<table border=\"1\" class=\"dataframe\">\n",
       "  <thead>\n",
       "    <tr style=\"text-align: right;\">\n",
       "      <th></th>\n",
       "      <th>model_0</th>\n",
       "    </tr>\n",
       "  </thead>\n",
       "  <tbody>\n",
       "    <tr>\n",
       "      <th>0</th>\n",
       "      <td>1.789797</td>\n",
       "    </tr>\n",
       "    <tr>\n",
       "      <th>1</th>\n",
       "      <td>1.825601</td>\n",
       "    </tr>\n",
       "  </tbody>\n",
       "</table>\n",
       "</div>"
      ],
      "text/plain": [
       "    model_0\n",
       "0  1.789797\n",
       "1  1.825601"
      ]
     },
     "execution_count": 57,
     "metadata": {},
     "output_type": "execute_result"
    }
   ],
   "source": [
    "model_error7=p_error(kfold_path7,k=k_n,model_n=len(par),y_data=y7_test,day=7,log=True)\n",
    "model_error7"
   ]
  },
  {
   "cell_type": "code",
   "execution_count": 58,
   "metadata": {
    "collapsed": true,
    "jupyter": {
     "outputs_hidden": true
    }
   },
   "outputs": [
    {
     "data": {
      "text/html": [
       "<div>\n",
       "<style scoped>\n",
       "    .dataframe tbody tr th:only-of-type {\n",
       "        vertical-align: middle;\n",
       "    }\n",
       "\n",
       "    .dataframe tbody tr th {\n",
       "        vertical-align: top;\n",
       "    }\n",
       "\n",
       "    .dataframe thead th {\n",
       "        text-align: right;\n",
       "    }\n",
       "</style>\n",
       "<table border=\"1\" class=\"dataframe\">\n",
       "  <thead>\n",
       "    <tr style=\"text-align: right;\">\n",
       "      <th></th>\n",
       "      <th>n_est</th>\n",
       "      <th>num_leav</th>\n",
       "    </tr>\n",
       "  </thead>\n",
       "  <tbody>\n",
       "    <tr>\n",
       "      <th>0</th>\n",
       "      <td>1500</td>\n",
       "      <td>31</td>\n",
       "    </tr>\n",
       "  </tbody>\n",
       "</table>\n",
       "</div>"
      ],
      "text/plain": [
       "   n_est  num_leav\n",
       "0   1500        31"
      ]
     },
     "execution_count": 58,
     "metadata": {},
     "output_type": "execute_result"
    }
   ],
   "source": [
    "par"
   ]
  },
  {
   "cell_type": "markdown",
   "metadata": {},
   "source": [
    "--------------------------------------------------------"
   ]
  },
  {
   "cell_type": "markdown",
   "metadata": {},
   "source": [
    "### 8일"
   ]
  },
  {
   "cell_type": "markdown",
   "metadata": {},
   "source": [
    "#### parameter 수정"
   ]
  },
  {
   "cell_type": "code",
   "execution_count": 59,
   "metadata": {
    "collapsed": true,
    "jupyter": {
     "outputs_hidden": true
    }
   },
   "outputs": [],
   "source": [
    "n_est=[1500,3000]\n",
    "num_leav=[31]\n",
    "par=[n_est,num_leav]\n",
    "par=pd.DataFrame(product(*par),columns=[\"n_est\",\"num_leav\"])\n",
    "k_n=2\n"
   ]
  },
  {
   "cell_type": "code",
   "execution_count": 60,
   "metadata": {
    "collapsed": true,
    "jupyter": {
     "outputs_hidden": true
    }
   },
   "outputs": [],
   "source": [
    "quantiles = [0.1, 0.2, 0.3, 0.4, 0.5, 0.6, 0.7, 0.8, 0.9]"
   ]
  },
  {
   "cell_type": "markdown",
   "metadata": {},
   "source": [
    "#### 8일 예측모형"
   ]
  },
  {
   "cell_type": "code",
   "execution_count": 61,
   "metadata": {
    "collapsed": true,
    "jupyter": {
     "outputs_hidden": true
    }
   },
   "outputs": [],
   "source": [
    "kfold_path8=\"./model/\""
   ]
  },
  {
   "cell_type": "code",
   "execution_count": 62,
   "metadata": {
    "collapsed": true,
    "jupyter": {
     "outputs_hidden": true
    }
   },
   "outputs": [
    {
     "name": "stdout",
     "output_type": "stream",
     "text": [
      "0.1\n",
      "[LightGBM] [Warning] feature_fraction is set=0.7, colsample_bytree=1.0 will be ignored. Current value: feature_fraction=0.7\n",
      "[LightGBM] [Warning] bagging_fraction is set=0.7, subsample=1.0 will be ignored. Current value: bagging_fraction=0.7\n",
      "[LightGBM] [Warning] bagging_freq is set=10, subsample_freq=0 will be ignored. Current value: bagging_freq=10\n",
      "Training until validation scores don't improve for 1000 rounds\n",
      "[500]\tvalid_0's quantile: 0.0694349\n",
      "[1000]\tvalid_0's quantile: 0.0684098\n",
      "[1500]\tvalid_0's quantile: 0.0675732\n",
      "Did not meet early stopping. Best iteration is:\n",
      "[1493]\tvalid_0's quantile: 0.0675727\n",
      "0.2\n",
      "[LightGBM] [Warning] feature_fraction is set=0.7, colsample_bytree=1.0 will be ignored. Current value: feature_fraction=0.7\n",
      "[LightGBM] [Warning] bagging_fraction is set=0.7, subsample=1.0 will be ignored. Current value: bagging_fraction=0.7\n",
      "[LightGBM] [Warning] bagging_freq is set=10, subsample_freq=0 will be ignored. Current value: bagging_freq=10\n",
      "Training until validation scores don't improve for 1000 rounds\n",
      "[500]\tvalid_0's quantile: 0.0931187\n",
      "[1000]\tvalid_0's quantile: 0.0925829\n",
      "[1500]\tvalid_0's quantile: 0.0908741\n",
      "Did not meet early stopping. Best iteration is:\n",
      "[1498]\tvalid_0's quantile: 0.090871\n",
      "0.3\n",
      "[LightGBM] [Warning] feature_fraction is set=0.7, colsample_bytree=1.0 will be ignored. Current value: feature_fraction=0.7\n",
      "[LightGBM] [Warning] bagging_fraction is set=0.7, subsample=1.0 will be ignored. Current value: bagging_fraction=0.7\n",
      "[LightGBM] [Warning] bagging_freq is set=10, subsample_freq=0 will be ignored. Current value: bagging_freq=10\n",
      "Training until validation scores don't improve for 1000 rounds\n",
      "[500]\tvalid_0's quantile: 0.102933\n",
      "[1000]\tvalid_0's quantile: 0.101791\n",
      "[1500]\tvalid_0's quantile: 0.10109\n",
      "Did not meet early stopping. Best iteration is:\n",
      "[1500]\tvalid_0's quantile: 0.10109\n",
      "0.4\n",
      "[LightGBM] [Warning] feature_fraction is set=0.7, colsample_bytree=1.0 will be ignored. Current value: feature_fraction=0.7\n",
      "[LightGBM] [Warning] bagging_fraction is set=0.7, subsample=1.0 will be ignored. Current value: bagging_fraction=0.7\n",
      "[LightGBM] [Warning] bagging_freq is set=10, subsample_freq=0 will be ignored. Current value: bagging_freq=10\n",
      "Training until validation scores don't improve for 1000 rounds\n",
      "[500]\tvalid_0's quantile: 0.102964\n",
      "[1000]\tvalid_0's quantile: 0.101735\n",
      "[1500]\tvalid_0's quantile: 0.101086\n",
      "Did not meet early stopping. Best iteration is:\n",
      "[1499]\tvalid_0's quantile: 0.101086\n",
      "0.5\n",
      "[LightGBM] [Warning] feature_fraction is set=0.7, colsample_bytree=1.0 will be ignored. Current value: feature_fraction=0.7\n",
      "[LightGBM] [Warning] bagging_fraction is set=0.7, subsample=1.0 will be ignored. Current value: bagging_fraction=0.7\n",
      "[LightGBM] [Warning] bagging_freq is set=10, subsample_freq=0 will be ignored. Current value: bagging_freq=10\n",
      "Training until validation scores don't improve for 1000 rounds\n",
      "[500]\tvalid_0's quantile: 0.0960487\n",
      "[1000]\tvalid_0's quantile: 0.0929941\n",
      "[1500]\tvalid_0's quantile: 0.0922403\n",
      "Did not meet early stopping. Best iteration is:\n",
      "[1499]\tvalid_0's quantile: 0.0922403\n",
      "0.6\n",
      "[LightGBM] [Warning] feature_fraction is set=0.7, colsample_bytree=1.0 will be ignored. Current value: feature_fraction=0.7\n",
      "[LightGBM] [Warning] bagging_fraction is set=0.7, subsample=1.0 will be ignored. Current value: bagging_fraction=0.7\n",
      "[LightGBM] [Warning] bagging_freq is set=10, subsample_freq=0 will be ignored. Current value: bagging_freq=10\n",
      "Training until validation scores don't improve for 1000 rounds\n",
      "[500]\tvalid_0's quantile: 0.083853\n",
      "[1000]\tvalid_0's quantile: 0.0817353\n",
      "[1500]\tvalid_0's quantile: 0.0813228\n",
      "Did not meet early stopping. Best iteration is:\n",
      "[1500]\tvalid_0's quantile: 0.0813228\n",
      "0.7\n",
      "[LightGBM] [Warning] feature_fraction is set=0.7, colsample_bytree=1.0 will be ignored. Current value: feature_fraction=0.7\n",
      "[LightGBM] [Warning] bagging_fraction is set=0.7, subsample=1.0 will be ignored. Current value: bagging_fraction=0.7\n",
      "[LightGBM] [Warning] bagging_freq is set=10, subsample_freq=0 will be ignored. Current value: bagging_freq=10\n",
      "Training until validation scores don't improve for 1000 rounds\n",
      "[500]\tvalid_0's quantile: 0.0688207\n",
      "[1000]\tvalid_0's quantile: 0.067848\n",
      "[1500]\tvalid_0's quantile: 0.0675738\n",
      "Did not meet early stopping. Best iteration is:\n",
      "[1500]\tvalid_0's quantile: 0.0675738\n",
      "0.8\n",
      "[LightGBM] [Warning] feature_fraction is set=0.7, colsample_bytree=1.0 will be ignored. Current value: feature_fraction=0.7\n",
      "[LightGBM] [Warning] bagging_fraction is set=0.7, subsample=1.0 will be ignored. Current value: bagging_fraction=0.7\n",
      "[LightGBM] [Warning] bagging_freq is set=10, subsample_freq=0 will be ignored. Current value: bagging_freq=10\n",
      "Training until validation scores don't improve for 1000 rounds\n",
      "[500]\tvalid_0's quantile: 0.0500365\n",
      "[1000]\tvalid_0's quantile: 0.049433\n",
      "[1500]\tvalid_0's quantile: 0.0491898\n",
      "Did not meet early stopping. Best iteration is:\n",
      "[1500]\tvalid_0's quantile: 0.0491898\n",
      "0.9\n",
      "[LightGBM] [Warning] feature_fraction is set=0.7, colsample_bytree=1.0 will be ignored. Current value: feature_fraction=0.7\n",
      "[LightGBM] [Warning] bagging_fraction is set=0.7, subsample=1.0 will be ignored. Current value: bagging_fraction=0.7\n",
      "[LightGBM] [Warning] bagging_freq is set=10, subsample_freq=0 will be ignored. Current value: bagging_freq=10\n",
      "Training until validation scores don't improve for 1000 rounds\n",
      "[500]\tvalid_0's quantile: 0.0282582\n",
      "[1000]\tvalid_0's quantile: 0.02787\n",
      "[1500]\tvalid_0's quantile: 0.0277566\n",
      "Did not meet early stopping. Best iteration is:\n",
      "[1468]\tvalid_0's quantile: 0.0277555\n",
      "0.1\n",
      "[LightGBM] [Warning] feature_fraction is set=0.7, colsample_bytree=1.0 will be ignored. Current value: feature_fraction=0.7\n",
      "[LightGBM] [Warning] bagging_fraction is set=0.7, subsample=1.0 will be ignored. Current value: bagging_fraction=0.7\n",
      "[LightGBM] [Warning] bagging_freq is set=10, subsample_freq=0 will be ignored. Current value: bagging_freq=10\n",
      "Training until validation scores don't improve for 1000 rounds\n",
      "[500]\tvalid_0's quantile: 0.0741869\n",
      "[1000]\tvalid_0's quantile: 0.0722945\n",
      "[1500]\tvalid_0's quantile: 0.071649\n",
      "Did not meet early stopping. Best iteration is:\n",
      "[1489]\tvalid_0's quantile: 0.071628\n",
      "0.2\n",
      "[LightGBM] [Warning] feature_fraction is set=0.7, colsample_bytree=1.0 will be ignored. Current value: feature_fraction=0.7\n",
      "[LightGBM] [Warning] bagging_fraction is set=0.7, subsample=1.0 will be ignored. Current value: bagging_fraction=0.7\n",
      "[LightGBM] [Warning] bagging_freq is set=10, subsample_freq=0 will be ignored. Current value: bagging_freq=10\n",
      "Training until validation scores don't improve for 1000 rounds\n",
      "[500]\tvalid_0's quantile: 0.098559\n",
      "[1000]\tvalid_0's quantile: 0.0975445\n",
      "[1500]\tvalid_0's quantile: 0.09594\n",
      "Did not meet early stopping. Best iteration is:\n",
      "[1500]\tvalid_0's quantile: 0.09594\n",
      "0.3\n",
      "[LightGBM] [Warning] feature_fraction is set=0.7, colsample_bytree=1.0 will be ignored. Current value: feature_fraction=0.7\n",
      "[LightGBM] [Warning] bagging_fraction is set=0.7, subsample=1.0 will be ignored. Current value: bagging_fraction=0.7\n",
      "[LightGBM] [Warning] bagging_freq is set=10, subsample_freq=0 will be ignored. Current value: bagging_freq=10\n",
      "Training until validation scores don't improve for 1000 rounds\n",
      "[500]\tvalid_0's quantile: 0.105569\n",
      "[1000]\tvalid_0's quantile: 0.104734\n",
      "[1500]\tvalid_0's quantile: 0.103714\n",
      "Did not meet early stopping. Best iteration is:\n",
      "[1499]\tvalid_0's quantile: 0.103714\n",
      "0.4\n",
      "[LightGBM] [Warning] feature_fraction is set=0.7, colsample_bytree=1.0 will be ignored. Current value: feature_fraction=0.7\n",
      "[LightGBM] [Warning] bagging_fraction is set=0.7, subsample=1.0 will be ignored. Current value: bagging_fraction=0.7\n",
      "[LightGBM] [Warning] bagging_freq is set=10, subsample_freq=0 will be ignored. Current value: bagging_freq=10\n",
      "Training until validation scores don't improve for 1000 rounds\n",
      "[500]\tvalid_0's quantile: 0.10624\n",
      "[1000]\tvalid_0's quantile: 0.104647\n",
      "[1500]\tvalid_0's quantile: 0.103629\n",
      "Did not meet early stopping. Best iteration is:\n",
      "[1500]\tvalid_0's quantile: 0.103629\n",
      "0.5\n",
      "[LightGBM] [Warning] feature_fraction is set=0.7, colsample_bytree=1.0 will be ignored. Current value: feature_fraction=0.7\n",
      "[LightGBM] [Warning] bagging_fraction is set=0.7, subsample=1.0 will be ignored. Current value: bagging_fraction=0.7\n",
      "[LightGBM] [Warning] bagging_freq is set=10, subsample_freq=0 will be ignored. Current value: bagging_freq=10\n",
      "Training until validation scores don't improve for 1000 rounds\n",
      "[500]\tvalid_0's quantile: 0.0990583\n",
      "[1000]\tvalid_0's quantile: 0.0957623\n",
      "[1500]\tvalid_0's quantile: 0.0951049\n",
      "Did not meet early stopping. Best iteration is:\n",
      "[1500]\tvalid_0's quantile: 0.0951049\n",
      "0.6\n",
      "[LightGBM] [Warning] feature_fraction is set=0.7, colsample_bytree=1.0 will be ignored. Current value: feature_fraction=0.7\n",
      "[LightGBM] [Warning] bagging_fraction is set=0.7, subsample=1.0 will be ignored. Current value: bagging_fraction=0.7\n",
      "[LightGBM] [Warning] bagging_freq is set=10, subsample_freq=0 will be ignored. Current value: bagging_freq=10\n",
      "Training until validation scores don't improve for 1000 rounds\n",
      "[500]\tvalid_0's quantile: 0.0864598\n",
      "[1000]\tvalid_0's quantile: 0.0839928\n",
      "[1500]\tvalid_0's quantile: 0.0832642\n",
      "Did not meet early stopping. Best iteration is:\n",
      "[1497]\tvalid_0's quantile: 0.0832636\n",
      "0.7\n",
      "[LightGBM] [Warning] feature_fraction is set=0.7, colsample_bytree=1.0 will be ignored. Current value: feature_fraction=0.7\n",
      "[LightGBM] [Warning] bagging_fraction is set=0.7, subsample=1.0 will be ignored. Current value: bagging_fraction=0.7\n",
      "[LightGBM] [Warning] bagging_freq is set=10, subsample_freq=0 will be ignored. Current value: bagging_freq=10\n",
      "Training until validation scores don't improve for 1000 rounds\n",
      "[500]\tvalid_0's quantile: 0.070858\n",
      "[1000]\tvalid_0's quantile: 0.0690346\n",
      "[1500]\tvalid_0's quantile: 0.0686574\n",
      "Did not meet early stopping. Best iteration is:\n",
      "[1499]\tvalid_0's quantile: 0.068657\n",
      "0.8\n",
      "[LightGBM] [Warning] feature_fraction is set=0.7, colsample_bytree=1.0 will be ignored. Current value: feature_fraction=0.7\n",
      "[LightGBM] [Warning] bagging_fraction is set=0.7, subsample=1.0 will be ignored. Current value: bagging_fraction=0.7\n",
      "[LightGBM] [Warning] bagging_freq is set=10, subsample_freq=0 will be ignored. Current value: bagging_freq=10\n",
      "Training until validation scores don't improve for 1000 rounds\n",
      "[500]\tvalid_0's quantile: 0.0515701\n",
      "[1000]\tvalid_0's quantile: 0.0507494\n",
      "[1500]\tvalid_0's quantile: 0.0505391\n",
      "Did not meet early stopping. Best iteration is:\n",
      "[1496]\tvalid_0's quantile: 0.0505384\n",
      "0.9\n",
      "[LightGBM] [Warning] feature_fraction is set=0.7, colsample_bytree=1.0 will be ignored. Current value: feature_fraction=0.7\n",
      "[LightGBM] [Warning] bagging_fraction is set=0.7, subsample=1.0 will be ignored. Current value: bagging_fraction=0.7\n",
      "[LightGBM] [Warning] bagging_freq is set=10, subsample_freq=0 will be ignored. Current value: bagging_freq=10\n",
      "Training until validation scores don't improve for 1000 rounds\n",
      "[500]\tvalid_0's quantile: 0.0293159\n",
      "[1000]\tvalid_0's quantile: 0.0289284\n",
      "[1500]\tvalid_0's quantile: 0.0288825\n",
      "Did not meet early stopping. Best iteration is:\n",
      "[1490]\tvalid_0's quantile: 0.028882\n",
      "0.1\n",
      "[LightGBM] [Warning] feature_fraction is set=0.7, colsample_bytree=1.0 will be ignored. Current value: feature_fraction=0.7\n",
      "[LightGBM] [Warning] bagging_fraction is set=0.7, subsample=1.0 will be ignored. Current value: bagging_fraction=0.7\n",
      "[LightGBM] [Warning] bagging_freq is set=10, subsample_freq=0 will be ignored. Current value: bagging_freq=10\n",
      "Training until validation scores don't improve for 1000 rounds\n",
      "[500]\tvalid_0's quantile: 0.0694349\n",
      "[1000]\tvalid_0's quantile: 0.0684098\n",
      "[1500]\tvalid_0's quantile: 0.0675732\n",
      "[2000]\tvalid_0's quantile: 0.0670216\n",
      "[2500]\tvalid_0's quantile: 0.0668302\n",
      "[3000]\tvalid_0's quantile: 0.0666357\n",
      "Did not meet early stopping. Best iteration is:\n",
      "[2890]\tvalid_0's quantile: 0.0666305\n",
      "0.2\n",
      "[LightGBM] [Warning] feature_fraction is set=0.7, colsample_bytree=1.0 will be ignored. Current value: feature_fraction=0.7\n",
      "[LightGBM] [Warning] bagging_fraction is set=0.7, subsample=1.0 will be ignored. Current value: bagging_fraction=0.7\n",
      "[LightGBM] [Warning] bagging_freq is set=10, subsample_freq=0 will be ignored. Current value: bagging_freq=10\n",
      "Training until validation scores don't improve for 1000 rounds\n",
      "[500]\tvalid_0's quantile: 0.0931187\n",
      "[1000]\tvalid_0's quantile: 0.0925829\n",
      "[1500]\tvalid_0's quantile: 0.0908741\n",
      "[2000]\tvalid_0's quantile: 0.0898699\n",
      "[2500]\tvalid_0's quantile: 0.089007\n",
      "[3000]\tvalid_0's quantile: 0.0885626\n",
      "Did not meet early stopping. Best iteration is:\n",
      "[2999]\tvalid_0's quantile: 0.0885624\n",
      "0.3\n",
      "[LightGBM] [Warning] feature_fraction is set=0.7, colsample_bytree=1.0 will be ignored. Current value: feature_fraction=0.7\n",
      "[LightGBM] [Warning] bagging_fraction is set=0.7, subsample=1.0 will be ignored. Current value: bagging_fraction=0.7\n",
      "[LightGBM] [Warning] bagging_freq is set=10, subsample_freq=0 will be ignored. Current value: bagging_freq=10\n",
      "Training until validation scores don't improve for 1000 rounds\n",
      "[500]\tvalid_0's quantile: 0.102933\n",
      "[1000]\tvalid_0's quantile: 0.101791\n",
      "[1500]\tvalid_0's quantile: 0.10109\n",
      "[2000]\tvalid_0's quantile: 0.100028\n",
      "[2500]\tvalid_0's quantile: 0.0989505\n",
      "[3000]\tvalid_0's quantile: 0.0982214\n",
      "Did not meet early stopping. Best iteration is:\n",
      "[3000]\tvalid_0's quantile: 0.0982214\n",
      "0.4\n",
      "[LightGBM] [Warning] feature_fraction is set=0.7, colsample_bytree=1.0 will be ignored. Current value: feature_fraction=0.7\n",
      "[LightGBM] [Warning] bagging_fraction is set=0.7, subsample=1.0 will be ignored. Current value: bagging_fraction=0.7\n",
      "[LightGBM] [Warning] bagging_freq is set=10, subsample_freq=0 will be ignored. Current value: bagging_freq=10\n",
      "Training until validation scores don't improve for 1000 rounds\n",
      "[500]\tvalid_0's quantile: 0.102964\n",
      "[1000]\tvalid_0's quantile: 0.101735\n",
      "[1500]\tvalid_0's quantile: 0.101086\n",
      "[2000]\tvalid_0's quantile: 0.100157\n",
      "[2500]\tvalid_0's quantile: 0.0992497\n",
      "[3000]\tvalid_0's quantile: 0.0985012\n",
      "Did not meet early stopping. Best iteration is:\n",
      "[3000]\tvalid_0's quantile: 0.0985012\n",
      "0.5\n",
      "[LightGBM] [Warning] feature_fraction is set=0.7, colsample_bytree=1.0 will be ignored. Current value: feature_fraction=0.7\n",
      "[LightGBM] [Warning] bagging_fraction is set=0.7, subsample=1.0 will be ignored. Current value: bagging_fraction=0.7\n",
      "[LightGBM] [Warning] bagging_freq is set=10, subsample_freq=0 will be ignored. Current value: bagging_freq=10\n",
      "Training until validation scores don't improve for 1000 rounds\n",
      "[500]\tvalid_0's quantile: 0.0960487\n",
      "[1000]\tvalid_0's quantile: 0.0929941\n",
      "[1500]\tvalid_0's quantile: 0.0922403\n",
      "[2000]\tvalid_0's quantile: 0.0920879\n",
      "[2500]\tvalid_0's quantile: 0.0918785\n",
      "[3000]\tvalid_0's quantile: 0.0916343\n",
      "Did not meet early stopping. Best iteration is:\n",
      "[3000]\tvalid_0's quantile: 0.0916343\n",
      "0.6\n",
      "[LightGBM] [Warning] feature_fraction is set=0.7, colsample_bytree=1.0 will be ignored. Current value: feature_fraction=0.7\n",
      "[LightGBM] [Warning] bagging_fraction is set=0.7, subsample=1.0 will be ignored. Current value: bagging_fraction=0.7\n",
      "[LightGBM] [Warning] bagging_freq is set=10, subsample_freq=0 will be ignored. Current value: bagging_freq=10\n",
      "Training until validation scores don't improve for 1000 rounds\n",
      "[500]\tvalid_0's quantile: 0.083853\n",
      "[1000]\tvalid_0's quantile: 0.0817353\n",
      "[1500]\tvalid_0's quantile: 0.0813228\n",
      "[2000]\tvalid_0's quantile: 0.0810275\n",
      "[2500]\tvalid_0's quantile: 0.0809255\n",
      "[3000]\tvalid_0's quantile: 0.0807793\n",
      "Did not meet early stopping. Best iteration is:\n",
      "[2986]\tvalid_0's quantile: 0.0807746\n",
      "0.7\n",
      "[LightGBM] [Warning] feature_fraction is set=0.7, colsample_bytree=1.0 will be ignored. Current value: feature_fraction=0.7\n",
      "[LightGBM] [Warning] bagging_fraction is set=0.7, subsample=1.0 will be ignored. Current value: bagging_fraction=0.7\n",
      "[LightGBM] [Warning] bagging_freq is set=10, subsample_freq=0 will be ignored. Current value: bagging_freq=10\n",
      "Training until validation scores don't improve for 1000 rounds\n",
      "[500]\tvalid_0's quantile: 0.0688207\n",
      "[1000]\tvalid_0's quantile: 0.067848\n",
      "[1500]\tvalid_0's quantile: 0.0675738\n",
      "[2000]\tvalid_0's quantile: 0.0674473\n",
      "[2500]\tvalid_0's quantile: 0.0672586\n",
      "[3000]\tvalid_0's quantile: 0.0671783\n",
      "Did not meet early stopping. Best iteration is:\n",
      "[2999]\tvalid_0's quantile: 0.0671774\n",
      "0.8\n",
      "[LightGBM] [Warning] feature_fraction is set=0.7, colsample_bytree=1.0 will be ignored. Current value: feature_fraction=0.7\n",
      "[LightGBM] [Warning] bagging_fraction is set=0.7, subsample=1.0 will be ignored. Current value: bagging_fraction=0.7\n",
      "[LightGBM] [Warning] bagging_freq is set=10, subsample_freq=0 will be ignored. Current value: bagging_freq=10\n",
      "Training until validation scores don't improve for 1000 rounds\n",
      "[500]\tvalid_0's quantile: 0.0500365\n",
      "[1000]\tvalid_0's quantile: 0.049433\n",
      "[1500]\tvalid_0's quantile: 0.0491898\n",
      "[2000]\tvalid_0's quantile: 0.0490592\n",
      "[2500]\tvalid_0's quantile: 0.0490083\n",
      "[3000]\tvalid_0's quantile: 0.0489768\n",
      "Did not meet early stopping. Best iteration is:\n",
      "[2997]\tvalid_0's quantile: 0.0489765\n",
      "0.9\n",
      "[LightGBM] [Warning] feature_fraction is set=0.7, colsample_bytree=1.0 will be ignored. Current value: feature_fraction=0.7\n",
      "[LightGBM] [Warning] bagging_fraction is set=0.7, subsample=1.0 will be ignored. Current value: bagging_fraction=0.7\n",
      "[LightGBM] [Warning] bagging_freq is set=10, subsample_freq=0 will be ignored. Current value: bagging_freq=10\n",
      "Training until validation scores don't improve for 1000 rounds\n",
      "[500]\tvalid_0's quantile: 0.0282582\n",
      "[1000]\tvalid_0's quantile: 0.02787\n",
      "[1500]\tvalid_0's quantile: 0.0277566\n",
      "[2000]\tvalid_0's quantile: 0.0276704\n",
      "[2500]\tvalid_0's quantile: 0.0276414\n",
      "[3000]\tvalid_0's quantile: 0.0276823\n",
      "Did not meet early stopping. Best iteration is:\n",
      "[2384]\tvalid_0's quantile: 0.0276356\n",
      "0.1\n",
      "[LightGBM] [Warning] feature_fraction is set=0.7, colsample_bytree=1.0 will be ignored. Current value: feature_fraction=0.7\n",
      "[LightGBM] [Warning] bagging_fraction is set=0.7, subsample=1.0 will be ignored. Current value: bagging_fraction=0.7\n",
      "[LightGBM] [Warning] bagging_freq is set=10, subsample_freq=0 will be ignored. Current value: bagging_freq=10\n",
      "Training until validation scores don't improve for 1000 rounds\n",
      "[500]\tvalid_0's quantile: 0.0741869\n",
      "[1000]\tvalid_0's quantile: 0.0722945\n",
      "[1500]\tvalid_0's quantile: 0.071649\n",
      "[2000]\tvalid_0's quantile: 0.070939\n",
      "[2500]\tvalid_0's quantile: 0.0707104\n",
      "[3000]\tvalid_0's quantile: 0.0706076\n",
      "Did not meet early stopping. Best iteration is:\n",
      "[2912]\tvalid_0's quantile: 0.0705862\n",
      "0.2\n",
      "[LightGBM] [Warning] feature_fraction is set=0.7, colsample_bytree=1.0 will be ignored. Current value: feature_fraction=0.7\n",
      "[LightGBM] [Warning] bagging_fraction is set=0.7, subsample=1.0 will be ignored. Current value: bagging_fraction=0.7\n",
      "[LightGBM] [Warning] bagging_freq is set=10, subsample_freq=0 will be ignored. Current value: bagging_freq=10\n",
      "Training until validation scores don't improve for 1000 rounds\n",
      "[500]\tvalid_0's quantile: 0.098559\n",
      "[1000]\tvalid_0's quantile: 0.0975445\n",
      "[1500]\tvalid_0's quantile: 0.09594\n",
      "[2000]\tvalid_0's quantile: 0.0946694\n",
      "[2500]\tvalid_0's quantile: 0.0939213\n",
      "[3000]\tvalid_0's quantile: 0.0932404\n",
      "Did not meet early stopping. Best iteration is:\n",
      "[2982]\tvalid_0's quantile: 0.0932338\n",
      "0.3\n",
      "[LightGBM] [Warning] feature_fraction is set=0.7, colsample_bytree=1.0 will be ignored. Current value: feature_fraction=0.7\n",
      "[LightGBM] [Warning] bagging_fraction is set=0.7, subsample=1.0 will be ignored. Current value: bagging_fraction=0.7\n",
      "[LightGBM] [Warning] bagging_freq is set=10, subsample_freq=0 will be ignored. Current value: bagging_freq=10\n",
      "Training until validation scores don't improve for 1000 rounds\n",
      "[500]\tvalid_0's quantile: 0.105569\n",
      "[1000]\tvalid_0's quantile: 0.104734\n",
      "[1500]\tvalid_0's quantile: 0.103714\n",
      "[2000]\tvalid_0's quantile: 0.102676\n",
      "[2500]\tvalid_0's quantile: 0.101849\n",
      "[3000]\tvalid_0's quantile: 0.101137\n",
      "Did not meet early stopping. Best iteration is:\n",
      "[2999]\tvalid_0's quantile: 0.101136\n",
      "0.4\n",
      "[LightGBM] [Warning] feature_fraction is set=0.7, colsample_bytree=1.0 will be ignored. Current value: feature_fraction=0.7\n",
      "[LightGBM] [Warning] bagging_fraction is set=0.7, subsample=1.0 will be ignored. Current value: bagging_fraction=0.7\n",
      "[LightGBM] [Warning] bagging_freq is set=10, subsample_freq=0 will be ignored. Current value: bagging_freq=10\n",
      "Training until validation scores don't improve for 1000 rounds\n",
      "[500]\tvalid_0's quantile: 0.10624\n",
      "[1000]\tvalid_0's quantile: 0.104647\n",
      "[1500]\tvalid_0's quantile: 0.103629\n",
      "[2000]\tvalid_0's quantile: 0.10276\n",
      "[2500]\tvalid_0's quantile: 0.102032\n",
      "[3000]\tvalid_0's quantile: 0.101522\n",
      "Did not meet early stopping. Best iteration is:\n",
      "[3000]\tvalid_0's quantile: 0.101522\n",
      "0.5\n",
      "[LightGBM] [Warning] feature_fraction is set=0.7, colsample_bytree=1.0 will be ignored. Current value: feature_fraction=0.7\n",
      "[LightGBM] [Warning] bagging_fraction is set=0.7, subsample=1.0 will be ignored. Current value: bagging_fraction=0.7\n",
      "[LightGBM] [Warning] bagging_freq is set=10, subsample_freq=0 will be ignored. Current value: bagging_freq=10\n",
      "Training until validation scores don't improve for 1000 rounds\n",
      "[500]\tvalid_0's quantile: 0.0990583\n",
      "[1000]\tvalid_0's quantile: 0.0957623\n",
      "[1500]\tvalid_0's quantile: 0.0951049\n",
      "[2000]\tvalid_0's quantile: 0.0946611\n",
      "[2500]\tvalid_0's quantile: 0.0943722\n",
      "[3000]\tvalid_0's quantile: 0.0940098\n",
      "Did not meet early stopping. Best iteration is:\n",
      "[2998]\tvalid_0's quantile: 0.0940087\n",
      "0.6\n",
      "[LightGBM] [Warning] feature_fraction is set=0.7, colsample_bytree=1.0 will be ignored. Current value: feature_fraction=0.7\n",
      "[LightGBM] [Warning] bagging_fraction is set=0.7, subsample=1.0 will be ignored. Current value: bagging_fraction=0.7\n",
      "[LightGBM] [Warning] bagging_freq is set=10, subsample_freq=0 will be ignored. Current value: bagging_freq=10\n",
      "Training until validation scores don't improve for 1000 rounds\n",
      "[500]\tvalid_0's quantile: 0.0864598\n",
      "[1000]\tvalid_0's quantile: 0.0839928\n",
      "[1500]\tvalid_0's quantile: 0.0832642\n",
      "[2000]\tvalid_0's quantile: 0.0831613\n",
      "[2500]\tvalid_0's quantile: 0.0830117\n",
      "[3000]\tvalid_0's quantile: 0.082846\n",
      "Did not meet early stopping. Best iteration is:\n",
      "[3000]\tvalid_0's quantile: 0.082846\n",
      "0.7\n",
      "[LightGBM] [Warning] feature_fraction is set=0.7, colsample_bytree=1.0 will be ignored. Current value: feature_fraction=0.7\n",
      "[LightGBM] [Warning] bagging_fraction is set=0.7, subsample=1.0 will be ignored. Current value: bagging_fraction=0.7\n",
      "[LightGBM] [Warning] bagging_freq is set=10, subsample_freq=0 will be ignored. Current value: bagging_freq=10\n",
      "Training until validation scores don't improve for 1000 rounds\n",
      "[500]\tvalid_0's quantile: 0.070858\n",
      "[1000]\tvalid_0's quantile: 0.0690346\n",
      "[1500]\tvalid_0's quantile: 0.0686574\n",
      "[2000]\tvalid_0's quantile: 0.0684488\n",
      "[2500]\tvalid_0's quantile: 0.0683906\n",
      "[3000]\tvalid_0's quantile: 0.0683107\n",
      "Did not meet early stopping. Best iteration is:\n",
      "[2998]\tvalid_0's quantile: 0.0683107\n",
      "0.8\n",
      "[LightGBM] [Warning] feature_fraction is set=0.7, colsample_bytree=1.0 will be ignored. Current value: feature_fraction=0.7\n",
      "[LightGBM] [Warning] bagging_fraction is set=0.7, subsample=1.0 will be ignored. Current value: bagging_fraction=0.7\n",
      "[LightGBM] [Warning] bagging_freq is set=10, subsample_freq=0 will be ignored. Current value: bagging_freq=10\n",
      "Training until validation scores don't improve for 1000 rounds\n",
      "[500]\tvalid_0's quantile: 0.0515701\n",
      "[1000]\tvalid_0's quantile: 0.0507494\n",
      "[1500]\tvalid_0's quantile: 0.0505391\n",
      "[2000]\tvalid_0's quantile: 0.0504064\n",
      "[2500]\tvalid_0's quantile: 0.0502905\n",
      "[3000]\tvalid_0's quantile: 0.0502097\n",
      "Did not meet early stopping. Best iteration is:\n",
      "[2985]\tvalid_0's quantile: 0.050209\n",
      "0.9\n",
      "[LightGBM] [Warning] feature_fraction is set=0.7, colsample_bytree=1.0 will be ignored. Current value: feature_fraction=0.7\n",
      "[LightGBM] [Warning] bagging_fraction is set=0.7, subsample=1.0 will be ignored. Current value: bagging_fraction=0.7\n",
      "[LightGBM] [Warning] bagging_freq is set=10, subsample_freq=0 will be ignored. Current value: bagging_freq=10\n",
      "Training until validation scores don't improve for 1000 rounds\n",
      "[500]\tvalid_0's quantile: 0.0293159\n",
      "[1000]\tvalid_0's quantile: 0.0289284\n",
      "[1500]\tvalid_0's quantile: 0.0288825\n",
      "[2000]\tvalid_0's quantile: 0.028884\n",
      "[2500]\tvalid_0's quantile: 0.0288965\n",
      "Early stopping, best iteration is:\n",
      "[1629]\tvalid_0's quantile: 0.0288636\n"
     ]
    }
   ],
   "source": [
    "from sklearn.model_selection import KFold\n",
    "folds = KFold(n_splits = k_n, shuffle = True, random_state = 2021)\n",
    "\n",
    "for i in range(len(par)):\n",
    "    param={\"objective\":'quantile',\n",
    "            \"n_estimators\":par.loc[i,\"n_est\"],\"bagging_fraction\":0.7, \n",
    "            \"learning_rate\":0.027, \"feature_fraction\":0.7,\n",
    "            \"feature_fraction_bynode\":0.8,\"bagging_freq\":10,\n",
    "            \"num_leaves\":par.loc[i,\"num_leav\"]}                   \n",
    "                              \n",
    "    for n_fold, (trn_idx, val_idx) in enumerate(folds.split(X_train_2)) :\n",
    "        X_train_8, Y_train_8 = X_train_2.iloc[trn_idx], Y_train_2.iloc[trn_idx] \n",
    "        X_valid_8, Y_valid_8 = X_train_2.iloc[val_idx], Y_train_2.iloc[val_idx]\n",
    "\n",
    "        K_models_8, K_results_8 = train_data(X_train_8, Y_train_8, \n",
    "                                         X_valid_8, Y_valid_8,\n",
    "                                         X_test_2,param)\n",
    "    \n",
    "        joblib.dump(K_models_8, kfold_path8+'model8_%s_fold%s.pkl'%(i,n_fold))\n",
    "        K_results_8.to_csv(kfold_path8+\"result8_%s_fold%s.csv\"%(i,n_fold),index=False)\n"
   ]
  },
  {
   "cell_type": "markdown",
   "metadata": {},
   "source": [
    "#### 오차"
   ]
  },
  {
   "cell_type": "code",
   "execution_count": 63,
   "metadata": {
    "collapsed": true,
    "jupyter": {
     "outputs_hidden": true
    }
   },
   "outputs": [
    {
     "data": {
      "text/html": [
       "<div>\n",
       "<style scoped>\n",
       "    .dataframe tbody tr th:only-of-type {\n",
       "        vertical-align: middle;\n",
       "    }\n",
       "\n",
       "    .dataframe tbody tr th {\n",
       "        vertical-align: top;\n",
       "    }\n",
       "\n",
       "    .dataframe thead th {\n",
       "        text-align: right;\n",
       "    }\n",
       "</style>\n",
       "<table border=\"1\" class=\"dataframe\">\n",
       "  <thead>\n",
       "    <tr style=\"text-align: right;\">\n",
       "      <th></th>\n",
       "      <th>model_0</th>\n",
       "      <th>model_1</th>\n",
       "    </tr>\n",
       "  </thead>\n",
       "  <tbody>\n",
       "    <tr>\n",
       "      <th>0</th>\n",
       "      <td>1.928632</td>\n",
       "      <td>1.885417</td>\n",
       "    </tr>\n",
       "    <tr>\n",
       "      <th>1</th>\n",
       "      <td>1.928027</td>\n",
       "      <td>1.888876</td>\n",
       "    </tr>\n",
       "  </tbody>\n",
       "</table>\n",
       "</div>"
      ],
      "text/plain": [
       "    model_0   model_1\n",
       "0  1.928632  1.885417\n",
       "1  1.928027  1.888876"
      ]
     },
     "execution_count": 63,
     "metadata": {},
     "output_type": "execute_result"
    }
   ],
   "source": [
    "model_error8=p_error(kfold_path8,k=k_n,model_n=len(par),y_data=y8_test,day=8,log=True)\n",
    "model_error8"
   ]
  },
  {
   "cell_type": "markdown",
   "metadata": {},
   "source": [
    "--------------------------------------------------------"
   ]
  },
  {
   "cell_type": "markdown",
   "metadata": {},
   "source": [
    "## 그냥 모델링"
   ]
  },
  {
   "cell_type": "markdown",
   "metadata": {},
   "source": [
    "--------------------------------------------------------"
   ]
  },
  {
   "cell_type": "markdown",
   "metadata": {},
   "source": [
    "### 7일"
   ]
  },
  {
   "cell_type": "markdown",
   "metadata": {},
   "source": [
    "#### parameter 수정"
   ]
  },
  {
   "cell_type": "code",
   "execution_count": 64,
   "metadata": {
    "collapsed": true,
    "jupyter": {
     "outputs_hidden": true
    }
   },
   "outputs": [],
   "source": [
    "n_est=[1500]\n",
    "num_leav=[31]\n",
    "par=[n_est,num_leav]\n",
    "par=pd.DataFrame(product(*par),columns=[\"n_est\",\"num_leav\"])\n"
   ]
  },
  {
   "cell_type": "code",
   "execution_count": 65,
   "metadata": {
    "collapsed": true,
    "jupyter": {
     "outputs_hidden": true
    }
   },
   "outputs": [],
   "source": [
    "quantiles = [0.1, 0.2, 0.3, 0.4, 0.5, 0.6, 0.7, 0.8, 0.9]"
   ]
  },
  {
   "cell_type": "markdown",
   "metadata": {},
   "source": [
    "#### 7일 예측모형"
   ]
  },
  {
   "cell_type": "markdown",
   "metadata": {},
   "source": [
    "### @@@@@@@@@@@@@@@@@@@@@@@@@@@@@@@@@"
   ]
  },
  {
   "cell_type": "code",
   "execution_count": 66,
   "metadata": {
    "collapsed": true,
    "jupyter": {
     "outputs_hidden": true
    }
   },
   "outputs": [],
   "source": [
    "path7=\"./model2/\""
   ]
  },
  {
   "cell_type": "markdown",
   "metadata": {},
   "source": [
    "### @@@@@@@@@@@@@@@@@@@@@@@@@@@@@@@@@"
   ]
  },
  {
   "cell_type": "code",
   "execution_count": 67,
   "metadata": {
    "collapsed": true,
    "jupyter": {
     "outputs_hidden": true
    }
   },
   "outputs": [
    {
     "name": "stdout",
     "output_type": "stream",
     "text": [
      "0.1\n",
      "[LightGBM] [Warning] feature_fraction is set=0.7, colsample_bytree=1.0 will be ignored. Current value: feature_fraction=0.7\n",
      "[LightGBM] [Warning] bagging_fraction is set=0.7, subsample=1.0 will be ignored. Current value: bagging_fraction=0.7\n",
      "[LightGBM] [Warning] bagging_freq is set=10, subsample_freq=0 will be ignored. Current value: bagging_freq=10\n",
      "Training until validation scores don't improve for 1000 rounds\n",
      "[500]\tvalid_0's quantile: 0.069614\n",
      "[1000]\tvalid_0's quantile: 0.069457\n",
      "[1500]\tvalid_0's quantile: 0.0677153\n",
      "Did not meet early stopping. Best iteration is:\n",
      "[1499]\tvalid_0's quantile: 0.067715\n",
      "0.2\n",
      "[LightGBM] [Warning] feature_fraction is set=0.7, colsample_bytree=1.0 will be ignored. Current value: feature_fraction=0.7\n",
      "[LightGBM] [Warning] bagging_fraction is set=0.7, subsample=1.0 will be ignored. Current value: bagging_fraction=0.7\n",
      "[LightGBM] [Warning] bagging_freq is set=10, subsample_freq=0 will be ignored. Current value: bagging_freq=10\n",
      "Training until validation scores don't improve for 1000 rounds\n",
      "[500]\tvalid_0's quantile: 0.0927452\n",
      "[1000]\tvalid_0's quantile: 0.0918538\n",
      "[1500]\tvalid_0's quantile: 0.0910227\n",
      "Did not meet early stopping. Best iteration is:\n",
      "[1500]\tvalid_0's quantile: 0.0910227\n",
      "0.3\n",
      "[LightGBM] [Warning] feature_fraction is set=0.7, colsample_bytree=1.0 will be ignored. Current value: feature_fraction=0.7\n",
      "[LightGBM] [Warning] bagging_fraction is set=0.7, subsample=1.0 will be ignored. Current value: bagging_fraction=0.7\n",
      "[LightGBM] [Warning] bagging_freq is set=10, subsample_freq=0 will be ignored. Current value: bagging_freq=10\n",
      "Training until validation scores don't improve for 1000 rounds\n",
      "[500]\tvalid_0's quantile: 0.104164\n",
      "[1000]\tvalid_0's quantile: 0.103218\n",
      "[1500]\tvalid_0's quantile: 0.101687\n",
      "Did not meet early stopping. Best iteration is:\n",
      "[1500]\tvalid_0's quantile: 0.101687\n",
      "0.4\n",
      "[LightGBM] [Warning] feature_fraction is set=0.7, colsample_bytree=1.0 will be ignored. Current value: feature_fraction=0.7\n",
      "[LightGBM] [Warning] bagging_fraction is set=0.7, subsample=1.0 will be ignored. Current value: bagging_fraction=0.7\n",
      "[LightGBM] [Warning] bagging_freq is set=10, subsample_freq=0 will be ignored. Current value: bagging_freq=10\n",
      "Training until validation scores don't improve for 1000 rounds\n",
      "[500]\tvalid_0's quantile: 0.101989\n",
      "[1000]\tvalid_0's quantile: 0.100154\n",
      "[1500]\tvalid_0's quantile: 0.099749\n",
      "Did not meet early stopping. Best iteration is:\n",
      "[1500]\tvalid_0's quantile: 0.099749\n",
      "0.5\n",
      "[LightGBM] [Warning] feature_fraction is set=0.7, colsample_bytree=1.0 will be ignored. Current value: feature_fraction=0.7\n",
      "[LightGBM] [Warning] bagging_fraction is set=0.7, subsample=1.0 will be ignored. Current value: bagging_fraction=0.7\n",
      "[LightGBM] [Warning] bagging_freq is set=10, subsample_freq=0 will be ignored. Current value: bagging_freq=10\n",
      "Training until validation scores don't improve for 1000 rounds\n",
      "[500]\tvalid_0's quantile: 0.0966236\n",
      "[1000]\tvalid_0's quantile: 0.094965\n",
      "[1500]\tvalid_0's quantile: 0.0943248\n",
      "Did not meet early stopping. Best iteration is:\n",
      "[1498]\tvalid_0's quantile: 0.0943248\n",
      "0.6\n",
      "[LightGBM] [Warning] feature_fraction is set=0.7, colsample_bytree=1.0 will be ignored. Current value: feature_fraction=0.7\n",
      "[LightGBM] [Warning] bagging_fraction is set=0.7, subsample=1.0 will be ignored. Current value: bagging_fraction=0.7\n",
      "[LightGBM] [Warning] bagging_freq is set=10, subsample_freq=0 will be ignored. Current value: bagging_freq=10\n",
      "Training until validation scores don't improve for 1000 rounds\n",
      "[500]\tvalid_0's quantile: 0.0846035\n",
      "[1000]\tvalid_0's quantile: 0.0821776\n",
      "[1500]\tvalid_0's quantile: 0.0817915\n",
      "Did not meet early stopping. Best iteration is:\n",
      "[1500]\tvalid_0's quantile: 0.0817915\n",
      "0.7\n",
      "[LightGBM] [Warning] feature_fraction is set=0.7, colsample_bytree=1.0 will be ignored. Current value: feature_fraction=0.7\n",
      "[LightGBM] [Warning] bagging_fraction is set=0.7, subsample=1.0 will be ignored. Current value: bagging_fraction=0.7\n",
      "[LightGBM] [Warning] bagging_freq is set=10, subsample_freq=0 will be ignored. Current value: bagging_freq=10\n",
      "Training until validation scores don't improve for 1000 rounds\n",
      "[500]\tvalid_0's quantile: 0.0689509\n",
      "[1000]\tvalid_0's quantile: 0.0671561\n",
      "[1500]\tvalid_0's quantile: 0.0668644\n",
      "Did not meet early stopping. Best iteration is:\n",
      "[1500]\tvalid_0's quantile: 0.0668644\n",
      "0.8\n",
      "[LightGBM] [Warning] feature_fraction is set=0.7, colsample_bytree=1.0 will be ignored. Current value: feature_fraction=0.7\n",
      "[LightGBM] [Warning] bagging_fraction is set=0.7, subsample=1.0 will be ignored. Current value: bagging_fraction=0.7\n",
      "[LightGBM] [Warning] bagging_freq is set=10, subsample_freq=0 will be ignored. Current value: bagging_freq=10\n",
      "Training until validation scores don't improve for 1000 rounds\n",
      "[500]\tvalid_0's quantile: 0.0505544\n",
      "[1000]\tvalid_0's quantile: 0.0492318\n",
      "[1500]\tvalid_0's quantile: 0.0486997\n",
      "Did not meet early stopping. Best iteration is:\n",
      "[1499]\tvalid_0's quantile: 0.0486994\n",
      "0.9\n",
      "[LightGBM] [Warning] feature_fraction is set=0.7, colsample_bytree=1.0 will be ignored. Current value: feature_fraction=0.7\n",
      "[LightGBM] [Warning] bagging_fraction is set=0.7, subsample=1.0 will be ignored. Current value: bagging_fraction=0.7\n",
      "[LightGBM] [Warning] bagging_freq is set=10, subsample_freq=0 will be ignored. Current value: bagging_freq=10\n",
      "Training until validation scores don't improve for 1000 rounds\n",
      "[500]\tvalid_0's quantile: 0.0295114\n",
      "[1000]\tvalid_0's quantile: 0.0287652\n",
      "[1500]\tvalid_0's quantile: 0.0283817\n",
      "Did not meet early stopping. Best iteration is:\n",
      "[1500]\tvalid_0's quantile: 0.0283817\n"
     ]
    }
   ],
   "source": [
    "from sklearn.model_selection import train_test_split\n",
    "X_train_7, X_valid_7, Y_train_7, Y_valid_7 = train_test_split(X_train_1, \n",
    "                                                              Y_train_1, \n",
    "                                                              test_size=0.3, \n",
    "                                                              random_state=0)\n",
    "\n",
    "for i in range(len(par)):\n",
    "    \n",
    "    param={\"objective\":'quantile',\n",
    "            \"n_estimators\":par.loc[i,\"n_est\"],\"bagging_fraction\":0.7, \n",
    "            \"learning_rate\":0.027, \"feature_fraction\":0.7,\n",
    "            \"feature_fraction_bynode\":0.8,\"bagging_freq\":10,\n",
    "            \"num_leaves\":par.loc[i,\"num_leav\"]}                   \n",
    "    models_7, results_7 = train_data(X_train_7, Y_train_7,\n",
    "                                     X_valid_7, Y_valid_7,\n",
    "                                     X_test_1,param)\n",
    "    \n",
    "    joblib.dump(models_7, path7+'model7_%s.pkl'%i)\n",
    "    results_7.to_csv(path7+\"result7_%s.csv\"%i,index=False)\n",
    "    \n"
   ]
  },
  {
   "cell_type": "markdown",
   "metadata": {},
   "source": [
    "--------------------------------------------------------"
   ]
  },
  {
   "cell_type": "markdown",
   "metadata": {},
   "source": [
    "#### 오차"
   ]
  },
  {
   "cell_type": "code",
   "execution_count": 68,
   "metadata": {
    "collapsed": true,
    "jupyter": {
     "outputs_hidden": true
    }
   },
   "outputs": [
    {
     "data": {
      "text/html": [
       "<div>\n",
       "<style scoped>\n",
       "    .dataframe tbody tr th:only-of-type {\n",
       "        vertical-align: middle;\n",
       "    }\n",
       "\n",
       "    .dataframe tbody tr th {\n",
       "        vertical-align: top;\n",
       "    }\n",
       "\n",
       "    .dataframe thead th {\n",
       "        text-align: right;\n",
       "    }\n",
       "</style>\n",
       "<table border=\"1\" class=\"dataframe\">\n",
       "  <thead>\n",
       "    <tr style=\"text-align: right;\">\n",
       "      <th></th>\n",
       "      <th>model_0</th>\n",
       "    </tr>\n",
       "  </thead>\n",
       "  <tbody>\n",
       "    <tr>\n",
       "      <th>0</th>\n",
       "      <td>1.767512</td>\n",
       "    </tr>\n",
       "  </tbody>\n",
       "</table>\n",
       "</div>"
      ],
      "text/plain": [
       "    model_0\n",
       "0  1.767512"
      ]
     },
     "execution_count": 68,
     "metadata": {},
     "output_type": "execute_result"
    }
   ],
   "source": [
    "model_error7=p_error(path7,k=1,model_n=len(par),y_data=y7_test,day=7,log=True)\n",
    "model_error7"
   ]
  },
  {
   "cell_type": "markdown",
   "metadata": {},
   "source": [
    "#### importance"
   ]
  },
  {
   "cell_type": "markdown",
   "metadata": {},
   "source": [
    "### @@@@@@@@@@@@@@@@@@@@@@@@@@@@@@@@@"
   ]
  },
  {
   "cell_type": "code",
   "execution_count": 69,
   "metadata": {
    "collapsed": true,
    "jupyter": {
     "outputs_hidden": true
    }
   },
   "outputs": [],
   "source": [
    "model7=joblib.load(path7+\"model7_0.pkl\")"
   ]
  },
  {
   "cell_type": "markdown",
   "metadata": {},
   "source": [
    "### @@@@@@@@@@@@@@@@@@@@@@@@@@@@@@@@@"
   ]
  },
  {
   "cell_type": "code",
   "execution_count": 70,
   "metadata": {
    "collapsed": true,
    "jupyter": {
     "outputs_hidden": true
    }
   },
   "outputs": [
    {
     "data": {
      "image/png": "[encoded data removed]",
      "text/plain": [
       "<Figure size 720x432 with 1 Axes>"
      ]
     },
     "metadata": {
      "needs_background": "light"
     },
     "output_type": "display_data"
    }
   ],
   "source": [
    "fig, ax = plt.subplots(figsize=(10,6))\n",
    "plot_importance(model7[1],ax=ax)\n",
    "plt.tight_layout()\n"
   ]
  },
  {
   "cell_type": "code",
   "execution_count": 72,
   "metadata": {
    "collapsed": true,
    "jupyter": {
     "outputs_hidden": true
    }
   },
   "outputs": [],
   "source": [
    "fe_import=pd.DataFrame(zip(model7[1].feature_importances_,X_train_1.columns.tolist()),columns=[\"value\",\"feature\"])\n"
   ]
  },
  {
   "cell_type": "code",
   "execution_count": 73,
   "metadata": {
    "collapsed": true,
    "jupyter": {
     "outputs_hidden": true
    }
   },
   "outputs": [
    {
     "data": {
      "image/png": "[encoded data removed]",
      "text/plain": [
       "<Figure size 1440x720 with 1 Axes>"
      ]
     },
     "metadata": {
      "needs_background": "light"
     },
     "output_type": "display_data"
    }
   ],
   "source": [
    "plt.figure(figsize=(20, 10))\n",
    "sns.barplot(x=\"value\", y=\"feature\", data=fe_import.sort_values(by=\"value\", ascending=False))\n",
    "plt.title('LightGBM Features (avg over folds)')\n",
    "plt.tight_layout()\n",
    "plt.show()\n",
    "#plt.savefig('lgbm_importances-01.png')"
   ]
  },
  {
   "cell_type": "markdown",
   "metadata": {},
   "source": [
    "--------------------------------------------------------"
   ]
  },
  {
   "cell_type": "markdown",
   "metadata": {},
   "source": [
    "### 8일"
   ]
  },
  {
   "cell_type": "markdown",
   "metadata": {},
   "source": [
    "#### parameter 수정"
   ]
  },
  {
   "cell_type": "code",
   "execution_count": 74,
   "metadata": {
    "collapsed": true,
    "jupyter": {
     "outputs_hidden": true
    }
   },
   "outputs": [],
   "source": [
    "n_est=[1500,3000]\n",
    "num_leav=[31]\n",
    "par=[n_est,num_leav]\n",
    "par=pd.DataFrame(product(*par),columns=[\"n_est\",\"num_leav\"])\n"
   ]
  },
  {
   "cell_type": "code",
   "execution_count": 97,
   "metadata": {
    "collapsed": true,
    "jupyter": {
     "outputs_hidden": true
    }
   },
   "outputs": [],
   "source": [
    "quantiles = [0.1, 0.2, 0.3, 0.4, 0.5, 0.6, 0.7, 0.8, 0.9]"
   ]
  },
  {
   "cell_type": "markdown",
   "metadata": {},
   "source": [
    "#### 8일 예측모형"
   ]
  },
  {
   "cell_type": "markdown",
   "metadata": {},
   "source": [
    "### @@@@@@@@@@@@@@@@@@@@@@@@@@@@@@@@@"
   ]
  },
  {
   "cell_type": "code",
   "execution_count": 98,
   "metadata": {
    "collapsed": true,
    "jupyter": {
     "outputs_hidden": true
    }
   },
   "outputs": [],
   "source": [
    "path8=\"./model2/\""
   ]
  },
  {
   "cell_type": "markdown",
   "metadata": {},
   "source": [
    "### @@@@@@@@@@@@@@@@@@@@@@@@@@@@@@@@@"
   ]
  },
  {
   "cell_type": "code",
   "execution_count": 99,
   "metadata": {
    "collapsed": true,
    "jupyter": {
     "outputs_hidden": true
    }
   },
   "outputs": [
    {
     "name": "stdout",
     "output_type": "stream",
     "text": [
      "0.1\n",
      "[LightGBM] [Warning] feature_fraction is set=0.7, colsample_bytree=1.0 will be ignored. Current value: feature_fraction=0.7\n",
      "[LightGBM] [Warning] bagging_fraction is set=0.7, subsample=1.0 will be ignored. Current value: bagging_fraction=0.7\n",
      "Training until validation scores don't improve for 1000 rounds\n",
      "[500]\tvalid_0's quantile: 0.0692139\n",
      "[1000]\tvalid_0's quantile: 0.0692154\n",
      "[1500]\tvalid_0's quantile: 0.0692216\n",
      "Did not meet early stopping. Best iteration is:\n",
      "[518]\tvalid_0's quantile: 0.0692098\n",
      "0.2\n",
      "[LightGBM] [Warning] feature_fraction is set=0.7, colsample_bytree=1.0 will be ignored. Current value: feature_fraction=0.7\n",
      "[LightGBM] [Warning] bagging_fraction is set=0.7, subsample=1.0 will be ignored. Current value: bagging_fraction=0.7\n",
      "Training until validation scores don't improve for 1000 rounds\n",
      "[500]\tvalid_0's quantile: 0.0927663\n",
      "[1000]\tvalid_0's quantile: 0.092477\n",
      "[1500]\tvalid_0's quantile: 0.0924757\n",
      "Did not meet early stopping. Best iteration is:\n",
      "[1499]\tvalid_0's quantile: 0.0924757\n",
      "0.3\n",
      "[LightGBM] [Warning] feature_fraction is set=0.7, colsample_bytree=1.0 will be ignored. Current value: feature_fraction=0.7\n",
      "[LightGBM] [Warning] bagging_fraction is set=0.7, subsample=1.0 will be ignored. Current value: bagging_fraction=0.7\n",
      "Training until validation scores don't improve for 1000 rounds\n",
      "[500]\tvalid_0's quantile: 0.10197\n",
      "[1000]\tvalid_0's quantile: 0.101866\n",
      "[1500]\tvalid_0's quantile: 0.101866\n",
      "Did not meet early stopping. Best iteration is:\n",
      "[1500]\tvalid_0's quantile: 0.101866\n",
      "0.4\n",
      "[LightGBM] [Warning] feature_fraction is set=0.7, colsample_bytree=1.0 will be ignored. Current value: feature_fraction=0.7\n",
      "[LightGBM] [Warning] bagging_fraction is set=0.7, subsample=1.0 will be ignored. Current value: bagging_fraction=0.7\n",
      "Training until validation scores don't improve for 1000 rounds\n",
      "[500]\tvalid_0's quantile: 0.100965\n",
      "[1000]\tvalid_0's quantile: 0.100782\n",
      "[1500]\tvalid_0's quantile: 0.0999292\n",
      "Did not meet early stopping. Best iteration is:\n",
      "[1500]\tvalid_0's quantile: 0.0999292\n",
      "0.5\n",
      "[LightGBM] [Warning] feature_fraction is set=0.7, colsample_bytree=1.0 will be ignored. Current value: feature_fraction=0.7\n",
      "[LightGBM] [Warning] bagging_fraction is set=0.7, subsample=1.0 will be ignored. Current value: bagging_fraction=0.7\n",
      "Training until validation scores don't improve for 1000 rounds\n",
      "[500]\tvalid_0's quantile: 0.0947269\n",
      "[1000]\tvalid_0's quantile: 0.0908071\n",
      "[1500]\tvalid_0's quantile: 0.0899339\n",
      "Did not meet early stopping. Best iteration is:\n",
      "[1499]\tvalid_0's quantile: 0.0899339\n",
      "0.6\n",
      "[LightGBM] [Warning] feature_fraction is set=0.7, colsample_bytree=1.0 will be ignored. Current value: feature_fraction=0.7\n",
      "[LightGBM] [Warning] bagging_fraction is set=0.7, subsample=1.0 will be ignored. Current value: bagging_fraction=0.7\n",
      "Training until validation scores don't improve for 1000 rounds\n",
      "[500]\tvalid_0's quantile: 0.0834373\n",
      "[1000]\tvalid_0's quantile: 0.082122\n",
      "[1500]\tvalid_0's quantile: 0.0820542\n",
      "Did not meet early stopping. Best iteration is:\n",
      "[1499]\tvalid_0's quantile: 0.0820542\n",
      "0.7\n",
      "[LightGBM] [Warning] feature_fraction is set=0.7, colsample_bytree=1.0 will be ignored. Current value: feature_fraction=0.7\n",
      "[LightGBM] [Warning] bagging_fraction is set=0.7, subsample=1.0 will be ignored. Current value: bagging_fraction=0.7\n",
      "Training until validation scores don't improve for 1000 rounds\n",
      "[500]\tvalid_0's quantile: 0.0687268\n",
      "[1000]\tvalid_0's quantile: 0.0671234\n",
      "[1500]\tvalid_0's quantile: 0.0669114\n",
      "Did not meet early stopping. Best iteration is:\n",
      "[1500]\tvalid_0's quantile: 0.0669114\n",
      "0.8\n",
      "[LightGBM] [Warning] feature_fraction is set=0.7, colsample_bytree=1.0 will be ignored. Current value: feature_fraction=0.7\n",
      "[LightGBM] [Warning] bagging_fraction is set=0.7, subsample=1.0 will be ignored. Current value: bagging_fraction=0.7\n",
      "Training until validation scores don't improve for 1000 rounds\n",
      "[500]\tvalid_0's quantile: 0.0506178\n",
      "[1000]\tvalid_0's quantile: 0.0497439\n",
      "[1500]\tvalid_0's quantile: 0.0491957\n",
      "Did not meet early stopping. Best iteration is:\n",
      "[1499]\tvalid_0's quantile: 0.0491954\n",
      "0.9\n",
      "[LightGBM] [Warning] feature_fraction is set=0.7, colsample_bytree=1.0 will be ignored. Current value: feature_fraction=0.7\n",
      "[LightGBM] [Warning] bagging_fraction is set=0.7, subsample=1.0 will be ignored. Current value: bagging_fraction=0.7\n",
      "Training until validation scores don't improve for 1000 rounds\n",
      "[500]\tvalid_0's quantile: 0.0286305\n",
      "[1000]\tvalid_0's quantile: 0.0284582\n",
      "[1500]\tvalid_0's quantile: 0.0284147\n",
      "Did not meet early stopping. Best iteration is:\n",
      "[1500]\tvalid_0's quantile: 0.0284147\n",
      "0.1\n",
      "[LightGBM] [Warning] feature_fraction is set=0.7, colsample_bytree=1.0 will be ignored. Current value: feature_fraction=0.7\n",
      "[LightGBM] [Warning] bagging_fraction is set=0.7, subsample=1.0 will be ignored. Current value: bagging_fraction=0.7\n",
      "Training until validation scores don't improve for 1000 rounds\n",
      "[500]\tvalid_0's quantile: 0.0692139\n",
      "[1000]\tvalid_0's quantile: 0.0692154\n",
      "[1500]\tvalid_0's quantile: 0.0692216\n",
      "Early stopping, best iteration is:\n",
      "[518]\tvalid_0's quantile: 0.0692098\n",
      "0.2\n",
      "[LightGBM] [Warning] feature_fraction is set=0.7, colsample_bytree=1.0 will be ignored. Current value: feature_fraction=0.7\n",
      "[LightGBM] [Warning] bagging_fraction is set=0.7, subsample=1.0 will be ignored. Current value: bagging_fraction=0.7\n",
      "Training until validation scores don't improve for 1000 rounds\n",
      "[500]\tvalid_0's quantile: 0.0927663\n",
      "[1000]\tvalid_0's quantile: 0.092477\n",
      "[1500]\tvalid_0's quantile: 0.0924757\n",
      "[2000]\tvalid_0's quantile: 0.0924756\n",
      "[2500]\tvalid_0's quantile: 0.0924756\n",
      "[3000]\tvalid_0's quantile: 0.0924757\n",
      "Did not meet early stopping. Best iteration is:\n",
      "[2157]\tvalid_0's quantile: 0.0924755\n",
      "0.3\n",
      "[LightGBM] [Warning] feature_fraction is set=0.7, colsample_bytree=1.0 will be ignored. Current value: feature_fraction=0.7\n",
      "[LightGBM] [Warning] bagging_fraction is set=0.7, subsample=1.0 will be ignored. Current value: bagging_fraction=0.7\n",
      "Training until validation scores don't improve for 1000 rounds\n",
      "[500]\tvalid_0's quantile: 0.10197\n",
      "[1000]\tvalid_0's quantile: 0.101866\n",
      "[1500]\tvalid_0's quantile: 0.101866\n",
      "[2000]\tvalid_0's quantile: 0.101866\n",
      "[2500]\tvalid_0's quantile: 0.101866\n",
      "[3000]\tvalid_0's quantile: 0.101865\n",
      "Did not meet early stopping. Best iteration is:\n",
      "[3000]\tvalid_0's quantile: 0.101865\n",
      "0.4\n",
      "[LightGBM] [Warning] feature_fraction is set=0.7, colsample_bytree=1.0 will be ignored. Current value: feature_fraction=0.7\n",
      "[LightGBM] [Warning] bagging_fraction is set=0.7, subsample=1.0 will be ignored. Current value: bagging_fraction=0.7\n",
      "Training until validation scores don't improve for 1000 rounds\n",
      "[500]\tvalid_0's quantile: 0.100965\n",
      "[1000]\tvalid_0's quantile: 0.100782\n",
      "[1500]\tvalid_0's quantile: 0.0999292\n",
      "[2000]\tvalid_0's quantile: 0.0988608\n",
      "[2500]\tvalid_0's quantile: 0.0972423\n",
      "[3000]\tvalid_0's quantile: 0.0964684\n",
      "Did not meet early stopping. Best iteration is:\n",
      "[3000]\tvalid_0's quantile: 0.0964684\n",
      "0.5\n",
      "[LightGBM] [Warning] feature_fraction is set=0.7, colsample_bytree=1.0 will be ignored. Current value: feature_fraction=0.7\n",
      "[LightGBM] [Warning] bagging_fraction is set=0.7, subsample=1.0 will be ignored. Current value: bagging_fraction=0.7\n",
      "Training until validation scores don't improve for 1000 rounds\n",
      "[500]\tvalid_0's quantile: 0.0947269\n",
      "[1000]\tvalid_0's quantile: 0.0908071\n",
      "[1500]\tvalid_0's quantile: 0.0899339\n",
      "[2000]\tvalid_0's quantile: 0.0898889\n",
      "[2500]\tvalid_0's quantile: 0.0898887\n",
      "[3000]\tvalid_0's quantile: 0.0894823\n",
      "Did not meet early stopping. Best iteration is:\n",
      "[3000]\tvalid_0's quantile: 0.0894823\n",
      "0.6\n",
      "[LightGBM] [Warning] feature_fraction is set=0.7, colsample_bytree=1.0 will be ignored. Current value: feature_fraction=0.7\n",
      "[LightGBM] [Warning] bagging_fraction is set=0.7, subsample=1.0 will be ignored. Current value: bagging_fraction=0.7\n",
      "Training until validation scores don't improve for 1000 rounds\n",
      "[500]\tvalid_0's quantile: 0.0834373\n",
      "[1000]\tvalid_0's quantile: 0.082122\n",
      "[1500]\tvalid_0's quantile: 0.0820542\n",
      "[2000]\tvalid_0's quantile: 0.0819521\n",
      "[2500]\tvalid_0's quantile: 0.0816586\n",
      "[3000]\tvalid_0's quantile: 0.0812336\n",
      "Did not meet early stopping. Best iteration is:\n",
      "[3000]\tvalid_0's quantile: 0.0812336\n",
      "0.7\n",
      "[LightGBM] [Warning] feature_fraction is set=0.7, colsample_bytree=1.0 will be ignored. Current value: feature_fraction=0.7\n",
      "[LightGBM] [Warning] bagging_fraction is set=0.7, subsample=1.0 will be ignored. Current value: bagging_fraction=0.7\n",
      "Training until validation scores don't improve for 1000 rounds\n",
      "[500]\tvalid_0's quantile: 0.0687268\n",
      "[1000]\tvalid_0's quantile: 0.0671234\n",
      "[1500]\tvalid_0's quantile: 0.0669114\n",
      "[2000]\tvalid_0's quantile: 0.0668037\n",
      "[2500]\tvalid_0's quantile: 0.0667761\n",
      "[3000]\tvalid_0's quantile: 0.0666417\n",
      "Did not meet early stopping. Best iteration is:\n",
      "[2998]\tvalid_0's quantile: 0.0666416\n",
      "0.8\n",
      "[LightGBM] [Warning] feature_fraction is set=0.7, colsample_bytree=1.0 will be ignored. Current value: feature_fraction=0.7\n",
      "[LightGBM] [Warning] bagging_fraction is set=0.7, subsample=1.0 will be ignored. Current value: bagging_fraction=0.7\n",
      "Training until validation scores don't improve for 1000 rounds\n",
      "[500]\tvalid_0's quantile: 0.0506178\n",
      "[1000]\tvalid_0's quantile: 0.0497439\n",
      "[1500]\tvalid_0's quantile: 0.0491957\n",
      "[2000]\tvalid_0's quantile: 0.0489107\n",
      "[2500]\tvalid_0's quantile: 0.0487073\n",
      "[3000]\tvalid_0's quantile: 0.0486811\n",
      "Did not meet early stopping. Best iteration is:\n",
      "[2674]\tvalid_0's quantile: 0.0486669\n",
      "0.9\n",
      "[LightGBM] [Warning] feature_fraction is set=0.7, colsample_bytree=1.0 will be ignored. Current value: feature_fraction=0.7\n",
      "[LightGBM] [Warning] bagging_fraction is set=0.7, subsample=1.0 will be ignored. Current value: bagging_fraction=0.7\n",
      "Training until validation scores don't improve for 1000 rounds\n",
      "[500]\tvalid_0's quantile: 0.0286305\n",
      "[1000]\tvalid_0's quantile: 0.0284582\n",
      "[1500]\tvalid_0's quantile: 0.0284147\n",
      "[2000]\tvalid_0's quantile: 0.0283908\n",
      "[2500]\tvalid_0's quantile: 0.0283879\n",
      "[3000]\tvalid_0's quantile: 0.0283754\n",
      "Did not meet early stopping. Best iteration is:\n",
      "[3000]\tvalid_0's quantile: 0.0283754\n"
     ]
    }
   ],
   "source": [
    "from sklearn.model_selection import train_test_split\n",
    "X_train_8, X_valid_8, Y_train_8, Y_valid_8 = train_test_split(X_train_2, \n",
    "                                                              Y_train_2, \n",
    "                                                              test_size=0.3, \n",
    "                                                              random_state=0)\n",
    "\n",
    "for i in range(len(par)):\n",
    "    param={\"objective\":'quantile',\n",
    "            \"n_estimators\":par.loc[i,\"n_est\"],\"bagging_fraction\":0.7, \n",
    "            \"learning_rate\":0.027, \"feature_fraction\":0.7,\n",
    "           # \"feature_fraction_bynode\":0.8,\"bagging_freq\":2,\n",
    "            \"num_leaves\":par.loc[i,\"num_leav\"]}                   \n",
    "\n",
    "        \n",
    "    models_8, results_8 = train_data(X_train_8, Y_train_8, \n",
    "                                         X_valid_8, Y_valid_8,\n",
    "                                         X_test_2,param)\n",
    "    \n",
    "    joblib.dump(models_8, path8+'model8_%s.pkl'%i)\n",
    "    results_8.to_csv(path8+\"result8_%s.csv\"%i,index=False)\n"
   ]
  },
  {
   "cell_type": "markdown",
   "metadata": {},
   "source": [
    "--------------------------------------------------------"
   ]
  },
  {
   "cell_type": "markdown",
   "metadata": {},
   "source": [
    "#### 오차"
   ]
  },
  {
   "cell_type": "code",
   "execution_count": 100,
   "metadata": {
    "collapsed": true,
    "jupyter": {
     "outputs_hidden": true
    }
   },
   "outputs": [
    {
     "data": {
      "text/html": [
       "<div>\n",
       "<style scoped>\n",
       "    .dataframe tbody tr th:only-of-type {\n",
       "        vertical-align: middle;\n",
       "    }\n",
       "\n",
       "    .dataframe tbody tr th {\n",
       "        vertical-align: top;\n",
       "    }\n",
       "\n",
       "    .dataframe thead th {\n",
       "        text-align: right;\n",
       "    }\n",
       "</style>\n",
       "<table border=\"1\" class=\"dataframe\">\n",
       "  <thead>\n",
       "    <tr style=\"text-align: right;\">\n",
       "      <th></th>\n",
       "      <th>model_0</th>\n",
       "      <th>model_1</th>\n",
       "    </tr>\n",
       "  </thead>\n",
       "  <tbody>\n",
       "    <tr>\n",
       "      <th>0</th>\n",
       "      <td>1.901738</td>\n",
       "      <td>1.875272</td>\n",
       "    </tr>\n",
       "  </tbody>\n",
       "</table>\n",
       "</div>"
      ],
      "text/plain": [
       "    model_0   model_1\n",
       "0  1.901738  1.875272"
      ]
     },
     "execution_count": 100,
     "metadata": {},
     "output_type": "execute_result"
    }
   ],
   "source": [
    "model_error8=p_error(path8,k=1,model_n=len(par),y_data=y8_test,day=8,log=True)\n",
    "model_error8"
   ]
  },
  {
   "cell_type": "markdown",
   "metadata": {},
   "source": [
    "#### importance"
   ]
  },
  {
   "cell_type": "code",
   "execution_count": 103,
   "metadata": {
    "collapsed": true,
    "jupyter": {
     "outputs_hidden": true
    }
   },
   "outputs": [],
   "source": [
    "model8=joblib.load(path8+\"model8_0.pkl\")"
   ]
  },
  {
   "cell_type": "code",
   "execution_count": 104,
   "metadata": {
    "collapsed": true,
    "jupyter": {
     "outputs_hidden": true
    }
   },
   "outputs": [
    {
     "data": {
      "image/png": "[encoded data removed]",
      "text/plain": [
       "<Figure size 720x432 with 1 Axes>"
      ]
     },
     "metadata": {
      "needs_background": "light"
     },
     "output_type": "display_data"
    }
   ],
   "source": [
    "fig, ax = plt.subplots(figsize=(10,6))\n",
    "plot_importance(model8[1],ax=ax)\n",
    "plt.tight_layout()\n"
   ]
  },
  {
   "cell_type": "markdown",
   "metadata": {},
   "source": [
    "--------------------------------------------------------"
   ]
  },
  {
   "cell_type": "markdown",
   "metadata": {},
   "source": [
    "# 제출용"
   ]
  },
  {
   "cell_type": "markdown",
   "metadata": {},
   "source": [
    "## test"
   ]
  },
  {
   "cell_type": "code",
   "execution_count": 75,
   "metadata": {
    "collapsed": true,
    "jupyter": {
     "outputs_hidden": true
    }
   },
   "outputs": [],
   "source": [
    "test_path=\"./\""
   ]
  },
  {
   "cell_type": "code",
   "execution_count": 76,
   "metadata": {
    "collapsed": true,
    "jupyter": {
     "outputs_hidden": true
    }
   },
   "outputs": [],
   "source": [
    "df_test = []\n",
    "\n",
    "for i in range(81):\n",
    "    file_path =  test_path+ str(i) + '.csv'\n",
    "\n",
    "    test=pd.read_csv(file_path)\n",
    "    \n",
    "    test['SUN']=test['DNI']+test['DHI']\n",
    "\n",
    "\n",
    "    test[d_mean_name]=test.groupby('Day')[col_name[3:]].transform(lambda x: x.mean())\n",
    "    test[d_std_name]=test.groupby('Day')[col_name[3:]].transform(lambda x: x.std())\n",
    "    test[d_rollmean_name]=test.groupby('Day')[col_name[3:]].transform(lambda x: x.rolling(3).mean())\n",
    "\n",
    "    test[h_rollstd_name]=test.groupby(['Hour',\"Minute\"])[col_name[3:]].transform(lambda x: x.rolling(3).std())\n",
    "    test[h_rollmean_name]=test.groupby(['Hour',\"Minute\"])[col_name[3:]].transform(lambda x: x.rolling(3).mean())\n",
    "                                     \n",
    "\n",
    "    test[\"d_SUN_mm\"]=test.groupby('Day')['SUN'].transform(mm)\n",
    "    test[\"h_SUN_mm\"]=test.groupby([\"Hour\",\"Minute\"])['SUN'].transform(mm)\n",
    "\n",
    "\n",
    "    reg=linear(test,\"d_TARGET_mean~Day\",k=5,seq=48)\n",
    "\n",
    "\n",
    "    reg[\"linear\"]=reg.apply(linear2,axis=1)\n",
    "\n",
    "    test=pd.merge(test,reg.loc[:,[\"Day\",\"linear\"]],on=\"Day\",how=\"left\")\n",
    "    RH_WS=test[[\"Day\",\"d_RH_mean\",\"d_WS_mean\"]].drop_duplicates([\"Day\"],keep=\"first\")\n",
    "    RH_WS2= scaler.transform(RH_WS.iloc[:,1:3])\n",
    "    RH_WS2=pd.DataFrame(RH_WS2)\n",
    "\n",
    "    RH_WS_km=kmm.fit_predict(RH_WS2)\n",
    "\n",
    "    RH_WS[\"RH_WS_km\"]=RH_WS_km\n",
    "    RH_WS.loc[:,[\"Day\",\"RH_WS_km\"]]\n",
    "\n",
    "    test=pd.merge(test,RH_WS.loc[:,[\"Day\",\"RH_WS_km\"]],on=\"Day\",how=\"left\")\n",
    "    test_scaler=scaler2.transform(test[test.columns.difference([\"Day\",\"Hour\",\"Minute\",\"linear\",\"RH_WS_km\",\"TARGET\"])])\n",
    "    test[test.columns.difference([\"Day\",\"Hour\",\"Minute\",\"linear\",\"RH_WS_km\",\"TARGET\"])]=test_scaler\n",
    "\n",
    "   # test=test.round(3)\n",
    "    df_test.append(test)\n",
    "#df_test=df_test.drop([\"TARGET\",\"DHI\",\"DNI\",\"WS\",\"RH\",\"T\",\"SUN\",\"Minute\",\"Hour\",\"Day\"],axis=1)   \n",
    "X_test = pd.concat(df_test)\n",
    "X_test=X_test.fillna(method=\"bfill\")\n",
    "X_test = X_test[X_test.Day==6]\n",
    "X_test[[\"linear\",\"RH_WS_km\"]]=X_test[[\"linear\",\"RH_WS_km\"]].astype(\"category\")\n",
    "X_test[\"TARGET\"]=np.log(X_test[\"TARGET\"]+1)"
   ]
  },
  {
   "cell_type": "markdown",
   "metadata": {},
   "source": [
    "### 변수선택"
   ]
  },
  {
   "cell_type": "code",
   "execution_count": 77,
   "metadata": {
    "collapsed": true,
    "jupyter": {
     "outputs_hidden": true
    }
   },
   "outputs": [],
   "source": [
    "test_name=X_test.iloc[:,:9].columns.tolist()"
   ]
  },
  {
   "cell_type": "code",
   "execution_count": 78,
   "metadata": {
    "collapsed": true,
    "jupyter": {
     "outputs_hidden": true
    }
   },
   "outputs": [],
   "source": [
    "select_list=[\"d_DHI_mean\",\"linear\",\"RH_WS_km\",\"d_TARGET_rollmean\",\n",
    "             \"h_TARGET_rollmean\",\"d_SUN_mm\",\"h_SUN_mm\",\"d_TARGET_std\"]\n"
   ]
  },
  {
   "cell_type": "code",
   "execution_count": 79,
   "metadata": {
    "collapsed": true,
    "jupyter": {
     "outputs_hidden": true
    }
   },
   "outputs": [],
   "source": [
    "X_test=X_test.loc[:,test_name+select_list]"
   ]
  },
  {
   "cell_type": "code",
   "execution_count": 80,
   "metadata": {
    "collapsed": true,
    "jupyter": {
     "outputs_hidden": true
    }
   },
   "outputs": [],
   "source": [
    "X_test=X_test.drop([\"Day\",\"Minute\"],axis=1)"
   ]
  },
  {
   "cell_type": "markdown",
   "metadata": {},
   "source": [
    "--------------------------------------------------------"
   ]
  },
  {
   "cell_type": "markdown",
   "metadata": {},
   "source": [
    "--------------------------------------------------------"
   ]
  },
  {
   "cell_type": "markdown",
   "metadata": {},
   "source": [
    "## Kfold"
   ]
  },
  {
   "cell_type": "markdown",
   "metadata": {},
   "source": [
    "--------------------------------------------------------"
   ]
  },
  {
   "cell_type": "markdown",
   "metadata": {},
   "source": [
    "### 7일"
   ]
  },
  {
   "cell_type": "markdown",
   "metadata": {},
   "source": [
    "#### parameter 수정"
   ]
  },
  {
   "cell_type": "code",
   "execution_count": 63,
   "metadata": {
    "collapsed": true,
    "jupyter": {
     "outputs_hidden": true
    }
   },
   "outputs": [],
   "source": [
    "n_est=[1500]\n",
    "num_leav=[31]\n",
    "par=[n_est,num_leav]\n",
    "par=pd.DataFrame(product(*par),columns=[\"n_est\",\"num_leav\"])\n",
    "k_n=2\n"
   ]
  },
  {
   "cell_type": "code",
   "execution_count": 64,
   "metadata": {
    "collapsed": true,
    "jupyter": {
     "outputs_hidden": true
    }
   },
   "outputs": [],
   "source": [
    "quantiles = [0.1, 0.2, 0.3, 0.4, 0.5, 0.6, 0.7, 0.8, 0.9]"
   ]
  },
  {
   "cell_type": "code",
   "execution_count": 114,
   "metadata": {
    "collapsed": true,
    "jupyter": {
     "outputs_hidden": true
    }
   },
   "outputs": [],
   "source": [
    "sub_kfold_path7=\"./sub/\""
   ]
  },
  {
   "cell_type": "markdown",
   "metadata": {},
   "source": [
    "#### 7일 예측모형"
   ]
  },
  {
   "cell_type": "code",
   "execution_count": 115,
   "metadata": {
    "collapsed": true,
    "jupyter": {
     "outputs_hidden": true
    }
   },
   "outputs": [
    {
     "name": "stdout",
     "output_type": "stream",
     "text": [
      "0.1\n",
      "[LightGBM] [Warning] feature_fraction is set=0.7, colsample_bytree=1.0 will be ignored. Current value: feature_fraction=0.7\n",
      "[LightGBM] [Warning] bagging_fraction is set=0.7, subsample=1.0 will be ignored. Current value: bagging_fraction=0.7\n",
      "[LightGBM] [Warning] bagging_freq is set=3, subsample_freq=0 will be ignored. Current value: bagging_freq=3\n",
      "Training until validation scores don't improve for 1000 rounds\n",
      "[500]\tvalid_0's quantile: 0.0682534\n",
      "[1000]\tvalid_0's quantile: 0.0675828\n",
      "[1500]\tvalid_0's quantile: 0.0660846\n",
      "Did not meet early stopping. Best iteration is:\n",
      "[1500]\tvalid_0's quantile: 0.0660846\n",
      "0.2\n",
      "[LightGBM] [Warning] feature_fraction is set=0.7, colsample_bytree=1.0 will be ignored. Current value: feature_fraction=0.7\n",
      "[LightGBM] [Warning] bagging_fraction is set=0.7, subsample=1.0 will be ignored. Current value: bagging_fraction=0.7\n",
      "[LightGBM] [Warning] bagging_freq is set=3, subsample_freq=0 will be ignored. Current value: bagging_freq=3\n",
      "Training until validation scores don't improve for 1000 rounds\n",
      "[500]\tvalid_0's quantile: 0.0929991\n",
      "[1000]\tvalid_0's quantile: 0.0926596\n",
      "[1500]\tvalid_0's quantile: 0.0907231\n",
      "Did not meet early stopping. Best iteration is:\n",
      "[1500]\tvalid_0's quantile: 0.0907231\n",
      "0.3\n",
      "[LightGBM] [Warning] feature_fraction is set=0.7, colsample_bytree=1.0 will be ignored. Current value: feature_fraction=0.7\n",
      "[LightGBM] [Warning] bagging_fraction is set=0.7, subsample=1.0 will be ignored. Current value: bagging_fraction=0.7\n",
      "[LightGBM] [Warning] bagging_freq is set=3, subsample_freq=0 will be ignored. Current value: bagging_freq=3\n",
      "Training until validation scores don't improve for 1000 rounds\n",
      "[500]\tvalid_0's quantile: 0.0986243\n",
      "[1000]\tvalid_0's quantile: 0.0975157\n",
      "[1500]\tvalid_0's quantile: 0.0973289\n",
      "Did not meet early stopping. Best iteration is:\n",
      "[1492]\tvalid_0's quantile: 0.0973274\n",
      "0.4\n",
      "[LightGBM] [Warning] feature_fraction is set=0.7, colsample_bytree=1.0 will be ignored. Current value: feature_fraction=0.7\n",
      "[LightGBM] [Warning] bagging_fraction is set=0.7, subsample=1.0 will be ignored. Current value: bagging_fraction=0.7\n",
      "[LightGBM] [Warning] bagging_freq is set=3, subsample_freq=0 will be ignored. Current value: bagging_freq=3\n",
      "Training until validation scores don't improve for 1000 rounds\n",
      "[500]\tvalid_0's quantile: 0.101857\n",
      "[1000]\tvalid_0's quantile: 0.100713\n",
      "[1500]\tvalid_0's quantile: 0.0988724\n",
      "Did not meet early stopping. Best iteration is:\n",
      "[1500]\tvalid_0's quantile: 0.0988724\n",
      "0.5\n",
      "[LightGBM] [Warning] feature_fraction is set=0.7, colsample_bytree=1.0 will be ignored. Current value: feature_fraction=0.7\n",
      "[LightGBM] [Warning] bagging_fraction is set=0.7, subsample=1.0 will be ignored. Current value: bagging_fraction=0.7\n",
      "[LightGBM] [Warning] bagging_freq is set=3, subsample_freq=0 will be ignored. Current value: bagging_freq=3\n",
      "Training until validation scores don't improve for 1000 rounds\n",
      "[500]\tvalid_0's quantile: 0.0925966\n",
      "[1000]\tvalid_0's quantile: 0.0899011\n",
      "[1500]\tvalid_0's quantile: 0.0897041\n",
      "Did not meet early stopping. Best iteration is:\n",
      "[1404]\tvalid_0's quantile: 0.089704\n",
      "0.6\n",
      "[LightGBM] [Warning] feature_fraction is set=0.7, colsample_bytree=1.0 will be ignored. Current value: feature_fraction=0.7\n",
      "[LightGBM] [Warning] bagging_fraction is set=0.7, subsample=1.0 will be ignored. Current value: bagging_fraction=0.7\n",
      "[LightGBM] [Warning] bagging_freq is set=3, subsample_freq=0 will be ignored. Current value: bagging_freq=3\n",
      "Training until validation scores don't improve for 1000 rounds\n",
      "[500]\tvalid_0's quantile: 0.0814717\n",
      "[1000]\tvalid_0's quantile: 0.0796035\n",
      "[1500]\tvalid_0's quantile: 0.0792514\n",
      "Did not meet early stopping. Best iteration is:\n",
      "[1500]\tvalid_0's quantile: 0.0792514\n",
      "0.7\n",
      "[LightGBM] [Warning] feature_fraction is set=0.7, colsample_bytree=1.0 will be ignored. Current value: feature_fraction=0.7\n",
      "[LightGBM] [Warning] bagging_fraction is set=0.7, subsample=1.0 will be ignored. Current value: bagging_fraction=0.7\n",
      "[LightGBM] [Warning] bagging_freq is set=3, subsample_freq=0 will be ignored. Current value: bagging_freq=3\n",
      "Training until validation scores don't improve for 1000 rounds\n",
      "[500]\tvalid_0's quantile: 0.0666942\n",
      "[1000]\tvalid_0's quantile: 0.0651598\n",
      "[1500]\tvalid_0's quantile: 0.0647487\n",
      "Did not meet early stopping. Best iteration is:\n",
      "[1500]\tvalid_0's quantile: 0.0647487\n",
      "0.8\n",
      "[LightGBM] [Warning] feature_fraction is set=0.7, colsample_bytree=1.0 will be ignored. Current value: feature_fraction=0.7\n",
      "[LightGBM] [Warning] bagging_fraction is set=0.7, subsample=1.0 will be ignored. Current value: bagging_fraction=0.7\n",
      "[LightGBM] [Warning] bagging_freq is set=3, subsample_freq=0 will be ignored. Current value: bagging_freq=3\n",
      "Training until validation scores don't improve for 1000 rounds\n",
      "[500]\tvalid_0's quantile: 0.0487061\n",
      "[1000]\tvalid_0's quantile: 0.0475154\n",
      "[1500]\tvalid_0's quantile: 0.0472854\n",
      "Did not meet early stopping. Best iteration is:\n",
      "[1495]\tvalid_0's quantile: 0.0472835\n",
      "0.9\n",
      "[LightGBM] [Warning] feature_fraction is set=0.7, colsample_bytree=1.0 will be ignored. Current value: feature_fraction=0.7\n",
      "[LightGBM] [Warning] bagging_fraction is set=0.7, subsample=1.0 will be ignored. Current value: bagging_fraction=0.7\n",
      "[LightGBM] [Warning] bagging_freq is set=3, subsample_freq=0 will be ignored. Current value: bagging_freq=3\n",
      "Training until validation scores don't improve for 1000 rounds\n",
      "[500]\tvalid_0's quantile: 0.0274788\n",
      "[1000]\tvalid_0's quantile: 0.026989\n",
      "[1500]\tvalid_0's quantile: 0.0268225\n",
      "Did not meet early stopping. Best iteration is:\n",
      "[1494]\tvalid_0's quantile: 0.0268217\n",
      "0.1\n",
      "[LightGBM] [Warning] feature_fraction is set=0.7, colsample_bytree=1.0 will be ignored. Current value: feature_fraction=0.7\n",
      "[LightGBM] [Warning] bagging_fraction is set=0.7, subsample=1.0 will be ignored. Current value: bagging_fraction=0.7\n",
      "[LightGBM] [Warning] bagging_freq is set=3, subsample_freq=0 will be ignored. Current value: bagging_freq=3\n",
      "Training until validation scores don't improve for 1000 rounds\n",
      "[500]\tvalid_0's quantile: 0.0665339\n",
      "[1000]\tvalid_0's quantile: 0.0663967\n",
      "[1500]\tvalid_0's quantile: 0.065477\n",
      "Did not meet early stopping. Best iteration is:\n",
      "[1498]\tvalid_0's quantile: 0.0654733\n",
      "0.2\n",
      "[LightGBM] [Warning] feature_fraction is set=0.7, colsample_bytree=1.0 will be ignored. Current value: feature_fraction=0.7\n",
      "[LightGBM] [Warning] bagging_fraction is set=0.7, subsample=1.0 will be ignored. Current value: bagging_fraction=0.7\n",
      "[LightGBM] [Warning] bagging_freq is set=3, subsample_freq=0 will be ignored. Current value: bagging_freq=3\n",
      "Training until validation scores don't improve for 1000 rounds\n",
      "[500]\tvalid_0's quantile: 0.088488\n",
      "[1000]\tvalid_0's quantile: 0.0865668\n",
      "[1500]\tvalid_0's quantile: 0.0864583\n",
      "Did not meet early stopping. Best iteration is:\n",
      "[1276]\tvalid_0's quantile: 0.0864568\n",
      "0.3\n",
      "[LightGBM] [Warning] feature_fraction is set=0.7, colsample_bytree=1.0 will be ignored. Current value: feature_fraction=0.7\n",
      "[LightGBM] [Warning] bagging_fraction is set=0.7, subsample=1.0 will be ignored. Current value: bagging_fraction=0.7\n",
      "[LightGBM] [Warning] bagging_freq is set=3, subsample_freq=0 will be ignored. Current value: bagging_freq=3\n",
      "Training until validation scores don't improve for 1000 rounds\n",
      "[500]\tvalid_0's quantile: 0.0988966\n",
      "[1000]\tvalid_0's quantile: 0.0974919\n",
      "[1500]\tvalid_0's quantile: 0.0971107\n",
      "Did not meet early stopping. Best iteration is:\n",
      "[1500]\tvalid_0's quantile: 0.0971107\n",
      "0.4\n",
      "[LightGBM] [Warning] feature_fraction is set=0.7, colsample_bytree=1.0 will be ignored. Current value: feature_fraction=0.7\n",
      "[LightGBM] [Warning] bagging_fraction is set=0.7, subsample=1.0 will be ignored. Current value: bagging_fraction=0.7\n",
      "[LightGBM] [Warning] bagging_freq is set=3, subsample_freq=0 will be ignored. Current value: bagging_freq=3\n",
      "Training until validation scores don't improve for 1000 rounds\n",
      "[500]\tvalid_0's quantile: 0.100043\n",
      "[1000]\tvalid_0's quantile: 0.0985602\n",
      "[1500]\tvalid_0's quantile: 0.0979657\n",
      "Did not meet early stopping. Best iteration is:\n",
      "[1500]\tvalid_0's quantile: 0.0979657\n",
      "0.5\n",
      "[LightGBM] [Warning] feature_fraction is set=0.7, colsample_bytree=1.0 will be ignored. Current value: feature_fraction=0.7\n",
      "[LightGBM] [Warning] bagging_fraction is set=0.7, subsample=1.0 will be ignored. Current value: bagging_fraction=0.7\n",
      "[LightGBM] [Warning] bagging_freq is set=3, subsample_freq=0 will be ignored. Current value: bagging_freq=3\n",
      "Training until validation scores don't improve for 1000 rounds\n",
      "[500]\tvalid_0's quantile: 0.094094\n",
      "[1000]\tvalid_0's quantile: 0.0914809\n",
      "[1500]\tvalid_0's quantile: 0.0910349\n",
      "Did not meet early stopping. Best iteration is:\n",
      "[1498]\tvalid_0's quantile: 0.0910349\n",
      "0.6\n",
      "[LightGBM] [Warning] feature_fraction is set=0.7, colsample_bytree=1.0 will be ignored. Current value: feature_fraction=0.7\n",
      "[LightGBM] [Warning] bagging_fraction is set=0.7, subsample=1.0 will be ignored. Current value: bagging_fraction=0.7\n",
      "[LightGBM] [Warning] bagging_freq is set=3, subsample_freq=0 will be ignored. Current value: bagging_freq=3\n",
      "Training until validation scores don't improve for 1000 rounds\n",
      "[500]\tvalid_0's quantile: 0.0827851\n",
      "[1000]\tvalid_0's quantile: 0.0817506\n",
      "[1500]\tvalid_0's quantile: 0.0811488\n",
      "Did not meet early stopping. Best iteration is:\n",
      "[1470]\tvalid_0's quantile: 0.0811487\n",
      "0.7\n",
      "[LightGBM] [Warning] feature_fraction is set=0.7, colsample_bytree=1.0 will be ignored. Current value: feature_fraction=0.7\n",
      "[LightGBM] [Warning] bagging_fraction is set=0.7, subsample=1.0 will be ignored. Current value: bagging_fraction=0.7\n",
      "[LightGBM] [Warning] bagging_freq is set=3, subsample_freq=0 will be ignored. Current value: bagging_freq=3\n",
      "Training until validation scores don't improve for 1000 rounds\n",
      "[500]\tvalid_0's quantile: 0.067717\n",
      "[1000]\tvalid_0's quantile: 0.0659392\n",
      "[1500]\tvalid_0's quantile: 0.0655622\n",
      "Did not meet early stopping. Best iteration is:\n",
      "[1500]\tvalid_0's quantile: 0.0655622\n",
      "0.8\n",
      "[LightGBM] [Warning] feature_fraction is set=0.7, colsample_bytree=1.0 will be ignored. Current value: feature_fraction=0.7\n",
      "[LightGBM] [Warning] bagging_fraction is set=0.7, subsample=1.0 will be ignored. Current value: bagging_fraction=0.7\n",
      "[LightGBM] [Warning] bagging_freq is set=3, subsample_freq=0 will be ignored. Current value: bagging_freq=3\n",
      "Training until validation scores don't improve for 1000 rounds\n",
      "[500]\tvalid_0's quantile: 0.0489593\n",
      "[1000]\tvalid_0's quantile: 0.0478124\n",
      "[1500]\tvalid_0's quantile: 0.047287\n",
      "Did not meet early stopping. Best iteration is:\n",
      "[1500]\tvalid_0's quantile: 0.047287\n",
      "0.9\n",
      "[LightGBM] [Warning] feature_fraction is set=0.7, colsample_bytree=1.0 will be ignored. Current value: feature_fraction=0.7\n",
      "[LightGBM] [Warning] bagging_fraction is set=0.7, subsample=1.0 will be ignored. Current value: bagging_fraction=0.7\n",
      "[LightGBM] [Warning] bagging_freq is set=3, subsample_freq=0 will be ignored. Current value: bagging_freq=3\n",
      "Training until validation scores don't improve for 1000 rounds\n",
      "[500]\tvalid_0's quantile: 0.0283903\n",
      "[1000]\tvalid_0's quantile: 0.0271642\n",
      "[1500]\tvalid_0's quantile: 0.0269551\n",
      "Did not meet early stopping. Best iteration is:\n",
      "[1499]\tvalid_0's quantile: 0.0269551\n",
      "0.1\n",
      "[LightGBM] [Warning] feature_fraction is set=0.7, colsample_bytree=1.0 will be ignored. Current value: feature_fraction=0.7\n",
      "[LightGBM] [Warning] bagging_fraction is set=0.7, subsample=1.0 will be ignored. Current value: bagging_fraction=0.7\n",
      "[LightGBM] [Warning] bagging_freq is set=3, subsample_freq=0 will be ignored. Current value: bagging_freq=3\n",
      "Training until validation scores don't improve for 1000 rounds\n",
      "[500]\tvalid_0's quantile: 0.0682534\n",
      "[1000]\tvalid_0's quantile: 0.0675828\n",
      "[1500]\tvalid_0's quantile: 0.0660846\n",
      "[2000]\tvalid_0's quantile: 0.0653022\n",
      "[2500]\tvalid_0's quantile: 0.0648116\n",
      "[3000]\tvalid_0's quantile: 0.0645248\n",
      "Did not meet early stopping. Best iteration is:\n",
      "[2998]\tvalid_0's quantile: 0.0645241\n",
      "0.2\n",
      "[LightGBM] [Warning] feature_fraction is set=0.7, colsample_bytree=1.0 will be ignored. Current value: feature_fraction=0.7\n",
      "[LightGBM] [Warning] bagging_fraction is set=0.7, subsample=1.0 will be ignored. Current value: bagging_fraction=0.7\n",
      "[LightGBM] [Warning] bagging_freq is set=3, subsample_freq=0 will be ignored. Current value: bagging_freq=3\n",
      "Training until validation scores don't improve for 1000 rounds\n",
      "[500]\tvalid_0's quantile: 0.0929991\n",
      "[1000]\tvalid_0's quantile: 0.0926596\n",
      "[1500]\tvalid_0's quantile: 0.0907231\n",
      "[2000]\tvalid_0's quantile: 0.0889353\n",
      "[2500]\tvalid_0's quantile: 0.0875932\n",
      "[3000]\tvalid_0's quantile: 0.0867091\n",
      "Did not meet early stopping. Best iteration is:\n",
      "[3000]\tvalid_0's quantile: 0.0867091\n",
      "0.3\n",
      "[LightGBM] [Warning] feature_fraction is set=0.7, colsample_bytree=1.0 will be ignored. Current value: feature_fraction=0.7\n",
      "[LightGBM] [Warning] bagging_fraction is set=0.7, subsample=1.0 will be ignored. Current value: bagging_fraction=0.7\n",
      "[LightGBM] [Warning] bagging_freq is set=3, subsample_freq=0 will be ignored. Current value: bagging_freq=3\n",
      "Training until validation scores don't improve for 1000 rounds\n",
      "[500]\tvalid_0's quantile: 0.0986243\n",
      "[1000]\tvalid_0's quantile: 0.0975157\n",
      "[1500]\tvalid_0's quantile: 0.0973289\n",
      "[2000]\tvalid_0's quantile: 0.0964891\n",
      "[2500]\tvalid_0's quantile: 0.0954397\n",
      "[3000]\tvalid_0's quantile: 0.0945297\n",
      "Did not meet early stopping. Best iteration is:\n",
      "[2999]\tvalid_0's quantile: 0.0945285\n",
      "0.4\n",
      "[LightGBM] [Warning] feature_fraction is set=0.7, colsample_bytree=1.0 will be ignored. Current value: feature_fraction=0.7\n",
      "[LightGBM] [Warning] bagging_fraction is set=0.7, subsample=1.0 will be ignored. Current value: bagging_fraction=0.7\n",
      "[LightGBM] [Warning] bagging_freq is set=3, subsample_freq=0 will be ignored. Current value: bagging_freq=3\n",
      "Training until validation scores don't improve for 1000 rounds\n",
      "[500]\tvalid_0's quantile: 0.101857\n",
      "[1000]\tvalid_0's quantile: 0.100713\n",
      "[1500]\tvalid_0's quantile: 0.0988724\n",
      "[2000]\tvalid_0's quantile: 0.0974641\n",
      "[2500]\tvalid_0's quantile: 0.0962541\n",
      "[3000]\tvalid_0's quantile: 0.0955204\n",
      "Did not meet early stopping. Best iteration is:\n",
      "[2998]\tvalid_0's quantile: 0.0955172\n",
      "0.5\n",
      "[LightGBM] [Warning] feature_fraction is set=0.7, colsample_bytree=1.0 will be ignored. Current value: feature_fraction=0.7\n",
      "[LightGBM] [Warning] bagging_fraction is set=0.7, subsample=1.0 will be ignored. Current value: bagging_fraction=0.7\n",
      "[LightGBM] [Warning] bagging_freq is set=3, subsample_freq=0 will be ignored. Current value: bagging_freq=3\n",
      "Training until validation scores don't improve for 1000 rounds\n",
      "[500]\tvalid_0's quantile: 0.0925966\n",
      "[1000]\tvalid_0's quantile: 0.0899011\n",
      "[1500]\tvalid_0's quantile: 0.0897041\n",
      "[2000]\tvalid_0's quantile: 0.089465\n",
      "[2500]\tvalid_0's quantile: 0.0890479\n",
      "[3000]\tvalid_0's quantile: 0.0885247\n",
      "Did not meet early stopping. Best iteration is:\n",
      "[3000]\tvalid_0's quantile: 0.0885247\n",
      "0.6\n",
      "[LightGBM] [Warning] feature_fraction is set=0.7, colsample_bytree=1.0 will be ignored. Current value: feature_fraction=0.7\n",
      "[LightGBM] [Warning] bagging_fraction is set=0.7, subsample=1.0 will be ignored. Current value: bagging_fraction=0.7\n",
      "[LightGBM] [Warning] bagging_freq is set=3, subsample_freq=0 will be ignored. Current value: bagging_freq=3\n",
      "Training until validation scores don't improve for 1000 rounds\n",
      "[500]\tvalid_0's quantile: 0.0814717\n",
      "[1000]\tvalid_0's quantile: 0.0796035\n",
      "[1500]\tvalid_0's quantile: 0.0792514\n",
      "[2000]\tvalid_0's quantile: 0.0790627\n",
      "[2500]\tvalid_0's quantile: 0.0786812\n",
      "[3000]\tvalid_0's quantile: 0.0783577\n",
      "Did not meet early stopping. Best iteration is:\n",
      "[2988]\tvalid_0's quantile: 0.0783571\n",
      "0.7\n",
      "[LightGBM] [Warning] feature_fraction is set=0.7, colsample_bytree=1.0 will be ignored. Current value: feature_fraction=0.7\n",
      "[LightGBM] [Warning] bagging_fraction is set=0.7, subsample=1.0 will be ignored. Current value: bagging_fraction=0.7\n",
      "[LightGBM] [Warning] bagging_freq is set=3, subsample_freq=0 will be ignored. Current value: bagging_freq=3\n",
      "Training until validation scores don't improve for 1000 rounds\n",
      "[500]\tvalid_0's quantile: 0.0666942\n",
      "[1000]\tvalid_0's quantile: 0.0651598\n",
      "[1500]\tvalid_0's quantile: 0.0647487\n",
      "[2000]\tvalid_0's quantile: 0.0644226\n",
      "[2500]\tvalid_0's quantile: 0.0641721\n",
      "[3000]\tvalid_0's quantile: 0.0641068\n",
      "Did not meet early stopping. Best iteration is:\n",
      "[2999]\tvalid_0's quantile: 0.0641068\n",
      "0.8\n",
      "[LightGBM] [Warning] feature_fraction is set=0.7, colsample_bytree=1.0 will be ignored. Current value: feature_fraction=0.7\n",
      "[LightGBM] [Warning] bagging_fraction is set=0.7, subsample=1.0 will be ignored. Current value: bagging_fraction=0.7\n",
      "[LightGBM] [Warning] bagging_freq is set=3, subsample_freq=0 will be ignored. Current value: bagging_freq=3\n",
      "Training until validation scores don't improve for 1000 rounds\n",
      "[500]\tvalid_0's quantile: 0.0487061\n",
      "[1000]\tvalid_0's quantile: 0.0475154\n",
      "[1500]\tvalid_0's quantile: 0.0472854\n",
      "[2000]\tvalid_0's quantile: 0.0471072\n",
      "[2500]\tvalid_0's quantile: 0.0469676\n",
      "[3000]\tvalid_0's quantile: 0.0469209\n",
      "Did not meet early stopping. Best iteration is:\n",
      "[2998]\tvalid_0's quantile: 0.0469209\n",
      "0.9\n",
      "[LightGBM] [Warning] feature_fraction is set=0.7, colsample_bytree=1.0 will be ignored. Current value: feature_fraction=0.7\n",
      "[LightGBM] [Warning] bagging_fraction is set=0.7, subsample=1.0 will be ignored. Current value: bagging_fraction=0.7\n",
      "[LightGBM] [Warning] bagging_freq is set=3, subsample_freq=0 will be ignored. Current value: bagging_freq=3\n",
      "Training until validation scores don't improve for 1000 rounds\n",
      "[500]\tvalid_0's quantile: 0.0274788\n",
      "[1000]\tvalid_0's quantile: 0.026989\n",
      "[1500]\tvalid_0's quantile: 0.0268225\n",
      "[2000]\tvalid_0's quantile: 0.0267937\n",
      "[2500]\tvalid_0's quantile: 0.0267751\n",
      "[3000]\tvalid_0's quantile: 0.0267687\n",
      "Did not meet early stopping. Best iteration is:\n",
      "[2997]\tvalid_0's quantile: 0.0267675\n",
      "0.1\n",
      "[LightGBM] [Warning] feature_fraction is set=0.7, colsample_bytree=1.0 will be ignored. Current value: feature_fraction=0.7\n",
      "[LightGBM] [Warning] bagging_fraction is set=0.7, subsample=1.0 will be ignored. Current value: bagging_fraction=0.7\n",
      "[LightGBM] [Warning] bagging_freq is set=3, subsample_freq=0 will be ignored. Current value: bagging_freq=3\n",
      "Training until validation scores don't improve for 1000 rounds\n",
      "[500]\tvalid_0's quantile: 0.0665339\n",
      "[1000]\tvalid_0's quantile: 0.0663967\n",
      "[1500]\tvalid_0's quantile: 0.065477\n",
      "[2000]\tvalid_0's quantile: 0.0647795\n",
      "[2500]\tvalid_0's quantile: 0.0643877\n",
      "[3000]\tvalid_0's quantile: 0.0641521\n",
      "Did not meet early stopping. Best iteration is:\n",
      "[2991]\tvalid_0's quantile: 0.0641457\n",
      "0.2\n",
      "[LightGBM] [Warning] feature_fraction is set=0.7, colsample_bytree=1.0 will be ignored. Current value: feature_fraction=0.7\n",
      "[LightGBM] [Warning] bagging_fraction is set=0.7, subsample=1.0 will be ignored. Current value: bagging_fraction=0.7\n",
      "[LightGBM] [Warning] bagging_freq is set=3, subsample_freq=0 will be ignored. Current value: bagging_freq=3\n",
      "Training until validation scores don't improve for 1000 rounds\n",
      "[500]\tvalid_0's quantile: 0.088488\n",
      "[1000]\tvalid_0's quantile: 0.0865668\n",
      "[1500]\tvalid_0's quantile: 0.0864583\n",
      "[2000]\tvalid_0's quantile: 0.0860748\n",
      "[2500]\tvalid_0's quantile: 0.0854976\n",
      "[3000]\tvalid_0's quantile: 0.0850908\n",
      "Did not meet early stopping. Best iteration is:\n",
      "[2997]\tvalid_0's quantile: 0.0850901\n",
      "0.3\n",
      "[LightGBM] [Warning] feature_fraction is set=0.7, colsample_bytree=1.0 will be ignored. Current value: feature_fraction=0.7\n",
      "[LightGBM] [Warning] bagging_fraction is set=0.7, subsample=1.0 will be ignored. Current value: bagging_fraction=0.7\n",
      "[LightGBM] [Warning] bagging_freq is set=3, subsample_freq=0 will be ignored. Current value: bagging_freq=3\n",
      "Training until validation scores don't improve for 1000 rounds\n",
      "[500]\tvalid_0's quantile: 0.0988966\n",
      "[1000]\tvalid_0's quantile: 0.0974919\n",
      "[1500]\tvalid_0's quantile: 0.0971107\n",
      "[2000]\tvalid_0's quantile: 0.0962298\n",
      "[2500]\tvalid_0's quantile: 0.0953399\n",
      "[3000]\tvalid_0's quantile: 0.0946288\n",
      "Did not meet early stopping. Best iteration is:\n",
      "[2998]\tvalid_0's quantile: 0.0946284\n",
      "0.4\n",
      "[LightGBM] [Warning] feature_fraction is set=0.7, colsample_bytree=1.0 will be ignored. Current value: feature_fraction=0.7\n",
      "[LightGBM] [Warning] bagging_fraction is set=0.7, subsample=1.0 will be ignored. Current value: bagging_fraction=0.7\n",
      "[LightGBM] [Warning] bagging_freq is set=3, subsample_freq=0 will be ignored. Current value: bagging_freq=3\n",
      "Training until validation scores don't improve for 1000 rounds\n",
      "[500]\tvalid_0's quantile: 0.100043\n",
      "[1000]\tvalid_0's quantile: 0.0985602\n",
      "[1500]\tvalid_0's quantile: 0.0979657\n",
      "[2000]\tvalid_0's quantile: 0.0971244\n",
      "[2500]\tvalid_0's quantile: 0.09629\n",
      "[3000]\tvalid_0's quantile: 0.0955715\n",
      "Did not meet early stopping. Best iteration is:\n",
      "[3000]\tvalid_0's quantile: 0.0955715\n",
      "0.5\n",
      "[LightGBM] [Warning] feature_fraction is set=0.7, colsample_bytree=1.0 will be ignored. Current value: feature_fraction=0.7\n",
      "[LightGBM] [Warning] bagging_fraction is set=0.7, subsample=1.0 will be ignored. Current value: bagging_fraction=0.7\n",
      "[LightGBM] [Warning] bagging_freq is set=3, subsample_freq=0 will be ignored. Current value: bagging_freq=3\n",
      "Training until validation scores don't improve for 1000 rounds\n",
      "[500]\tvalid_0's quantile: 0.094094\n",
      "[1000]\tvalid_0's quantile: 0.0914809\n",
      "[1500]\tvalid_0's quantile: 0.0910349\n",
      "[2000]\tvalid_0's quantile: 0.0907979\n",
      "[2500]\tvalid_0's quantile: 0.0903947\n",
      "[3000]\tvalid_0's quantile: 0.0898737\n",
      "Did not meet early stopping. Best iteration is:\n",
      "[3000]\tvalid_0's quantile: 0.0898737\n",
      "0.6\n",
      "[LightGBM] [Warning] feature_fraction is set=0.7, colsample_bytree=1.0 will be ignored. Current value: feature_fraction=0.7\n",
      "[LightGBM] [Warning] bagging_fraction is set=0.7, subsample=1.0 will be ignored. Current value: bagging_fraction=0.7\n",
      "[LightGBM] [Warning] bagging_freq is set=3, subsample_freq=0 will be ignored. Current value: bagging_freq=3\n",
      "Training until validation scores don't improve for 1000 rounds\n",
      "[500]\tvalid_0's quantile: 0.0827851\n",
      "[1000]\tvalid_0's quantile: 0.0817506\n",
      "[1500]\tvalid_0's quantile: 0.0811488\n",
      "[2000]\tvalid_0's quantile: 0.0809461\n",
      "[2500]\tvalid_0's quantile: 0.0805672\n",
      "[3000]\tvalid_0's quantile: 0.0802104\n",
      "Did not meet early stopping. Best iteration is:\n",
      "[3000]\tvalid_0's quantile: 0.0802104\n",
      "0.7\n",
      "[LightGBM] [Warning] feature_fraction is set=0.7, colsample_bytree=1.0 will be ignored. Current value: feature_fraction=0.7\n",
      "[LightGBM] [Warning] bagging_fraction is set=0.7, subsample=1.0 will be ignored. Current value: bagging_fraction=0.7\n",
      "[LightGBM] [Warning] bagging_freq is set=3, subsample_freq=0 will be ignored. Current value: bagging_freq=3\n",
      "Training until validation scores don't improve for 1000 rounds\n",
      "[500]\tvalid_0's quantile: 0.067717\n",
      "[1000]\tvalid_0's quantile: 0.0659392\n",
      "[1500]\tvalid_0's quantile: 0.0655622\n",
      "[2000]\tvalid_0's quantile: 0.0652316\n",
      "[2500]\tvalid_0's quantile: 0.065006\n",
      "[3000]\tvalid_0's quantile: 0.0648957\n",
      "Did not meet early stopping. Best iteration is:\n",
      "[3000]\tvalid_0's quantile: 0.0648957\n",
      "0.8\n",
      "[LightGBM] [Warning] feature_fraction is set=0.7, colsample_bytree=1.0 will be ignored. Current value: feature_fraction=0.7\n",
      "[LightGBM] [Warning] bagging_fraction is set=0.7, subsample=1.0 will be ignored. Current value: bagging_fraction=0.7\n",
      "[LightGBM] [Warning] bagging_freq is set=3, subsample_freq=0 will be ignored. Current value: bagging_freq=3\n",
      "Training until validation scores don't improve for 1000 rounds\n",
      "[500]\tvalid_0's quantile: 0.0489593\n",
      "[1000]\tvalid_0's quantile: 0.0478124\n",
      "[1500]\tvalid_0's quantile: 0.047287\n",
      "[2000]\tvalid_0's quantile: 0.0470532\n",
      "[2500]\tvalid_0's quantile: 0.0469488\n",
      "[3000]\tvalid_0's quantile: 0.0469015\n",
      "Did not meet early stopping. Best iteration is:\n",
      "[3000]\tvalid_0's quantile: 0.0469015\n",
      "0.9\n",
      "[LightGBM] [Warning] feature_fraction is set=0.7, colsample_bytree=1.0 will be ignored. Current value: feature_fraction=0.7\n",
      "[LightGBM] [Warning] bagging_fraction is set=0.7, subsample=1.0 will be ignored. Current value: bagging_fraction=0.7\n",
      "[LightGBM] [Warning] bagging_freq is set=3, subsample_freq=0 will be ignored. Current value: bagging_freq=3\n",
      "Training until validation scores don't improve for 1000 rounds\n",
      "[500]\tvalid_0's quantile: 0.0283903\n",
      "[1000]\tvalid_0's quantile: 0.0271642\n",
      "[1500]\tvalid_0's quantile: 0.0269551\n",
      "[2000]\tvalid_0's quantile: 0.0268651\n",
      "[2500]\tvalid_0's quantile: 0.0268265\n",
      "[3000]\tvalid_0's quantile: 0.0268146\n",
      "Did not meet early stopping. Best iteration is:\n",
      "[2736]\tvalid_0's quantile: 0.0268139\n"
     ]
    }
   ],
   "source": [
    "from sklearn.model_selection import KFold\n",
    "folds = KFold(n_splits = k_n, shuffle = True, random_state = 2021)\n",
    "\n",
    "for i in range(len(par)):\n",
    "    param={\"objective\":'quantile',\n",
    "            \"n_estimators\":par.loc[i,\"n_est\"],\"bagging_fraction\":0.7, \n",
    "            \"learning_rate\":0.027, \"feature_fraction\":0.7,\n",
    "            \"feature_fraction_bynode\":0.8,\"bagging_freq\":3,\n",
    "            \"num_leaves\":par.loc[i,\"num_leav\"]}                   \n",
    "                              \n",
    "    for n_fold, (trn_idx, val_idx) in enumerate(folds.split(train)) :\n",
    "        X_train_7, Y_train_7 = train.iloc[trn_idx, :-2], train.iloc[trn_idx, -2] \n",
    "        X_valid_7, Y_valid_7 = train.iloc[val_idx, :-2], train.iloc[val_idx, -2]\n",
    "        \n",
    "        K_models_7, K_results_7 = train_data(X_train_7, Y_train_7, \n",
    "                                         X_valid_7, Y_valid_7,\n",
    "                                         X_test,param)\n",
    "        \n",
    "        joblib.dump(K_models_7, sub_kfold_path7+'model7_%s_fold%s.pkl'%(i,n_fold))\n",
    "        K_results_7.to_csv(sub_kfold_path7+\"result7_%s_fold%s.csv\"%(i,n_fold),index=False)\n"
   ]
  },
  {
   "cell_type": "markdown",
   "metadata": {},
   "source": [
    "### 8일"
   ]
  },
  {
   "cell_type": "markdown",
   "metadata": {},
   "source": [
    "#### parameter 수정"
   ]
  },
  {
   "cell_type": "code",
   "execution_count": 116,
   "metadata": {
    "collapsed": true,
    "jupyter": {
     "outputs_hidden": true
    }
   },
   "outputs": [],
   "source": [
    "n_est=[1500]\n",
    "num_leav=[31]\n",
    "par=[n_est,num_leav]\n",
    "par=pd.DataFrame(product(*par),columns=[\"n_est\",\"num_leav\"])\n",
    "k_n=2\n"
   ]
  },
  {
   "cell_type": "code",
   "execution_count": 117,
   "metadata": {
    "collapsed": true,
    "jupyter": {
     "outputs_hidden": true
    }
   },
   "outputs": [],
   "source": [
    "quantiles = [0.1, 0.2, 0.3, 0.4, 0.5, 0.6, 0.7, 0.8, 0.9]"
   ]
  },
  {
   "cell_type": "markdown",
   "metadata": {},
   "source": [
    "#### 8일 예측모형"
   ]
  },
  {
   "cell_type": "code",
   "execution_count": 118,
   "metadata": {
    "collapsed": true,
    "jupyter": {
     "outputs_hidden": true
    }
   },
   "outputs": [],
   "source": [
    "sub_kfold_path8=\"./sub/\""
   ]
  },
  {
   "cell_type": "code",
   "execution_count": 119,
   "metadata": {
    "collapsed": true,
    "jupyter": {
     "outputs_hidden": true
    }
   },
   "outputs": [
    {
     "name": "stdout",
     "output_type": "stream",
     "text": [
      "0.1\n",
      "[LightGBM] [Warning] feature_fraction is set=0.7, colsample_bytree=1.0 will be ignored. Current value: feature_fraction=0.7\n",
      "[LightGBM] [Warning] bagging_fraction is set=0.7, subsample=1.0 will be ignored. Current value: bagging_fraction=0.7\n",
      "[LightGBM] [Warning] bagging_freq is set=3, subsample_freq=0 will be ignored. Current value: bagging_freq=3\n",
      "Training until validation scores don't improve for 1000 rounds\n",
      "[500]\tvalid_0's quantile: 0.0696473\n",
      "[1000]\tvalid_0's quantile: 0.0682958\n",
      "[1500]\tvalid_0's quantile: 0.0666672\n",
      "Did not meet early stopping. Best iteration is:\n",
      "[1492]\tvalid_0's quantile: 0.0666631\n",
      "0.2\n",
      "[LightGBM] [Warning] feature_fraction is set=0.7, colsample_bytree=1.0 will be ignored. Current value: feature_fraction=0.7\n",
      "[LightGBM] [Warning] bagging_fraction is set=0.7, subsample=1.0 will be ignored. Current value: bagging_fraction=0.7\n",
      "[LightGBM] [Warning] bagging_freq is set=3, subsample_freq=0 will be ignored. Current value: bagging_freq=3\n",
      "Training until validation scores don't improve for 1000 rounds\n",
      "[500]\tvalid_0's quantile: 0.0899292\n",
      "[1000]\tvalid_0's quantile: 0.0887781\n",
      "[1500]\tvalid_0's quantile: 0.0869583\n",
      "Did not meet early stopping. Best iteration is:\n",
      "[1498]\tvalid_0's quantile: 0.0869575\n",
      "0.3\n",
      "[LightGBM] [Warning] feature_fraction is set=0.7, colsample_bytree=1.0 will be ignored. Current value: feature_fraction=0.7\n",
      "[LightGBM] [Warning] bagging_fraction is set=0.7, subsample=1.0 will be ignored. Current value: bagging_fraction=0.7\n",
      "[LightGBM] [Warning] bagging_freq is set=3, subsample_freq=0 will be ignored. Current value: bagging_freq=3\n",
      "Training until validation scores don't improve for 1000 rounds\n",
      "[500]\tvalid_0's quantile: 0.0992757\n",
      "[1000]\tvalid_0's quantile: 0.0978665\n",
      "[1500]\tvalid_0's quantile: 0.0956337\n",
      "Did not meet early stopping. Best iteration is:\n",
      "[1500]\tvalid_0's quantile: 0.0956337\n",
      "0.4\n",
      "[LightGBM] [Warning] feature_fraction is set=0.7, colsample_bytree=1.0 will be ignored. Current value: feature_fraction=0.7\n",
      "[LightGBM] [Warning] bagging_fraction is set=0.7, subsample=1.0 will be ignored. Current value: bagging_fraction=0.7\n",
      "[LightGBM] [Warning] bagging_freq is set=3, subsample_freq=0 will be ignored. Current value: bagging_freq=3\n",
      "Training until validation scores don't improve for 1000 rounds\n",
      "[500]\tvalid_0's quantile: 0.0968828\n",
      "[1000]\tvalid_0's quantile: 0.0960746\n",
      "[1500]\tvalid_0's quantile: 0.0950163\n",
      "Did not meet early stopping. Best iteration is:\n",
      "[1498]\tvalid_0's quantile: 0.0950152\n",
      "0.5\n",
      "[LightGBM] [Warning] feature_fraction is set=0.7, colsample_bytree=1.0 will be ignored. Current value: feature_fraction=0.7\n",
      "[LightGBM] [Warning] bagging_fraction is set=0.7, subsample=1.0 will be ignored. Current value: bagging_fraction=0.7\n",
      "[LightGBM] [Warning] bagging_freq is set=3, subsample_freq=0 will be ignored. Current value: bagging_freq=3\n",
      "Training until validation scores don't improve for 1000 rounds\n",
      "[500]\tvalid_0's quantile: 0.0904661\n",
      "[1000]\tvalid_0's quantile: 0.0869793\n",
      "[1500]\tvalid_0's quantile: 0.0866616\n",
      "Did not meet early stopping. Best iteration is:\n",
      "[1495]\tvalid_0's quantile: 0.0866616\n",
      "0.6\n",
      "[LightGBM] [Warning] feature_fraction is set=0.7, colsample_bytree=1.0 will be ignored. Current value: feature_fraction=0.7\n",
      "[LightGBM] [Warning] bagging_fraction is set=0.7, subsample=1.0 will be ignored. Current value: bagging_fraction=0.7\n",
      "[LightGBM] [Warning] bagging_freq is set=3, subsample_freq=0 will be ignored. Current value: bagging_freq=3\n",
      "Training until validation scores don't improve for 1000 rounds\n",
      "[500]\tvalid_0's quantile: 0.0813334\n",
      "[1000]\tvalid_0's quantile: 0.0795411\n",
      "[1500]\tvalid_0's quantile: 0.0792635\n",
      "Did not meet early stopping. Best iteration is:\n",
      "[1500]\tvalid_0's quantile: 0.0792635\n",
      "0.7\n",
      "[LightGBM] [Warning] feature_fraction is set=0.7, colsample_bytree=1.0 will be ignored. Current value: feature_fraction=0.7\n",
      "[LightGBM] [Warning] bagging_fraction is set=0.7, subsample=1.0 will be ignored. Current value: bagging_fraction=0.7\n",
      "[LightGBM] [Warning] bagging_freq is set=3, subsample_freq=0 will be ignored. Current value: bagging_freq=3\n",
      "Training until validation scores don't improve for 1000 rounds\n",
      "[500]\tvalid_0's quantile: 0.0663116\n",
      "[1000]\tvalid_0's quantile: 0.0652267\n",
      "[1500]\tvalid_0's quantile: 0.0648154\n",
      "Did not meet early stopping. Best iteration is:\n",
      "[1498]\tvalid_0's quantile: 0.0648151\n",
      "0.8\n",
      "[LightGBM] [Warning] feature_fraction is set=0.7, colsample_bytree=1.0 will be ignored. Current value: feature_fraction=0.7\n",
      "[LightGBM] [Warning] bagging_fraction is set=0.7, subsample=1.0 will be ignored. Current value: bagging_fraction=0.7\n",
      "[LightGBM] [Warning] bagging_freq is set=3, subsample_freq=0 will be ignored. Current value: bagging_freq=3\n",
      "Training until validation scores don't improve for 1000 rounds\n",
      "[500]\tvalid_0's quantile: 0.0484829\n",
      "[1000]\tvalid_0's quantile: 0.0472897\n",
      "[1500]\tvalid_0's quantile: 0.0467793\n",
      "Did not meet early stopping. Best iteration is:\n",
      "[1492]\tvalid_0's quantile: 0.0467773\n",
      "0.9\n",
      "[LightGBM] [Warning] feature_fraction is set=0.7, colsample_bytree=1.0 will be ignored. Current value: feature_fraction=0.7\n",
      "[LightGBM] [Warning] bagging_fraction is set=0.7, subsample=1.0 will be ignored. Current value: bagging_fraction=0.7\n",
      "[LightGBM] [Warning] bagging_freq is set=3, subsample_freq=0 will be ignored. Current value: bagging_freq=3\n",
      "Training until validation scores don't improve for 1000 rounds\n",
      "[500]\tvalid_0's quantile: 0.0273854\n",
      "[1000]\tvalid_0's quantile: 0.0270183\n",
      "[1500]\tvalid_0's quantile: 0.0269855\n",
      "Did not meet early stopping. Best iteration is:\n",
      "[1500]\tvalid_0's quantile: 0.0269855\n",
      "0.1\n",
      "[LightGBM] [Warning] feature_fraction is set=0.7, colsample_bytree=1.0 will be ignored. Current value: feature_fraction=0.7\n",
      "[LightGBM] [Warning] bagging_fraction is set=0.7, subsample=1.0 will be ignored. Current value: bagging_fraction=0.7\n",
      "[LightGBM] [Warning] bagging_freq is set=3, subsample_freq=0 will be ignored. Current value: bagging_freq=3\n",
      "Training until validation scores don't improve for 1000 rounds\n",
      "[500]\tvalid_0's quantile: 0.0711603\n",
      "[1000]\tvalid_0's quantile: 0.0683931\n",
      "[1500]\tvalid_0's quantile: 0.0670904\n",
      "Did not meet early stopping. Best iteration is:\n",
      "[1491]\tvalid_0's quantile: 0.0670818\n",
      "0.2\n",
      "[LightGBM] [Warning] feature_fraction is set=0.7, colsample_bytree=1.0 will be ignored. Current value: feature_fraction=0.7\n",
      "[LightGBM] [Warning] bagging_fraction is set=0.7, subsample=1.0 will be ignored. Current value: bagging_fraction=0.7\n",
      "[LightGBM] [Warning] bagging_freq is set=3, subsample_freq=0 will be ignored. Current value: bagging_freq=3\n",
      "Training until validation scores don't improve for 1000 rounds\n",
      "[500]\tvalid_0's quantile: 0.0926539\n",
      "[1000]\tvalid_0's quantile: 0.0911079\n",
      "[1500]\tvalid_0's quantile: 0.0890599\n",
      "Did not meet early stopping. Best iteration is:\n",
      "[1499]\tvalid_0's quantile: 0.0890583\n",
      "0.3\n",
      "[LightGBM] [Warning] feature_fraction is set=0.7, colsample_bytree=1.0 will be ignored. Current value: feature_fraction=0.7\n",
      "[LightGBM] [Warning] bagging_fraction is set=0.7, subsample=1.0 will be ignored. Current value: bagging_fraction=0.7\n",
      "[LightGBM] [Warning] bagging_freq is set=3, subsample_freq=0 will be ignored. Current value: bagging_freq=3\n",
      "Training until validation scores don't improve for 1000 rounds\n",
      "[500]\tvalid_0's quantile: 0.101004\n",
      "[1000]\tvalid_0's quantile: 0.099578\n",
      "[1500]\tvalid_0's quantile: 0.0975944\n",
      "Did not meet early stopping. Best iteration is:\n",
      "[1497]\tvalid_0's quantile: 0.0975926\n",
      "0.4\n",
      "[LightGBM] [Warning] feature_fraction is set=0.7, colsample_bytree=1.0 will be ignored. Current value: feature_fraction=0.7\n",
      "[LightGBM] [Warning] bagging_fraction is set=0.7, subsample=1.0 will be ignored. Current value: bagging_fraction=0.7\n",
      "[LightGBM] [Warning] bagging_freq is set=3, subsample_freq=0 will be ignored. Current value: bagging_freq=3\n",
      "Training until validation scores don't improve for 1000 rounds\n",
      "[500]\tvalid_0's quantile: 0.0986782\n",
      "[1000]\tvalid_0's quantile: 0.0963912\n",
      "[1500]\tvalid_0's quantile: 0.0952759\n",
      "Did not meet early stopping. Best iteration is:\n",
      "[1500]\tvalid_0's quantile: 0.0952759\n",
      "0.5\n",
      "[LightGBM] [Warning] feature_fraction is set=0.7, colsample_bytree=1.0 will be ignored. Current value: feature_fraction=0.7\n",
      "[LightGBM] [Warning] bagging_fraction is set=0.7, subsample=1.0 will be ignored. Current value: bagging_fraction=0.7\n",
      "[LightGBM] [Warning] bagging_freq is set=3, subsample_freq=0 will be ignored. Current value: bagging_freq=3\n",
      "Training until validation scores don't improve for 1000 rounds\n",
      "[500]\tvalid_0's quantile: 0.0933631\n",
      "[1000]\tvalid_0's quantile: 0.0902864\n",
      "[1500]\tvalid_0's quantile: 0.0893278\n",
      "Did not meet early stopping. Best iteration is:\n",
      "[1500]\tvalid_0's quantile: 0.0893278\n",
      "0.6\n",
      "[LightGBM] [Warning] feature_fraction is set=0.7, colsample_bytree=1.0 will be ignored. Current value: feature_fraction=0.7\n",
      "[LightGBM] [Warning] bagging_fraction is set=0.7, subsample=1.0 will be ignored. Current value: bagging_fraction=0.7\n",
      "[LightGBM] [Warning] bagging_freq is set=3, subsample_freq=0 will be ignored. Current value: bagging_freq=3\n",
      "Training until validation scores don't improve for 1000 rounds\n",
      "[500]\tvalid_0's quantile: 0.0828766\n",
      "[1000]\tvalid_0's quantile: 0.0809299\n",
      "[1500]\tvalid_0's quantile: 0.0801913\n",
      "Did not meet early stopping. Best iteration is:\n",
      "[1500]\tvalid_0's quantile: 0.0801913\n",
      "0.7\n",
      "[LightGBM] [Warning] feature_fraction is set=0.7, colsample_bytree=1.0 will be ignored. Current value: feature_fraction=0.7\n",
      "[LightGBM] [Warning] bagging_fraction is set=0.7, subsample=1.0 will be ignored. Current value: bagging_fraction=0.7\n",
      "[LightGBM] [Warning] bagging_freq is set=3, subsample_freq=0 will be ignored. Current value: bagging_freq=3\n",
      "Training until validation scores don't improve for 1000 rounds\n",
      "[500]\tvalid_0's quantile: 0.0685788\n",
      "[1000]\tvalid_0's quantile: 0.0673021\n",
      "[1500]\tvalid_0's quantile: 0.0671503\n",
      "Did not meet early stopping. Best iteration is:\n",
      "[1500]\tvalid_0's quantile: 0.0671503\n",
      "0.8\n",
      "[LightGBM] [Warning] feature_fraction is set=0.7, colsample_bytree=1.0 will be ignored. Current value: feature_fraction=0.7\n",
      "[LightGBM] [Warning] bagging_fraction is set=0.7, subsample=1.0 will be ignored. Current value: bagging_fraction=0.7\n",
      "[LightGBM] [Warning] bagging_freq is set=3, subsample_freq=0 will be ignored. Current value: bagging_freq=3\n",
      "Training until validation scores don't improve for 1000 rounds\n",
      "[500]\tvalid_0's quantile: 0.0501523\n",
      "[1000]\tvalid_0's quantile: 0.0493112\n",
      "[1500]\tvalid_0's quantile: 0.0490172\n",
      "Did not meet early stopping. Best iteration is:\n",
      "[1500]\tvalid_0's quantile: 0.0490172\n",
      "0.9\n",
      "[LightGBM] [Warning] feature_fraction is set=0.7, colsample_bytree=1.0 will be ignored. Current value: feature_fraction=0.7\n",
      "[LightGBM] [Warning] bagging_fraction is set=0.7, subsample=1.0 will be ignored. Current value: bagging_fraction=0.7\n",
      "[LightGBM] [Warning] bagging_freq is set=3, subsample_freq=0 will be ignored. Current value: bagging_freq=3\n",
      "Training until validation scores don't improve for 1000 rounds\n",
      "[500]\tvalid_0's quantile: 0.0286866\n",
      "[1000]\tvalid_0's quantile: 0.0282259\n",
      "[1500]\tvalid_0's quantile: 0.0281249\n",
      "Did not meet early stopping. Best iteration is:\n",
      "[1496]\tvalid_0's quantile: 0.0281242\n"
     ]
    }
   ],
   "source": [
    "from sklearn.model_selection import KFold\n",
    "folds = KFold(n_splits = k_n, shuffle = True, random_state = 2021)\n",
    "\n",
    "for i in range(len(par)):\n",
    "    param={\"objective\":'quantile',\n",
    "            \"n_estimators\":par.loc[i,\"n_est\"],\"bagging_fraction\":0.7, \n",
    "            \"learning_rate\":0.027, \"feature_fraction\":0.7,\n",
    "            \"feature_fraction_bynode\":0.8,\"bagging_freq\":3,\n",
    "            \"num_leaves\":par.loc[i,\"num_leav\"]}                   \n",
    "                              \n",
    "    for n_fold, (trn_idx, val_idx) in enumerate(folds.split(X_train_1)) :\n",
    "        X_train_8, Y_train_8 = train.iloc[trn_idx, :-2], train.iloc[trn_idx, -1] \n",
    "        X_valid_8, Y_valid_8 = train.iloc[val_idx, :-2], train.iloc[val_idx, -1]\n",
    "        \n",
    "        K_models_8, K_results_8 = train_data(X_train_8, Y_train_8, \n",
    "                                         X_valid_8, Y_valid_8,\n",
    "                                         X_test,param)\n",
    "        \n",
    "        joblib.dump(K_models_8, sub_kfold_path8+'model8_%s_fold%s.pkl'%(i,n_fold))\n",
    "        K_results_8.to_csv(sub_kfold_path8+\"result8_%s_fold%s.csv\"%(i,n_fold),index=False)\n"
   ]
  },
  {
   "cell_type": "markdown",
   "metadata": {},
   "source": [
    "--------------------------------------------------------"
   ]
  },
  {
   "cell_type": "markdown",
   "metadata": {},
   "source": [
    "## 그냥 모델링"
   ]
  },
  {
   "cell_type": "markdown",
   "metadata": {},
   "source": [
    "### 7일"
   ]
  },
  {
   "cell_type": "markdown",
   "metadata": {},
   "source": [
    "#### parameter 수정"
   ]
  },
  {
   "cell_type": "code",
   "execution_count": 93,
   "metadata": {
    "collapsed": true,
    "jupyter": {
     "outputs_hidden": true
    }
   },
   "outputs": [],
   "source": [
    "n_est=[1500]\n",
    "num_leav=[31]\n",
    "par=[n_est,num_leav]\n",
    "par=pd.DataFrame(product(*par),columns=[\"n_est\",\"num_leav\"])\n"
   ]
  },
  {
   "cell_type": "code",
   "execution_count": 94,
   "metadata": {
    "collapsed": true,
    "jupyter": {
     "outputs_hidden": true
    }
   },
   "outputs": [],
   "source": [
    "quantiles = [0.1, 0.2, 0.3, 0.4, 0.5, 0.6, 0.7, 0.8, 0.9]"
   ]
  },
  {
   "cell_type": "markdown",
   "metadata": {},
   "source": [
    "#### 7일 예측모형"
   ]
  },
  {
   "cell_type": "code",
   "execution_count": 95,
   "metadata": {
    "collapsed": true,
    "jupyter": {
     "outputs_hidden": true
    }
   },
   "outputs": [],
   "source": [
    "sub_path7=\"./sub2/\""
   ]
  },
  {
   "cell_type": "code",
   "execution_count": 96,
   "metadata": {
    "collapsed": true,
    "jupyter": {
     "outputs_hidden": true
    }
   },
   "outputs": [
    {
     "name": "stdout",
     "output_type": "stream",
     "text": [
      "0.1\n",
      "[LightGBM] [Warning] bagging_fraction is set=0.7, subsample=1.0 will be ignored. Current value: bagging_fraction=0.7\n",
      "Training until validation scores don't improve for 1000 rounds\n",
      "[500]\tvalid_0's quantile: 0.062105\n",
      "[1000]\tvalid_0's quantile: 0.0596018\n",
      "[1500]\tvalid_0's quantile: 0.0581801\n",
      "Did not meet early stopping. Best iteration is:\n",
      "[1500]\tvalid_0's quantile: 0.0581801\n",
      "0.2\n",
      "[LightGBM] [Warning] bagging_fraction is set=0.7, subsample=1.0 will be ignored. Current value: bagging_fraction=0.7\n",
      "Training until validation scores don't improve for 1000 rounds\n",
      "[500]\tvalid_0's quantile: 0.0856372\n",
      "[1000]\tvalid_0's quantile: 0.080696\n",
      "[1500]\tvalid_0's quantile: 0.0778486\n",
      "Did not meet early stopping. Best iteration is:\n",
      "[1500]\tvalid_0's quantile: 0.0778486\n",
      "0.3\n",
      "[LightGBM] [Warning] bagging_fraction is set=0.7, subsample=1.0 will be ignored. Current value: bagging_fraction=0.7\n",
      "Training until validation scores don't improve for 1000 rounds\n",
      "[500]\tvalid_0's quantile: 0.0934365\n",
      "[1000]\tvalid_0's quantile: 0.0891475\n",
      "[1500]\tvalid_0's quantile: 0.0864352\n",
      "Did not meet early stopping. Best iteration is:\n",
      "[1500]\tvalid_0's quantile: 0.0864352\n",
      "0.4\n",
      "[LightGBM] [Warning] bagging_fraction is set=0.7, subsample=1.0 will be ignored. Current value: bagging_fraction=0.7\n",
      "Training until validation scores don't improve for 1000 rounds\n",
      "[500]\tvalid_0's quantile: 0.0947607\n",
      "[1000]\tvalid_0's quantile: 0.0891871\n",
      "[1500]\tvalid_0's quantile: 0.0870608\n",
      "Did not meet early stopping. Best iteration is:\n",
      "[1500]\tvalid_0's quantile: 0.0870608\n",
      "0.5\n",
      "[LightGBM] [Warning] bagging_fraction is set=0.7, subsample=1.0 will be ignored. Current value: bagging_fraction=0.7\n",
      "Training until validation scores don't improve for 1000 rounds\n",
      "[500]\tvalid_0's quantile: 0.0887989\n",
      "[1000]\tvalid_0's quantile: 0.0854274\n",
      "[1500]\tvalid_0's quantile: 0.0826029\n",
      "Did not meet early stopping. Best iteration is:\n",
      "[1500]\tvalid_0's quantile: 0.0826029\n",
      "0.6\n",
      "[LightGBM] [Warning] bagging_fraction is set=0.7, subsample=1.0 will be ignored. Current value: bagging_fraction=0.7\n",
      "Training until validation scores don't improve for 1000 rounds\n",
      "[500]\tvalid_0's quantile: 0.0781716\n",
      "[1000]\tvalid_0's quantile: 0.0752073\n",
      "[1500]\tvalid_0's quantile: 0.0733998\n",
      "Did not meet early stopping. Best iteration is:\n",
      "[1500]\tvalid_0's quantile: 0.0733998\n",
      "0.7\n",
      "[LightGBM] [Warning] bagging_fraction is set=0.7, subsample=1.0 will be ignored. Current value: bagging_fraction=0.7\n",
      "Training until validation scores don't improve for 1000 rounds\n",
      "[500]\tvalid_0's quantile: 0.0638145\n",
      "[1000]\tvalid_0's quantile: 0.0619129\n",
      "[1500]\tvalid_0's quantile: 0.0609039\n",
      "Did not meet early stopping. Best iteration is:\n",
      "[1497]\tvalid_0's quantile: 0.0609037\n",
      "0.8\n",
      "[LightGBM] [Warning] bagging_fraction is set=0.7, subsample=1.0 will be ignored. Current value: bagging_fraction=0.7\n",
      "Training until validation scores don't improve for 1000 rounds\n",
      "[500]\tvalid_0's quantile: 0.046301\n",
      "[1000]\tvalid_0's quantile: 0.0448651\n",
      "[1500]\tvalid_0's quantile: 0.0442023\n",
      "Did not meet early stopping. Best iteration is:\n",
      "[1495]\tvalid_0's quantile: 0.0442023\n",
      "0.9\n",
      "[LightGBM] [Warning] bagging_fraction is set=0.7, subsample=1.0 will be ignored. Current value: bagging_fraction=0.7\n",
      "Training until validation scores don't improve for 1000 rounds\n",
      "[500]\tvalid_0's quantile: 0.0259547\n",
      "[1000]\tvalid_0's quantile: 0.0254625\n",
      "[1500]\tvalid_0's quantile: 0.0252638\n",
      "Did not meet early stopping. Best iteration is:\n",
      "[1492]\tvalid_0's quantile: 0.0252633\n"
     ]
    }
   ],
   "source": [
    "from sklearn.model_selection import train_test_split\n",
    "X_train_7, X_valid_7, Y_train_7, Y_valid_7 = train_test_split(train.iloc[:, :-2], \n",
    "                                                              train.iloc[:, -2], \n",
    "                                                              test_size=0.3, \n",
    "                                                              random_state=0)\n",
    "\n",
    "for i in range(len(par)):\n",
    "    param={\"objective\":'quantile',\n",
    "            \"n_estimators\":par.loc[i,\"n_est\"],\"bagging_fraction\":0.7, \n",
    "            \"learning_rate\":0.027#, \"feature_fraction\":0.7,\n",
    "           # \"feature_fraction_bynode\":0.8,\"bagging_freq\":10,\n",
    "          #  \"num_leaves\":par.loc[i,\"num_leav\"]\n",
    "          }                   \n",
    "\n",
    "    \n",
    "    models_7, results_7 = train_data(X_train_7, Y_train_7, \n",
    "                                     X_valid_7, Y_valid_7,\n",
    "                                     X_test,param)\n",
    "    \n",
    "    joblib.dump(models_7,sub_path7+'model7_%s.pkl'%i)\n",
    "    results_7.to_csv(sub_path7+\"result7_%s.csv\"%i,index=False)\n"
   ]
  },
  {
   "cell_type": "markdown",
   "metadata": {},
   "source": [
    "--------------------------------------------------------"
   ]
  },
  {
   "cell_type": "markdown",
   "metadata": {},
   "source": [
    "### 8일"
   ]
  },
  {
   "cell_type": "markdown",
   "metadata": {},
   "source": [
    "#### parameter 수정"
   ]
  },
  {
   "cell_type": "code",
   "execution_count": 87,
   "metadata": {
    "collapsed": true,
    "jupyter": {
     "outputs_hidden": true
    }
   },
   "outputs": [],
   "source": [
    "n_est=[1500,3000]\n",
    "num_leav=[31]\n",
    "par=[n_est,num_leav]\n",
    "par=pd.DataFrame(product(*par),columns=[\"n_est\",\"num_leav\"])\n"
   ]
  },
  {
   "cell_type": "code",
   "execution_count": 88,
   "metadata": {
    "collapsed": true,
    "jupyter": {
     "outputs_hidden": true
    }
   },
   "outputs": [],
   "source": [
    "quantiles = [0.1, 0.2, 0.3, 0.4, 0.5, 0.6, 0.7, 0.8, 0.9]"
   ]
  },
  {
   "cell_type": "markdown",
   "metadata": {},
   "source": [
    "#### 8일 예측모형"
   ]
  },
  {
   "cell_type": "code",
   "execution_count": 89,
   "metadata": {
    "collapsed": true,
    "jupyter": {
     "outputs_hidden": true
    }
   },
   "outputs": [],
   "source": [
    "sub_path8=\"./sub2/\""
   ]
  },
  {
   "cell_type": "code",
   "execution_count": 90,
   "metadata": {
    "collapsed": true,
    "jupyter": {
     "outputs_hidden": true
    }
   },
   "outputs": [
    {
     "name": "stdout",
     "output_type": "stream",
     "text": [
      "0.1\n",
      "[LightGBM] [Warning] feature_fraction is set=0.7, colsample_bytree=1.0 will be ignored. Current value: feature_fraction=0.7\n",
      "[LightGBM] [Warning] bagging_fraction is set=0.7, subsample=1.0 will be ignored. Current value: bagging_fraction=0.7\n",
      "[LightGBM] [Warning] bagging_freq is set=10, subsample_freq=0 will be ignored. Current value: bagging_freq=10\n",
      "Training until validation scores don't improve for 1000 rounds\n",
      "[500]\tvalid_0's quantile: 0.0747896\n",
      "[1000]\tvalid_0's quantile: 0.0748028\n",
      "[1500]\tvalid_0's quantile: 0.0721177\n",
      "Did not meet early stopping. Best iteration is:\n",
      "[1493]\tvalid_0's quantile: 0.0721085\n",
      "0.2\n",
      "[LightGBM] [Warning] feature_fraction is set=0.7, colsample_bytree=1.0 will be ignored. Current value: feature_fraction=0.7\n",
      "[LightGBM] [Warning] bagging_fraction is set=0.7, subsample=1.0 will be ignored. Current value: bagging_fraction=0.7\n",
      "[LightGBM] [Warning] bagging_freq is set=10, subsample_freq=0 will be ignored. Current value: bagging_freq=10\n",
      "Training until validation scores don't improve for 1000 rounds\n",
      "[500]\tvalid_0's quantile: 0.0952138\n",
      "[1000]\tvalid_0's quantile: 0.0951695\n",
      "[1500]\tvalid_0's quantile: 0.0947711\n",
      "Did not meet early stopping. Best iteration is:\n",
      "[1499]\tvalid_0's quantile: 0.0947686\n",
      "0.3\n",
      "[LightGBM] [Warning] feature_fraction is set=0.7, colsample_bytree=1.0 will be ignored. Current value: feature_fraction=0.7\n",
      "[LightGBM] [Warning] bagging_fraction is set=0.7, subsample=1.0 will be ignored. Current value: bagging_fraction=0.7\n",
      "[LightGBM] [Warning] bagging_freq is set=10, subsample_freq=0 will be ignored. Current value: bagging_freq=10\n",
      "Training until validation scores don't improve for 1000 rounds\n",
      "[500]\tvalid_0's quantile: 0.107578\n",
      "[1000]\tvalid_0's quantile: 0.10514\n",
      "[1500]\tvalid_0's quantile: 0.102097\n",
      "Did not meet early stopping. Best iteration is:\n",
      "[1497]\tvalid_0's quantile: 0.102095\n",
      "0.4\n",
      "[LightGBM] [Warning] feature_fraction is set=0.7, colsample_bytree=1.0 will be ignored. Current value: feature_fraction=0.7\n",
      "[LightGBM] [Warning] bagging_fraction is set=0.7, subsample=1.0 will be ignored. Current value: bagging_fraction=0.7\n",
      "[LightGBM] [Warning] bagging_freq is set=10, subsample_freq=0 will be ignored. Current value: bagging_freq=10\n",
      "Training until validation scores don't improve for 1000 rounds\n",
      "[500]\tvalid_0's quantile: 0.102331\n",
      "[1000]\tvalid_0's quantile: 0.100263\n",
      "[1500]\tvalid_0's quantile: 0.0999424\n",
      "Did not meet early stopping. Best iteration is:\n",
      "[1500]\tvalid_0's quantile: 0.0999424\n",
      "0.5\n",
      "[LightGBM] [Warning] feature_fraction is set=0.7, colsample_bytree=1.0 will be ignored. Current value: feature_fraction=0.7\n",
      "[LightGBM] [Warning] bagging_fraction is set=0.7, subsample=1.0 will be ignored. Current value: bagging_fraction=0.7\n",
      "[LightGBM] [Warning] bagging_freq is set=10, subsample_freq=0 will be ignored. Current value: bagging_freq=10\n",
      "Training until validation scores don't improve for 1000 rounds\n",
      "[500]\tvalid_0's quantile: 0.0954745\n",
      "[1000]\tvalid_0's quantile: 0.0909738\n",
      "[1500]\tvalid_0's quantile: 0.0903689\n",
      "Did not meet early stopping. Best iteration is:\n",
      "[1499]\tvalid_0's quantile: 0.0903675\n",
      "0.6\n",
      "[LightGBM] [Warning] feature_fraction is set=0.7, colsample_bytree=1.0 will be ignored. Current value: feature_fraction=0.7\n",
      "[LightGBM] [Warning] bagging_fraction is set=0.7, subsample=1.0 will be ignored. Current value: bagging_fraction=0.7\n",
      "[LightGBM] [Warning] bagging_freq is set=10, subsample_freq=0 will be ignored. Current value: bagging_freq=10\n",
      "Training until validation scores don't improve for 1000 rounds\n",
      "[500]\tvalid_0's quantile: 0.0841142\n",
      "[1000]\tvalid_0's quantile: 0.0820595\n",
      "[1500]\tvalid_0's quantile: 0.0817448\n",
      "Did not meet early stopping. Best iteration is:\n",
      "[1500]\tvalid_0's quantile: 0.0817448\n",
      "0.7\n",
      "[LightGBM] [Warning] feature_fraction is set=0.7, colsample_bytree=1.0 will be ignored. Current value: feature_fraction=0.7\n",
      "[LightGBM] [Warning] bagging_fraction is set=0.7, subsample=1.0 will be ignored. Current value: bagging_fraction=0.7\n",
      "[LightGBM] [Warning] bagging_freq is set=10, subsample_freq=0 will be ignored. Current value: bagging_freq=10\n",
      "Training until validation scores don't improve for 1000 rounds\n",
      "[500]\tvalid_0's quantile: 0.0689901\n",
      "[1000]\tvalid_0's quantile: 0.0676284\n",
      "[1500]\tvalid_0's quantile: 0.0670677\n",
      "Did not meet early stopping. Best iteration is:\n",
      "[1500]\tvalid_0's quantile: 0.0670677\n",
      "0.8\n",
      "[LightGBM] [Warning] feature_fraction is set=0.7, colsample_bytree=1.0 will be ignored. Current value: feature_fraction=0.7\n",
      "[LightGBM] [Warning] bagging_fraction is set=0.7, subsample=1.0 will be ignored. Current value: bagging_fraction=0.7\n",
      "[LightGBM] [Warning] bagging_freq is set=10, subsample_freq=0 will be ignored. Current value: bagging_freq=10\n",
      "Training until validation scores don't improve for 1000 rounds\n",
      "[500]\tvalid_0's quantile: 0.0504897\n",
      "[1000]\tvalid_0's quantile: 0.0493483\n",
      "[1500]\tvalid_0's quantile: 0.0490018\n",
      "Did not meet early stopping. Best iteration is:\n",
      "[1500]\tvalid_0's quantile: 0.0490018\n",
      "0.9\n",
      "[LightGBM] [Warning] feature_fraction is set=0.7, colsample_bytree=1.0 will be ignored. Current value: feature_fraction=0.7\n",
      "[LightGBM] [Warning] bagging_fraction is set=0.7, subsample=1.0 will be ignored. Current value: bagging_fraction=0.7\n",
      "[LightGBM] [Warning] bagging_freq is set=10, subsample_freq=0 will be ignored. Current value: bagging_freq=10\n",
      "Training until validation scores don't improve for 1000 rounds\n",
      "[500]\tvalid_0's quantile: 0.0282385\n",
      "[1000]\tvalid_0's quantile: 0.0276429\n",
      "[1500]\tvalid_0's quantile: 0.0275758\n",
      "Did not meet early stopping. Best iteration is:\n",
      "[1485]\tvalid_0's quantile: 0.0275727\n",
      "0.1\n",
      "[LightGBM] [Warning] feature_fraction is set=0.7, colsample_bytree=1.0 will be ignored. Current value: feature_fraction=0.7\n",
      "[LightGBM] [Warning] bagging_fraction is set=0.7, subsample=1.0 will be ignored. Current value: bagging_fraction=0.7\n",
      "[LightGBM] [Warning] bagging_freq is set=10, subsample_freq=0 will be ignored. Current value: bagging_freq=10\n",
      "Training until validation scores don't improve for 1000 rounds\n",
      "[500]\tvalid_0's quantile: 0.0747896\n",
      "[1000]\tvalid_0's quantile: 0.0748028\n",
      "[1500]\tvalid_0's quantile: 0.0721177\n",
      "[2000]\tvalid_0's quantile: 0.0701045\n",
      "[2500]\tvalid_0's quantile: 0.0686664\n",
      "[3000]\tvalid_0's quantile: 0.0679536\n",
      "Did not meet early stopping. Best iteration is:\n",
      "[2998]\tvalid_0's quantile: 0.0679532\n",
      "0.2\n",
      "[LightGBM] [Warning] feature_fraction is set=0.7, colsample_bytree=1.0 will be ignored. Current value: feature_fraction=0.7\n",
      "[LightGBM] [Warning] bagging_fraction is set=0.7, subsample=1.0 will be ignored. Current value: bagging_fraction=0.7\n",
      "[LightGBM] [Warning] bagging_freq is set=10, subsample_freq=0 will be ignored. Current value: bagging_freq=10\n",
      "Training until validation scores don't improve for 1000 rounds\n",
      "[500]\tvalid_0's quantile: 0.0952138\n",
      "[1000]\tvalid_0's quantile: 0.0951695\n",
      "[1500]\tvalid_0's quantile: 0.0947711\n",
      "[2000]\tvalid_0's quantile: 0.0931685\n",
      "[2500]\tvalid_0's quantile: 0.0911102\n",
      "[3000]\tvalid_0's quantile: 0.0895056\n",
      "Did not meet early stopping. Best iteration is:\n",
      "[2993]\tvalid_0's quantile: 0.0895048\n",
      "0.3\n",
      "[LightGBM] [Warning] feature_fraction is set=0.7, colsample_bytree=1.0 will be ignored. Current value: feature_fraction=0.7\n",
      "[LightGBM] [Warning] bagging_fraction is set=0.7, subsample=1.0 will be ignored. Current value: bagging_fraction=0.7\n",
      "[LightGBM] [Warning] bagging_freq is set=10, subsample_freq=0 will be ignored. Current value: bagging_freq=10\n",
      "Training until validation scores don't improve for 1000 rounds\n",
      "[500]\tvalid_0's quantile: 0.107578\n",
      "[1000]\tvalid_0's quantile: 0.10514\n",
      "[1500]\tvalid_0's quantile: 0.102097\n",
      "[2000]\tvalid_0's quantile: 0.0994652\n",
      "[2500]\tvalid_0's quantile: 0.0977601\n",
      "[3000]\tvalid_0's quantile: 0.0965366\n",
      "Did not meet early stopping. Best iteration is:\n",
      "[3000]\tvalid_0's quantile: 0.0965366\n",
      "0.4\n",
      "[LightGBM] [Warning] feature_fraction is set=0.7, colsample_bytree=1.0 will be ignored. Current value: feature_fraction=0.7\n",
      "[LightGBM] [Warning] bagging_fraction is set=0.7, subsample=1.0 will be ignored. Current value: bagging_fraction=0.7\n",
      "[LightGBM] [Warning] bagging_freq is set=10, subsample_freq=0 will be ignored. Current value: bagging_freq=10\n",
      "Training until validation scores don't improve for 1000 rounds\n",
      "[500]\tvalid_0's quantile: 0.102331\n",
      "[1000]\tvalid_0's quantile: 0.100263\n",
      "[1500]\tvalid_0's quantile: 0.0999424\n",
      "[2000]\tvalid_0's quantile: 0.0988812\n",
      "[2500]\tvalid_0's quantile: 0.0975843\n",
      "[3000]\tvalid_0's quantile: 0.0963977\n",
      "Did not meet early stopping. Best iteration is:\n",
      "[3000]\tvalid_0's quantile: 0.0963977\n",
      "0.5\n",
      "[LightGBM] [Warning] feature_fraction is set=0.7, colsample_bytree=1.0 will be ignored. Current value: feature_fraction=0.7\n",
      "[LightGBM] [Warning] bagging_fraction is set=0.7, subsample=1.0 will be ignored. Current value: bagging_fraction=0.7\n",
      "[LightGBM] [Warning] bagging_freq is set=10, subsample_freq=0 will be ignored. Current value: bagging_freq=10\n",
      "Training until validation scores don't improve for 1000 rounds\n",
      "[500]\tvalid_0's quantile: 0.0954745\n",
      "[1000]\tvalid_0's quantile: 0.0909738\n",
      "[1500]\tvalid_0's quantile: 0.0903689\n",
      "[2000]\tvalid_0's quantile: 0.0902484\n",
      "[2500]\tvalid_0's quantile: 0.0900169\n",
      "[3000]\tvalid_0's quantile: 0.089514\n",
      "Did not meet early stopping. Best iteration is:\n",
      "[3000]\tvalid_0's quantile: 0.089514\n",
      "0.6\n",
      "[LightGBM] [Warning] feature_fraction is set=0.7, colsample_bytree=1.0 will be ignored. Current value: feature_fraction=0.7\n",
      "[LightGBM] [Warning] bagging_fraction is set=0.7, subsample=1.0 will be ignored. Current value: bagging_fraction=0.7\n",
      "[LightGBM] [Warning] bagging_freq is set=10, subsample_freq=0 will be ignored. Current value: bagging_freq=10\n",
      "Training until validation scores don't improve for 1000 rounds\n",
      "[500]\tvalid_0's quantile: 0.0841142\n",
      "[1000]\tvalid_0's quantile: 0.0820595\n",
      "[1500]\tvalid_0's quantile: 0.0817448\n",
      "[2000]\tvalid_0's quantile: 0.0815724\n",
      "[2500]\tvalid_0's quantile: 0.0811665\n",
      "[3000]\tvalid_0's quantile: 0.0807018\n",
      "Did not meet early stopping. Best iteration is:\n",
      "[3000]\tvalid_0's quantile: 0.0807018\n",
      "0.7\n",
      "[LightGBM] [Warning] feature_fraction is set=0.7, colsample_bytree=1.0 will be ignored. Current value: feature_fraction=0.7\n",
      "[LightGBM] [Warning] bagging_fraction is set=0.7, subsample=1.0 will be ignored. Current value: bagging_fraction=0.7\n",
      "[LightGBM] [Warning] bagging_freq is set=10, subsample_freq=0 will be ignored. Current value: bagging_freq=10\n",
      "Training until validation scores don't improve for 1000 rounds\n",
      "[500]\tvalid_0's quantile: 0.0689901\n",
      "[1000]\tvalid_0's quantile: 0.0676284\n",
      "[1500]\tvalid_0's quantile: 0.0670677\n",
      "[2000]\tvalid_0's quantile: 0.066573\n",
      "[2500]\tvalid_0's quantile: 0.066159\n",
      "[3000]\tvalid_0's quantile: 0.0660327\n",
      "Did not meet early stopping. Best iteration is:\n",
      "[2993]\tvalid_0's quantile: 0.0660326\n",
      "0.8\n",
      "[LightGBM] [Warning] feature_fraction is set=0.7, colsample_bytree=1.0 will be ignored. Current value: feature_fraction=0.7\n",
      "[LightGBM] [Warning] bagging_fraction is set=0.7, subsample=1.0 will be ignored. Current value: bagging_fraction=0.7\n",
      "[LightGBM] [Warning] bagging_freq is set=10, subsample_freq=0 will be ignored. Current value: bagging_freq=10\n",
      "Training until validation scores don't improve for 1000 rounds\n",
      "[500]\tvalid_0's quantile: 0.0504897\n",
      "[1000]\tvalid_0's quantile: 0.0493483\n",
      "[1500]\tvalid_0's quantile: 0.0490018\n",
      "[2000]\tvalid_0's quantile: 0.0487068\n",
      "[2500]\tvalid_0's quantile: 0.0484568\n",
      "[3000]\tvalid_0's quantile: 0.0482499\n",
      "Did not meet early stopping. Best iteration is:\n",
      "[3000]\tvalid_0's quantile: 0.0482499\n",
      "0.9\n",
      "[LightGBM] [Warning] feature_fraction is set=0.7, colsample_bytree=1.0 will be ignored. Current value: feature_fraction=0.7\n",
      "[LightGBM] [Warning] bagging_fraction is set=0.7, subsample=1.0 will be ignored. Current value: bagging_fraction=0.7\n",
      "[LightGBM] [Warning] bagging_freq is set=10, subsample_freq=0 will be ignored. Current value: bagging_freq=10\n",
      "Training until validation scores don't improve for 1000 rounds\n",
      "[500]\tvalid_0's quantile: 0.0282385\n",
      "[1000]\tvalid_0's quantile: 0.0276429\n",
      "[1500]\tvalid_0's quantile: 0.0275758\n",
      "[2000]\tvalid_0's quantile: 0.027521\n",
      "[2500]\tvalid_0's quantile: 0.0274923\n",
      "[3000]\tvalid_0's quantile: 0.0274591\n",
      "Did not meet early stopping. Best iteration is:\n",
      "[2997]\tvalid_0's quantile: 0.0274581\n"
     ]
    }
   ],
   "source": [
    "from sklearn.model_selection import train_test_split\n",
    "X_train_8, X_valid_8, Y_train_8, Y_valid_8 = train_test_split(train.iloc[:, :-2], \n",
    "                                                              train.iloc[:, -1], \n",
    "                                                              test_size=0.3, \n",
    "                                                              random_state=0)\n",
    "\n",
    "for i in range(len(par)):\n",
    "    param={\"objective\":'quantile',\n",
    "            \"n_estimators\":par.loc[i,\"n_est\"],\"bagging_fraction\":0.7, \n",
    "            \"learning_rate\":0.027, \"feature_fraction\":0.7,\n",
    "            \"feature_fraction_bynode\":0.8,\"bagging_freq\":10,\n",
    "            \"num_leaves\":par.loc[i,\"num_leav\"]}                   \n",
    "\n",
    "\n",
    "    models_8, results_8 = train_data(X_train_8, Y_train_8, \n",
    "                                     X_valid_8, Y_valid_8,\n",
    "                                     X_test,param)\n",
    "    \n",
    "    joblib.dump(models_8, sub_path8+'model8_%s.pkl'%i)\n",
    "    results_8.to_csv(sub_path8+\"result8_%s.csv\"%i,index=False)\n"
   ]
  },
  {
   "cell_type": "markdown",
   "metadata": {},
   "source": [
    "--------------------------------------------------------"
   ]
  },
  {
   "cell_type": "markdown",
   "metadata": {},
   "source": [
    "--------------------------------------------------------"
   ]
  },
  {
   "cell_type": "markdown",
   "metadata": {},
   "source": [
    "## 제출파일"
   ]
  },
  {
   "cell_type": "code",
   "execution_count": 91,
   "metadata": {
    "collapsed": true,
    "jupyter": {
     "outputs_hidden": true
    }
   },
   "outputs": [],
   "source": [
    "submission = pd.read_csv('./sample_submission.csv')"
   ]
  },
  {
   "cell_type": "markdown",
   "metadata": {},
   "source": [
    "### 예측파일 불러오기"
   ]
  },
  {
   "cell_type": "markdown",
   "metadata": {},
   "source": [
    "#k랑 model_n을 원한걸로 바꿔서"
   ]
  },
  {
   "cell_type": "code",
   "execution_count": 100,
   "metadata": {
    "collapsed": true,
    "jupyter": {
     "outputs_hidden": true
    }
   },
   "outputs": [],
   "source": [
    "pred7=subb(sub_path7,k=1,model_n=1,log=True)"
   ]
  },
  {
   "cell_type": "code",
   "execution_count": 103,
   "metadata": {
    "collapsed": true,
    "jupyter": {
     "outputs_hidden": true
    }
   },
   "outputs": [],
   "source": [
    "pred8=subb(sub_path8,k=1,model_n=2,day=8,log=True)"
   ]
  },
  {
   "cell_type": "markdown",
   "metadata": {},
   "source": [
    " "
   ]
  },
  {
   "cell_type": "markdown",
   "metadata": {},
   "source": [
    "### submission값을 예측값으로 대체"
   ]
  },
  {
   "cell_type": "code",
   "execution_count": 107,
   "metadata": {
    "collapsed": true,
    "jupyter": {
     "outputs_hidden": true
    }
   },
   "outputs": [],
   "source": [
    "submission.loc[submission.id.str.contains(\"Day7\"), \"q_0.1\":] =pred7.sort_index().values\n",
    "\n",
    "submission.loc[submission.id.str.contains(\"Day8\"), \"q_0.1\":] = pred8.sort_index().values"
   ]
  },
  {
   "cell_type": "markdown",
   "metadata": {},
   "source": [
    " "
   ]
  },
  {
   "cell_type": "markdown",
   "metadata": {},
   "source": [
    " ### 제출파일저장"
   ]
  },
  {
   "cell_type": "code",
   "execution_count": 108,
   "metadata": {
    "collapsed": true,
    "jupyter": {
     "outputs_hidden": true
    }
   },
   "outputs": [],
   "source": [
    "submission.to_csv(\"./sub.csv\",index=False)"
   ]
  }
 ],
 "metadata": {
  "kernelspec": {
   "display_name": "Python 3",
   "language": "python",
   "name": "python3"
  },
  "language_info": {
   "codemirror_mode": {
    "name": "ipython",
    "version": 3
   },
   "file_extension": ".py",
   "mimetype": "text/x-python",
   "name": "python",
   "nbconvert_exporter": "python",
   "pygments_lexer": "ipython3",
   "version": "3.8.5"
  }
 },
 "nbformat": 4,
 "nbformat_minor": 4
}
